{
 "cells": [
  {
   "cell_type": "code",
   "execution_count": 1,
   "metadata": {},
   "outputs": [],
   "source": [
    "import pandas as pd\n",
    "import numpy as np\n",
    "import matplotlib.pyplot as plt\n",
    "import seaborn as sns\n",
    "import scipy.stats as stats\n",
    "\n",
    "# modelos\n",
    "from sklearn.linear_model import LogisticRegression\n",
    "from sklearn.naive_bayes import GaussianNB\n",
    "from sklearn.svm import SVC\n",
    "from sklearn.neighbors import KNeighborsClassifier\n",
    "from sklearn.tree import DecisionTreeClassifier\n",
    "from sklearn.ensemble import RandomForestClassifier\n",
    "from sklearn.ensemble import GradientBoostingClassifier\n",
    "from sklearn.model_selection import GridSearchCV\n",
    "\n",
    "from sklearn.discriminant_analysis import LinearDiscriminantAnalysis, QuadraticDiscriminantAnalysis\n",
    "from sklearn.ensemble import RandomForestClassifier, AdaBoostClassifier, GradientBoostingClassifier\n",
    "from xgboost import XGBClassifier\n",
    "from lightgbm import LGBMClassifier\n",
    "\n",
    "\n",
    "# metricas\n",
    "from sklearn.metrics import roc_auc_score\n",
    "from sklearn.metrics import accuracy_score\n",
    "from sklearn.metrics import accuracy_score, precision_score, recall_score, f1_score\n",
    "\n",
    "# gestion de train-test\n",
    "from sklearn.model_selection import train_test_split\n",
    "\n",
    "# transformaciones\n",
    "from sklearn.preprocessing import MinMaxScaler\n",
    "\n",
    "\n",
    "from sklearn.datasets import make_classification\n",
    "from imblearn.over_sampling import SMOTE\n",
    "from imblearn.under_sampling import RandomUnderSampler\n",
    "from imblearn.combine import SMOTEENN"
   ]
  },
  {
   "cell_type": "code",
   "execution_count": 2,
   "metadata": {},
   "outputs": [
    {
     "data": {
      "text/html": [
       "<div>\n",
       "<style scoped>\n",
       "    .dataframe tbody tr th:only-of-type {\n",
       "        vertical-align: middle;\n",
       "    }\n",
       "\n",
       "    .dataframe tbody tr th {\n",
       "        vertical-align: top;\n",
       "    }\n",
       "\n",
       "    .dataframe thead th {\n",
       "        text-align: right;\n",
       "    }\n",
       "</style>\n",
       "<table border=\"1\" class=\"dataframe\">\n",
       "  <thead>\n",
       "    <tr style=\"text-align: right;\">\n",
       "      <th></th>\n",
       "      <th>Sample ID</th>\n",
       "      <th>Grab ID</th>\n",
       "      <th>Profile ID</th>\n",
       "      <th>Sample Number</th>\n",
       "      <th>Collect DateTime</th>\n",
       "      <th>Depth (m)</th>\n",
       "      <th>Site Type</th>\n",
       "      <th>Area</th>\n",
       "      <th>Locator</th>\n",
       "      <th>Site</th>\n",
       "      <th>...</th>\n",
       "      <th>MDL</th>\n",
       "      <th>RDL</th>\n",
       "      <th>Text Value</th>\n",
       "      <th>Sample Info</th>\n",
       "      <th>Steward Note</th>\n",
       "      <th>Replicates</th>\n",
       "      <th>Replicate Of</th>\n",
       "      <th>Method</th>\n",
       "      <th>Date Analyzed</th>\n",
       "      <th>Data Source</th>\n",
       "    </tr>\n",
       "  </thead>\n",
       "  <tbody>\n",
       "    <tr>\n",
       "      <th>0</th>\n",
       "      <td>16316</td>\n",
       "      <td>16316.0</td>\n",
       "      <td>10702</td>\n",
       "      <td>9209019</td>\n",
       "      <td>04/13/1992 12:00:00 AM</td>\n",
       "      <td>1.0</td>\n",
       "      <td>Streams and Rivers</td>\n",
       "      <td>Pipers</td>\n",
       "      <td>KSHZ06</td>\n",
       "      <td>Pipers Creek mouth</td>\n",
       "      <td>...</td>\n",
       "      <td>NaN</td>\n",
       "      <td>NaN</td>\n",
       "      <td>.070||King County Nstream Database/B53311</td>\n",
       "      <td>NaN</td>\n",
       "      <td>NaN</td>\n",
       "      <td>NaN</td>\n",
       "      <td>NaN</td>\n",
       "      <td>none</td>\n",
       "      <td>NaN</td>\n",
       "      <td>KCEL</td>\n",
       "    </tr>\n",
       "    <tr>\n",
       "      <th>1</th>\n",
       "      <td>8937</td>\n",
       "      <td>8937.0</td>\n",
       "      <td>37688</td>\n",
       "      <td>7915489</td>\n",
       "      <td>06/20/1979 12:00:00 AM</td>\n",
       "      <td>1.0</td>\n",
       "      <td>Streams and Rivers</td>\n",
       "      <td>Crisp</td>\n",
       "      <td>0321</td>\n",
       "      <td>Crisp Creek mouth at SE Green Valley Rd</td>\n",
       "      <td>...</td>\n",
       "      <td>NaN</td>\n",
       "      <td>NaN</td>\n",
       "      <td>.727||King County Nstream Database/RS2</td>\n",
       "      <td>NaN</td>\n",
       "      <td>NaN</td>\n",
       "      <td>NaN</td>\n",
       "      <td>NaN</td>\n",
       "      <td>NaN</td>\n",
       "      <td>NaN</td>\n",
       "      <td>KCEL</td>\n",
       "    </tr>\n",
       "    <tr>\n",
       "      <th>2</th>\n",
       "      <td>137745</td>\n",
       "      <td>137745.0</td>\n",
       "      <td>54368</td>\n",
       "      <td>L58228-1</td>\n",
       "      <td>06/25/2013 08:09:00 AM</td>\n",
       "      <td>1.0</td>\n",
       "      <td>Large Lakes</td>\n",
       "      <td>Lake Union/Ship Canal</td>\n",
       "      <td>0512</td>\n",
       "      <td>Ship Canal above locks</td>\n",
       "      <td>...</td>\n",
       "      <td>NaN</td>\n",
       "      <td>NaN</td>\n",
       "      <td>NaN</td>\n",
       "      <td>NaN</td>\n",
       "      <td>NaN</td>\n",
       "      <td>NaN</td>\n",
       "      <td>NaN</td>\n",
       "      <td>HYDROLAB</td>\n",
       "      <td>06/25/2013</td>\n",
       "      <td>KCEL</td>\n",
       "    </tr>\n",
       "    <tr>\n",
       "      <th>3</th>\n",
       "      <td>131816</td>\n",
       "      <td>131816.0</td>\n",
       "      <td>50605</td>\n",
       "      <td>L55068-6</td>\n",
       "      <td>02/13/2012 09:38:00 AM</td>\n",
       "      <td>1.0</td>\n",
       "      <td>Large Lakes</td>\n",
       "      <td>Lake Union/Ship Canal</td>\n",
       "      <td>0540</td>\n",
       "      <td>Ship Canal near Montlake Bridge</td>\n",
       "      <td>...</td>\n",
       "      <td>0.002</td>\n",
       "      <td>0.005</td>\n",
       "      <td>NaN</td>\n",
       "      <td>NaN</td>\n",
       "      <td>NaN</td>\n",
       "      <td>NaN</td>\n",
       "      <td>NaN</td>\n",
       "      <td>SM4500-P-F</td>\n",
       "      <td>02/15/2012</td>\n",
       "      <td>KCEL</td>\n",
       "    </tr>\n",
       "    <tr>\n",
       "      <th>4</th>\n",
       "      <td>82325</td>\n",
       "      <td>82325.0</td>\n",
       "      <td>43896</td>\n",
       "      <td>L52933-87</td>\n",
       "      <td>03/30/2011 02:36:00 PM</td>\n",
       "      <td>4.2</td>\n",
       "      <td>Large Lakes</td>\n",
       "      <td>Lake Washington</td>\n",
       "      <td>0804</td>\n",
       "      <td>Lake Washington north end</td>\n",
       "      <td>...</td>\n",
       "      <td>NaN</td>\n",
       "      <td>NaN</td>\n",
       "      <td>NaN</td>\n",
       "      <td>NaN</td>\n",
       "      <td>NaN</td>\n",
       "      <td>NaN</td>\n",
       "      <td>NaN</td>\n",
       "      <td>HYDROLAB</td>\n",
       "      <td>NaN</td>\n",
       "      <td>KCEL</td>\n",
       "    </tr>\n",
       "  </tbody>\n",
       "</table>\n",
       "<p>5 rows × 25 columns</p>\n",
       "</div>"
      ],
      "text/plain": [
       "   Sample ID   Grab ID  Profile ID Sample Number        Collect DateTime  \\\n",
       "0      16316   16316.0       10702       9209019  04/13/1992 12:00:00 AM   \n",
       "1       8937    8937.0       37688       7915489  06/20/1979 12:00:00 AM   \n",
       "2     137745  137745.0       54368      L58228-1  06/25/2013 08:09:00 AM   \n",
       "3     131816  131816.0       50605      L55068-6  02/13/2012 09:38:00 AM   \n",
       "4      82325   82325.0       43896     L52933-87  03/30/2011 02:36:00 PM   \n",
       "\n",
       "   Depth (m)           Site Type                   Area Locator  \\\n",
       "0        1.0  Streams and Rivers                 Pipers  KSHZ06   \n",
       "1        1.0  Streams and Rivers                  Crisp    0321   \n",
       "2        1.0         Large Lakes  Lake Union/Ship Canal    0512   \n",
       "3        1.0         Large Lakes  Lake Union/Ship Canal    0540   \n",
       "4        4.2         Large Lakes        Lake Washington    0804   \n",
       "\n",
       "                                      Site  ...    MDL    RDL  \\\n",
       "0                       Pipers Creek mouth  ...    NaN    NaN   \n",
       "1  Crisp Creek mouth at SE Green Valley Rd  ...    NaN    NaN   \n",
       "2                   Ship Canal above locks  ...    NaN    NaN   \n",
       "3          Ship Canal near Montlake Bridge  ...  0.002  0.005   \n",
       "4                Lake Washington north end  ...    NaN    NaN   \n",
       "\n",
       "                                  Text Value  Sample Info Steward Note  \\\n",
       "0  .070||King County Nstream Database/B53311          NaN          NaN   \n",
       "1     .727||King County Nstream Database/RS2          NaN          NaN   \n",
       "2                                        NaN          NaN          NaN   \n",
       "3                                        NaN          NaN          NaN   \n",
       "4                                        NaN          NaN          NaN   \n",
       "\n",
       "   Replicates  Replicate Of      Method Date Analyzed Data Source  \n",
       "0         NaN           NaN        none           NaN        KCEL  \n",
       "1         NaN           NaN         NaN           NaN        KCEL  \n",
       "2         NaN           NaN    HYDROLAB    06/25/2013        KCEL  \n",
       "3         NaN           NaN  SM4500-P-F    02/15/2012        KCEL  \n",
       "4         NaN           NaN    HYDROLAB           NaN        KCEL  \n",
       "\n",
       "[5 rows x 25 columns]"
      ]
     },
     "execution_count": 2,
     "metadata": {},
     "output_type": "execute_result"
    }
   ],
   "source": [
    "data0 = pd.read_csv(\"SRC/DATA/water-quality-1.csv\")\n",
    "data0.head()"
   ]
  },
  {
   "cell_type": "code",
   "execution_count": 3,
   "metadata": {},
   "outputs": [
    {
     "name": "stdout",
     "output_type": "stream",
     "text": [
      "(30000, 25)\n"
     ]
    }
   ],
   "source": [
    "data = data0[(data0['Site Type'] == \"Large Lakes\") | (data0['Site Type'] == 'Streams and Rivers')]\n",
    "dataPro = data.sample(30000, random_state=2024)\n",
    "print(dataPro.shape)\n",
    "#dataPro = data.sample(n=10000, random_state=10)"
   ]
  },
  {
   "cell_type": "code",
   "execution_count": 4,
   "metadata": {},
   "outputs": [
    {
     "data": {
      "image/png": "[encoded data removed]",
      "text/plain": [
       "<Figure size 1000x500 with 1 Axes>"
      ]
     },
     "metadata": {},
     "output_type": "display_data"
    }
   ],
   "source": [
    "fig = plt.figure(figsize=(10, 5)) \n",
    "dataPro['Site Type'].hist(bins=20, density=True, color='red', alpha=0.3)\n",
    "plt.title('Site Type') \n",
    "  \n",
    "\n",
    "plt.show()"
   ]
  },
  {
   "cell_type": "markdown",
   "metadata": {},
   "source": [
    "## 1. EDA - Exploratory Data Analysis"
   ]
  },
  {
   "cell_type": "markdown",
   "metadata": {},
   "source": [
    "Se analizo que la variable Data Source solo tiene un valor, por lo que no aportara nada al modelo y se decide eliminarla"
   ]
  },
  {
   "cell_type": "code",
   "execution_count": 5,
   "metadata": {},
   "outputs": [],
   "source": [
    "dataPro.drop(\"Data Source\", axis=1, inplace=True)"
   ]
  },
  {
   "cell_type": "markdown",
   "metadata": {},
   "source": [
    "## 1. Imputación de Datos Faltantes\n"
   ]
  },
  {
   "cell_type": "markdown",
   "metadata": {},
   "source": [
    "#### Verificamos porcentaje faltantes por columna"
   ]
  },
  {
   "cell_type": "code",
   "execution_count": 6,
   "metadata": {},
   "outputs": [
    {
     "data": {
      "text/plain": [
       "Sample ID           0.000000\n",
       "Grab ID             0.282233\n",
       "Profile ID          0.000000\n",
       "Sample Number       0.000000\n",
       "Collect DateTime    0.000000\n",
       "Depth (m)           0.282233\n",
       "Site Type           0.000000\n",
       "Area                0.000000\n",
       "Locator             0.000000\n",
       "Site                0.000000\n",
       "Parameter           0.000000\n",
       "Value               0.089633\n",
       "Units               0.000567\n",
       "QualityId           0.000000\n",
       "Lab Qualifier       0.879100\n",
       "MDL                 0.517233\n",
       "RDL                 0.517533\n",
       "Text Value          0.815900\n",
       "Sample Info         1.000000\n",
       "Steward Note        0.999867\n",
       "Replicates          0.998467\n",
       "Replicate Of        0.998767\n",
       "Method              0.156933\n",
       "Date Analyzed       0.564533\n",
       "dtype: float64"
      ]
     },
     "execution_count": 6,
     "metadata": {},
     "output_type": "execute_result"
    }
   ],
   "source": [
    "dataPro.isnull().mean()"
   ]
  },
  {
   "cell_type": "markdown",
   "metadata": {},
   "source": [
    "### 1.1 - Escala de Variables"
   ]
  },
  {
   "cell_type": "code",
   "execution_count": 7,
   "metadata": {},
   "outputs": [
    {
     "data": {
      "text/plain": [
       "['Sample Number',\n",
       " 'Collect DateTime',\n",
       " 'Site Type',\n",
       " 'Area',\n",
       " 'Locator',\n",
       " 'Site',\n",
       " 'Parameter',\n",
       " 'Units',\n",
       " 'Lab Qualifier',\n",
       " 'Text Value',\n",
       " 'Sample Info',\n",
       " 'Steward Note',\n",
       " 'Method',\n",
       " 'Date Analyzed']"
      ]
     },
     "execution_count": 7,
     "metadata": {},
     "output_type": "execute_result"
    }
   ],
   "source": [
    "categoricas = [col for col in dataPro.columns if(dataPro[col].dtypes == 'object')]\n",
    "categoricas"
   ]
  },
  {
   "cell_type": "code",
   "execution_count": 8,
   "metadata": {},
   "outputs": [
    {
     "data": {
      "text/plain": [
       "['Sample ID',\n",
       " 'Grab ID',\n",
       " 'Profile ID',\n",
       " 'Depth (m)',\n",
       " 'Value',\n",
       " 'MDL',\n",
       " 'RDL',\n",
       " 'Replicates',\n",
       " 'Replicate Of']"
      ]
     },
     "execution_count": 8,
     "metadata": {},
     "output_type": "execute_result"
    }
   ],
   "source": [
    "continuas = [col for col in dataPro.columns if((dataPro[col].dtypes in ['int64', 'float64']) and len(dataPro[col].unique()) > 30)]\n",
    "continuas"
   ]
  },
  {
   "cell_type": "code",
   "execution_count": 9,
   "metadata": {},
   "outputs": [
    {
     "data": {
      "text/plain": [
       "['QualityId']"
      ]
     },
     "execution_count": 9,
     "metadata": {},
     "output_type": "execute_result"
    }
   ],
   "source": [
    "discretas = [col for col in dataPro.columns if((dataPro[col].dtypes in ['int64', 'float64']) and len(dataPro[col].unique()) <= 30)]\n",
    "discretas"
   ]
  },
  {
   "cell_type": "markdown",
   "metadata": {},
   "source": [
    "## 2. - Balanceo del Dataset"
   ]
  },
  {
   "cell_type": "code",
   "execution_count": 10,
   "metadata": {},
   "outputs": [
    {
     "data": {
      "text/plain": [
       "Site Type\n",
       "Large Lakes           0.639433\n",
       "Streams and Rivers    0.360567\n",
       "Name: proportion, dtype: float64"
      ]
     },
     "execution_count": 10,
     "metadata": {},
     "output_type": "execute_result"
    }
   ],
   "source": [
    "dataPro['Site Type'].value_counts(normalize=True)"
   ]
  },
  {
   "cell_type": "code",
   "execution_count": 11,
   "metadata": {},
   "outputs": [
    {
     "data": {
      "text/plain": [
       "Text(0.5, 1.0, 'Site Type')"
      ]
     },
     "execution_count": 11,
     "metadata": {},
     "output_type": "execute_result"
    },
    {
     "data": {
      "image/png": "[encoded data removed]",
      "text/plain": [
       "<Figure size 1000x500 with 1 Axes>"
      ]
     },
     "metadata": {},
     "output_type": "display_data"
    }
   ],
   "source": [
    "fig = plt.figure(figsize=(10, 5))\n",
    "plt.subplot(121)\n",
    "dataPro['Site Type'].hist(bins=20, density=True, color='red', alpha=0.3)\n",
    "plt.title('Site Type')  "
   ]
  },
  {
   "cell_type": "code",
   "execution_count": 12,
   "metadata": {},
   "outputs": [],
   "source": [
    "## Seleccion de Target y Features\n",
    "X = dataPro.drop(\"Site Type\", axis=1) #Feature - lo que voy a usar para predecir\n",
    "y = dataPro[\"Site Type\"] # target - lo que voy a predecir"
   ]
  },
  {
   "cell_type": "markdown",
   "metadata": {},
   "source": [
    "### 3.1.- Imputacion de Variables"
   ]
  },
  {
   "cell_type": "code",
   "execution_count": 13,
   "metadata": {},
   "outputs": [
    {
     "data": {
      "text/plain": [
       "Grab ID         0.282233\n",
       "Depth (m)       0.282233\n",
       "Value           0.089633\n",
       "MDL             0.517233\n",
       "RDL             0.517533\n",
       "Replicates      0.998467\n",
       "Replicate Of    0.998767\n",
       "dtype: float64"
      ]
     },
     "execution_count": 13,
     "metadata": {},
     "output_type": "execute_result"
    }
   ],
   "source": [
    "continuas_con_na = [col for col in continuas if dataPro[col].isnull().mean() > 0]\n",
    "dataPro[continuas_con_na].isnull().mean() "
   ]
  },
  {
   "cell_type": "code",
   "execution_count": 14,
   "metadata": {},
   "outputs": [
    {
     "data": {
      "text/plain": [
       "MDL             0.517233\n",
       "RDL             0.517533\n",
       "Replicates      0.998467\n",
       "Replicate Of    0.998767\n",
       "dtype: float64"
      ]
     },
     "execution_count": 14,
     "metadata": {},
     "output_type": "execute_result"
    }
   ],
   "source": [
    "continuas_con_na = [col for col in continuas_con_na if dataPro[col].isnull().mean() > 0.5]\n",
    "dataPro[continuas_con_na].isnull().mean() "
   ]
  },
  {
   "cell_type": "code",
   "execution_count": 15,
   "metadata": {},
   "outputs": [],
   "source": [
    "dataPro.drop(continuas_con_na, axis=1, inplace=True)"
   ]
  },
  {
   "cell_type": "code",
   "execution_count": 16,
   "metadata": {},
   "outputs": [
    {
     "data": {
      "text/plain": [
       "Sample ID     0.000000\n",
       "Grab ID       0.282233\n",
       "Profile ID    0.000000\n",
       "Depth (m)     0.282233\n",
       "Value         0.089633\n",
       "dtype: float64"
      ]
     },
     "execution_count": 16,
     "metadata": {},
     "output_type": "execute_result"
    }
   ],
   "source": [
    "continuas = [col for col in dataPro.columns if((dataPro[col].dtypes in ['int64', 'float64']) and len(dataPro[col].unique()) > 30)]\n",
    "dataPro[continuas].isnull().mean() "
   ]
  },
  {
   "cell_type": "code",
   "execution_count": 17,
   "metadata": {},
   "outputs": [
    {
     "data": {
      "text/plain": [
       "Grab ID      0.282233\n",
       "Depth (m)    0.282233\n",
       "Value        0.089633\n",
       "dtype: float64"
      ]
     },
     "execution_count": 17,
     "metadata": {},
     "output_type": "execute_result"
    }
   ],
   "source": [
    "\n",
    "continuas_con_na = [col for col in continuas if dataPro[col].isnull().mean() > 0]\n",
    "dataPro[continuas_con_na].isnull().mean() "
   ]
  },
  {
   "cell_type": "code",
   "execution_count": 18,
   "metadata": {},
   "outputs": [
    {
     "data": {
      "text/plain": [
       "Sample ID     0.000000\n",
       "Grab ID       0.282233\n",
       "Profile ID    0.000000\n",
       "Depth (m)     0.282233\n",
       "Value         0.089633\n",
       "dtype: float64"
      ]
     },
     "execution_count": 18,
     "metadata": {},
     "output_type": "execute_result"
    }
   ],
   "source": [
    "continuas = [col for col in dataPro.columns if((dataPro[col].dtypes in ['int64', 'float64']) and len(dataPro[col].unique()) > 30)]\n",
    "dataPro[continuas].isnull().mean() \n"
   ]
  },
  {
   "cell_type": "code",
   "execution_count": 19,
   "metadata": {},
   "outputs": [],
   "source": [
    "mean_GrabID = round(dataPro['Grab ID'].mean(), 2)\n",
    "dataPro['Grab ID'].fillna(mean_GrabID, inplace=True)\n",
    "\n",
    "median_Depth = round(dataPro['Depth (m)'].median(), 2)\n",
    "dataPro['Depth (m)'].fillna(median_Depth, inplace=True)\n",
    "\n",
    "mean_value = round(dataPro['Value'].mean(), 2)\n",
    "dataPro['Value'].fillna(mean_value, inplace=True)"
   ]
  },
  {
   "cell_type": "code",
   "execution_count": 20,
   "metadata": {},
   "outputs": [],
   "source": [
    "categoricas_con_na = [col for col in categoricas if dataPro[col].isnull().mean() > 0]\n",
    "dataPro[categoricas_con_na].isnull().mean() \n",
    "\n",
    "categoricas_con_na_eliminar = [col for col in categoricas if dataPro[col].isnull().mean() > 0.2]\n",
    "dataPro[categoricas_con_na_eliminar].isnull().mean() \n",
    "\n",
    "dataPro.drop(categoricas_con_na_eliminar, axis=1, inplace=True)"
   ]
  },
  {
   "cell_type": "code",
   "execution_count": 21,
   "metadata": {},
   "outputs": [
    {
     "data": {
      "text/plain": [
       "Sample ID           0.0\n",
       "Grab ID             0.0\n",
       "Profile ID          0.0\n",
       "Sample Number       0.0\n",
       "Collect DateTime    0.0\n",
       "Depth (m)           0.0\n",
       "Site Type           0.0\n",
       "Area                0.0\n",
       "Locator             0.0\n",
       "Site                0.0\n",
       "Parameter           0.0\n",
       "Value               0.0\n",
       "Units               0.0\n",
       "QualityId           0.0\n",
       "Method              0.0\n",
       "dtype: float64"
      ]
     },
     "execution_count": 21,
     "metadata": {},
     "output_type": "execute_result"
    }
   ],
   "source": [
    "categoricas = [col for col in dataPro.columns if(dataPro[col].dtypes == 'object')]\n",
    "categoricas\n",
    "\n",
    "categoricas_con_na = [col for col in categoricas if dataPro[col].isnull().mean() > 0]\n",
    "dataPro[categoricas_con_na].isnull().mean() \n",
    "\n",
    "dataPro['Area'].fillna('Lake Washington', inplace=True)\n",
    "\n",
    "dataPro['Units'].fillna('mg/L', inplace=True)\n",
    "\n",
    "dataPro['Method'].fillna('NONE', inplace=True)\n",
    "\n",
    "dataPro.isnull().mean()\n",
    "\n"
   ]
  },
  {
   "cell_type": "markdown",
   "metadata": {},
   "source": [
    "### 3.2.- Codificacion de Variables Categóricas"
   ]
  },
  {
   "cell_type": "markdown",
   "metadata": {},
   "source": [
    "Para todas las variables excepto  **Site Type** aplicamos una codificacion por frecuencia"
   ]
  },
  {
   "cell_type": "markdown",
   "metadata": {},
   "source": [
    "Para todas las variables excepto **Site Type** aplicamos una codificacion por frecuencia"
   ]
  },
  {
   "cell_type": "code",
   "execution_count": 22,
   "metadata": {},
   "outputs": [],
   "source": [
    "for colName in categoricas:\n",
    "    if(colName not in [\"Site Type\"]):\n",
    "        encoder_dict = dataPro[colName].value_counts().to_dict()\n",
    "        dataPro[colName]=dataPro[colName].map(encoder_dict)\n"
   ]
  },
  {
   "cell_type": "markdown",
   "metadata": {},
   "source": [
    "### 3.2.2- Codificacion de Variable Target (Site Type)"
   ]
  },
  {
   "cell_type": "code",
   "execution_count": 23,
   "metadata": {},
   "outputs": [],
   "source": [
    "from sklearn.preprocessing import LabelEncoder\n",
    "\n",
    "encoder = LabelEncoder()\n",
    "\n",
    "dataPro[\"Site Type\"] = encoder.fit_transform(dataPro[\"Site Type\"])"
   ]
  },
  {
   "cell_type": "markdown",
   "metadata": {},
   "source": [
    "### 3.3 - Tratamiento de Outliers"
   ]
  },
  {
   "cell_type": "code",
   "execution_count": 24,
   "metadata": {},
   "outputs": [],
   "source": [
    "import scipy.stats as stats"
   ]
  },
  {
   "cell_type": "code",
   "execution_count": 25,
   "metadata": {},
   "outputs": [],
   "source": [
    "# Procedimiento para tratamiento de outliers con 1.5*IQR\n",
    "\n",
    "for colName in continuas:\n",
    "    IQR = dataPro[colName].quantile(0.75)-dataPro[colName].quantile(0.25)\n",
    "    LI = dataPro[colName].quantile(0.25)-1.5*IQR\n",
    "    LS = dataPro[colName].quantile(0.75)+1.5*IQR\n",
    "\n",
    "    dataPro[colName] = np.where(dataPro[colName]>LS,LS, \n",
    "                                    np.where(dataPro[colName]<LI,LI,dataPro[colName]))\n"
   ]
  },
  {
   "cell_type": "markdown",
   "metadata": {},
   "source": [
    "### 4.- Contruccion de Modelos"
   ]
  },
  {
   "cell_type": "code",
   "execution_count": 26,
   "metadata": {},
   "outputs": [],
   "source": [
    "## Seleccion de Target y Features\n",
    "X = dataPro.drop(\"Site Type\", axis=1) #Feature - lo que voy a usar para predecir\n",
    "y = dataPro[\"Site Type\"] # target - lo que voy a predecir"
   ]
  },
  {
   "cell_type": "code",
   "execution_count": 27,
   "metadata": {},
   "outputs": [],
   "source": [
    "# split para entrenamiento y prueba.\n",
    "X_train, X_test, y_train, y_test = train_test_split(X,y,test_size=0.4,random_state=42, shuffle=True)"
   ]
  },
  {
   "cell_type": "code",
   "execution_count": 28,
   "metadata": {},
   "outputs": [],
   "source": [
    "# creamos y aplicamos escalado de datos.\n",
    "scaler = MinMaxScaler()\n",
    "\n",
    "scaler.fit(X_train) #calculamos el scaler\n",
    "\n",
    "X_train_scaled = scaler.transform(X_train)\n",
    "X_test_scaled = scaler.transform(X_test)"
   ]
  },
  {
   "cell_type": "markdown",
   "metadata": {},
   "source": [
    "#### 4.1 - Naive Bayes"
   ]
  },
  {
   "cell_type": "code",
   "execution_count": 29,
   "metadata": {},
   "outputs": [
    {
     "name": "stdout",
     "output_type": "stream",
     "text": [
      "NB - Roc Auc Score:  0.9996889897916232\n"
     ]
    }
   ],
   "source": [
    "nb_classifier = GaussianNB()\n",
    "nb_classifier.fit(X_train_scaled,y_train)\n",
    "\n",
    "nb_predicts = nb_classifier.predict(X_test_scaled) \n",
    "acc = roc_auc_score(nb_predicts,y_test)\n",
    "print(\"NB - Roc Auc Score: \",acc)\n",
    " "
   ]
  },
  {
   "cell_type": "markdown",
   "metadata": {},
   "source": [
    "#### 4.1.1 - Naive Bayes - Hyperparametros"
   ]
  },
  {
   "cell_type": "code",
   "execution_count": 30,
   "metadata": {},
   "outputs": [
    {
     "name": "stdout",
     "output_type": "stream",
     "text": [
      "NB - Roc Auc Score:  0.9996889897916232\n"
     ]
    }
   ],
   "source": [
    "nb_classifier1 = GaussianNB(priors=[0.4, 0.6],var_smoothing=1e-11 )\n",
    "\n",
    "nb_classifier1.fit(X_train_scaled,y_train)\n",
    "\n",
    "nb_predicts1 = nb_classifier1.predict(X_test_scaled) \n",
    "acc = roc_auc_score(nb_predicts1,y_test)\n",
    "print(\"NB - Roc Auc Score: \",acc)"
   ]
  },
  {
   "cell_type": "code",
   "execution_count": 31,
   "metadata": {},
   "outputs": [
    {
     "name": "stdout",
     "output_type": "stream",
     "text": [
      "NB - Roc Auc Score:  0.9996889897916232\n"
     ]
    }
   ],
   "source": [
    "nb_classifier2 = GaussianNB(priors=[0.3, 0.7],var_smoothing=1e-7 )\n",
    "\n",
    "nb_classifier2.fit(X_train_scaled,y_train)\n",
    "\n",
    "nb_predicts2 = nb_classifier2.predict(X_test_scaled) \n",
    "acc = roc_auc_score(nb_predicts2,y_test)\n",
    "print(\"NB - Roc Auc Score: \",acc)"
   ]
  },
  {
   "cell_type": "code",
   "execution_count": 32,
   "metadata": {},
   "outputs": [
    {
     "name": "stdout",
     "output_type": "stream",
     "text": [
      "NB - Roc Auc Score:  0.9996889897916232\n"
     ]
    }
   ],
   "source": [
    "nb_classifier3 = GaussianNB(var_smoothing=1e-7 )\n",
    "\n",
    "nb_classifier3.fit(X_train_scaled,y_train)\n",
    "\n",
    "nb_predicts3 = nb_classifier3.predict(X_test_scaled) \n",
    "acc = roc_auc_score(nb_predicts3,y_test)\n",
    "print(\"NB - Roc Auc Score: \",acc)"
   ]
  },
  {
   "cell_type": "code",
   "execution_count": 33,
   "metadata": {},
   "outputs": [
    {
     "name": "stdout",
     "output_type": "stream",
     "text": [
      "NB - Roc Auc Score:  0.9996889897916232\n"
     ]
    }
   ],
   "source": [
    "nb_classifier4 = GaussianNB(priors=[0.3, 0.7] )\n",
    "\n",
    "nb_classifier4.fit(X_train_scaled,y_train)\n",
    "\n",
    "nb_predicts4 = nb_classifier4.predict(X_test_scaled) \n",
    "acc = roc_auc_score(nb_predicts4,y_test)\n",
    "print(\"NB - Roc Auc Score: \",acc)"
   ]
  },
  {
   "cell_type": "code",
   "execution_count": 34,
   "metadata": {},
   "outputs": [
    {
     "name": "stdout",
     "output_type": "stream",
     "text": [
      "Best parameters found:  {'priors': None, 'var_smoothing': 1e-09}\n",
      "Best score achieved:  1.0\n",
      "NB - Roc Auc Score:  0.9996889897916232\n"
     ]
    },
    {
     "name": "stderr",
     "output_type": "stream",
     "text": [
      "c:\\Users\\jggl_\\anaconda3\\Lib\\site-packages\\sklearn\\model_selection\\_validation.py:547: FitFailedWarning: \n",
      "60 fits failed out of a total of 90.\n",
      "The score on these train-test partitions for these parameters will be set to nan.\n",
      "If these failures are not expected, you can try to debug them by setting error_score='raise'.\n",
      "\n",
      "Below are more details about the failures:\n",
      "--------------------------------------------------------------------------------\n",
      "30 fits failed with the following error:\n",
      "Traceback (most recent call last):\n",
      "  File \"c:\\Users\\jggl_\\anaconda3\\Lib\\site-packages\\sklearn\\model_selection\\_validation.py\", line 895, in _fit_and_score\n",
      "    estimator.fit(X_train, y_train, **fit_params)\n",
      "  File \"c:\\Users\\jggl_\\anaconda3\\Lib\\site-packages\\sklearn\\base.py\", line 1467, in wrapper\n",
      "    estimator._validate_params()\n",
      "  File \"c:\\Users\\jggl_\\anaconda3\\Lib\\site-packages\\sklearn\\base.py\", line 666, in _validate_params\n",
      "    validate_parameter_constraints(\n",
      "  File \"c:\\Users\\jggl_\\anaconda3\\Lib\\site-packages\\sklearn\\utils\\_param_validation.py\", line 95, in validate_parameter_constraints\n",
      "    raise InvalidParameterError(\n",
      "sklearn.utils._param_validation.InvalidParameterError: The 'priors' parameter of GaussianNB must be an array-like or None. Got 0.3 instead.\n",
      "\n",
      "--------------------------------------------------------------------------------\n",
      "30 fits failed with the following error:\n",
      "Traceback (most recent call last):\n",
      "  File \"c:\\Users\\jggl_\\anaconda3\\Lib\\site-packages\\sklearn\\model_selection\\_validation.py\", line 895, in _fit_and_score\n",
      "    estimator.fit(X_train, y_train, **fit_params)\n",
      "  File \"c:\\Users\\jggl_\\anaconda3\\Lib\\site-packages\\sklearn\\base.py\", line 1467, in wrapper\n",
      "    estimator._validate_params()\n",
      "  File \"c:\\Users\\jggl_\\anaconda3\\Lib\\site-packages\\sklearn\\base.py\", line 666, in _validate_params\n",
      "    validate_parameter_constraints(\n",
      "  File \"c:\\Users\\jggl_\\anaconda3\\Lib\\site-packages\\sklearn\\utils\\_param_validation.py\", line 95, in validate_parameter_constraints\n",
      "    raise InvalidParameterError(\n",
      "sklearn.utils._param_validation.InvalidParameterError: The 'priors' parameter of GaussianNB must be an array-like or None. Got 0.7 instead.\n",
      "\n",
      "  warnings.warn(some_fits_failed_message, FitFailedWarning)\n",
      "c:\\Users\\jggl_\\anaconda3\\Lib\\site-packages\\sklearn\\model_selection\\_search.py:1051: UserWarning: One or more of the test scores are non-finite: [nan nan nan nan nan nan nan nan nan nan nan nan  1.  1.  1.  1.  1.  1.]\n",
      "  warnings.warn(\n"
     ]
    }
   ],
   "source": [
    "# NB Best.fit\n",
    "hyper_parameters = {\n",
    "    'var_smoothing': [1e-9, 1e-8, 1e-7, 1e-6, 1e-5, 1e-4],\n",
    "    'priors':[0.3, 0.7,None]\n",
    "}\n",
    "\n",
    "# Inicializar el clasificador\n",
    "nb_classifier = GaussianNB()\n",
    "\n",
    "# Configuración de la búsqueda de hiperparámetros\n",
    "nb_hyp_opt = GridSearchCV(estimator=nb_classifier, param_grid=hyper_parameters, cv=5, scoring=\"roc_auc\")\n",
    "\n",
    "# Entrenar el modelo y buscar los mejores hiperparámetros\n",
    "nb_hyp_opt.fit(X, y)\n",
    "\n",
    "# Revisar los mejores hiperparámetros y el mejor modelo\n",
    "print(\"Best parameters found: \", nb_hyp_opt.best_params_)\n",
    "print(\"Best score achieved: \", nb_hyp_opt.best_score_)\n",
    "\n",
    "acc = roc_auc_score(nb_predicts4,y_test)\n",
    "print(\"NB - Roc Auc Score: \",acc)"
   ]
  },
  {
   "cell_type": "markdown",
   "metadata": {},
   "source": [
    "#### 4.2 - LDA   "
   ]
  },
  {
   "cell_type": "code",
   "execution_count": 35,
   "metadata": {},
   "outputs": [
    {
     "name": "stdout",
     "output_type": "stream",
     "text": [
      "Clases predichas: [1]\n",
      "LDA - ROC AUC Score: 0.4543791588195731\n"
     ]
    },
    {
     "name": "stderr",
     "output_type": "stream",
     "text": [
      "c:\\Users\\jggl_\\anaconda3\\Lib\\site-packages\\sklearn\\base.py:493: UserWarning: X does not have valid feature names, but LinearDiscriminantAnalysis was fitted with feature names\n",
      "  warnings.warn(\n",
      "c:\\Users\\jggl_\\anaconda3\\Lib\\site-packages\\sklearn\\base.py:493: UserWarning: X does not have valid feature names, but LinearDiscriminantAnalysis was fitted with feature names\n",
      "  warnings.warn(\n"
     ]
    }
   ],
   "source": [
    "# LDA \n",
    "lda = LinearDiscriminantAnalysis()\n",
    "\n",
    "lda.fit(X_train, y_train)\n",
    "  \n",
    "# Verificar las clases predichas\n",
    "y_pred = lda.predict(X_test_scaled)\n",
    "print(\"Clases predichas:\", np.unique(y_pred))\n",
    "\n",
    "# Asegurarse de que haya más de una clase en y_test\n",
    "if len(np.unique(y_test)) < 2:\n",
    "    raise ValueError(\"y_test debe contener al menos dos clases para calcular ROC AUC.\")\n",
    "\n",
    "# Calcular el ROC AUC\n",
    "y_score = lda.predict_proba(X_test_scaled)[:, 1]\n",
    "acc = roc_auc_score(y_test, y_score)\n",
    "print(\"LDA - ROC AUC Score:\", acc)\n",
    " "
   ]
  },
  {
   "cell_type": "code",
   "execution_count": 36,
   "metadata": {},
   "outputs": [
    {
     "name": "stdout",
     "output_type": "stream",
     "text": [
      "Clases predichas: [1]\n",
      "LDA - ROC AUC Score: 0.4533277140300528\n"
     ]
    },
    {
     "name": "stderr",
     "output_type": "stream",
     "text": [
      "c:\\Users\\jggl_\\anaconda3\\Lib\\site-packages\\sklearn\\base.py:493: UserWarning: X does not have valid feature names, but LinearDiscriminantAnalysis was fitted with feature names\n",
      "  warnings.warn(\n",
      "c:\\Users\\jggl_\\anaconda3\\Lib\\site-packages\\sklearn\\base.py:493: UserWarning: X does not have valid feature names, but LinearDiscriminantAnalysis was fitted with feature names\n",
      "  warnings.warn(\n"
     ]
    }
   ],
   "source": [
    "# LDA 1\n",
    "lda1 = LinearDiscriminantAnalysis(solver=\"lsqr\",shrinkage=\"auto\")\n",
    "\n",
    "lda1.fit(X_train, y_train)\n",
    "  \n",
    "# Verificar las clases predichas\n",
    "y_pred1= lda1.predict(X_test_scaled)\n",
    "print(\"Clases predichas:\", np.unique(y_pred1))\n",
    "\n",
    "# Asegurarse de que haya más de una clase en y_test\n",
    "if len(np.unique(y_test)) < 2:\n",
    "    raise ValueError(\"y_test debe contener al menos dos clases para calcular ROC AUC.\")\n",
    "\n",
    "# Calcular el ROC AUC\n",
    "y_score1 = lda1.predict_proba(X_test_scaled)[:, 1]\n",
    "acc = roc_auc_score(y_test, y_score1)\n",
    "print(\"LDA - ROC AUC Score:\", acc)\n",
    " "
   ]
  },
  {
   "cell_type": "code",
   "execution_count": 37,
   "metadata": {},
   "outputs": [
    {
     "name": "stdout",
     "output_type": "stream",
     "text": [
      "Clases predichas: [1]\n",
      "LDA - ROC AUC Score: 1.0\n"
     ]
    },
    {
     "name": "stderr",
     "output_type": "stream",
     "text": [
      "c:\\Users\\jggl_\\anaconda3\\Lib\\site-packages\\sklearn\\base.py:493: UserWarning: X does not have valid feature names, but LinearDiscriminantAnalysis was fitted with feature names\n",
      "  warnings.warn(\n",
      "c:\\Users\\jggl_\\anaconda3\\Lib\\site-packages\\sklearn\\base.py:493: UserWarning: X does not have valid feature names, but LinearDiscriminantAnalysis was fitted with feature names\n",
      "  warnings.warn(\n"
     ]
    }
   ],
   "source": [
    "# LDA 2\n",
    "lda2 = LinearDiscriminantAnalysis(solver=\"eigen\",shrinkage= 0.1, priors=[0.4, 0.6], store_covariance=False)\n",
    "\n",
    "lda2.fit(X_train, y_train)\n",
    "  \n",
    "# Verificar las clases predichas\n",
    "y_pred2= lda2.predict(X_test_scaled)\n",
    "print(\"Clases predichas:\", np.unique(y_pred2))\n",
    "\n",
    "# Asegurarse de que haya más de una clase en y_test\n",
    "if len(np.unique(y_test)) < 2:\n",
    "    raise ValueError(\"y_test debe contener al menos dos clases para calcular ROC AUC.\")\n",
    "\n",
    "# Calcular el ROC AUC\n",
    "y_score2 = lda2.predict_proba(X_test_scaled)[:, 1]\n",
    "acc = roc_auc_score(y_test, y_score2)\n",
    "print(\"LDA - ROC AUC Score:\", acc)"
   ]
  },
  {
   "cell_type": "code",
   "execution_count": 38,
   "metadata": {},
   "outputs": [
    {
     "name": "stdout",
     "output_type": "stream",
     "text": [
      "Clases predichas: [1]\n",
      "LDA - ROC AUC Score: 1.0\n"
     ]
    },
    {
     "name": "stderr",
     "output_type": "stream",
     "text": [
      "c:\\Users\\jggl_\\anaconda3\\Lib\\site-packages\\sklearn\\base.py:493: UserWarning: X does not have valid feature names, but LinearDiscriminantAnalysis was fitted with feature names\n",
      "  warnings.warn(\n",
      "c:\\Users\\jggl_\\anaconda3\\Lib\\site-packages\\sklearn\\base.py:493: UserWarning: X does not have valid feature names, but LinearDiscriminantAnalysis was fitted with feature names\n",
      "  warnings.warn(\n"
     ]
    }
   ],
   "source": [
    "# LDA 3\n",
    "lda3 = LinearDiscriminantAnalysis(solver=\"eigen\",shrinkage= 0.1, priors=[0.4, 0.6], tol=1.0e-2)\n",
    "\n",
    "lda3.fit(X_train, y_train)\n",
    "  \n",
    "# Verificar las clases predichas\n",
    "y_pred3= lda3.predict(X_test_scaled)\n",
    "print(\"Clases predichas:\", np.unique(y_pred3))\n",
    "\n",
    "# Asegurarse de que haya más de una clase en y_test\n",
    "if len(np.unique(y_test)) < 2:\n",
    "    raise ValueError(\"y_test debe contener al menos dos clases para calcular ROC AUC.\")\n",
    "\n",
    "# Calcular el ROC AUC\n",
    "y_score3 = lda3.predict_proba(X_test_scaled)[:, 1]\n",
    "acc = roc_auc_score(y_test, y_score3)\n",
    "print(\"LDA - ROC AUC Score:\", acc)"
   ]
  },
  {
   "cell_type": "code",
   "execution_count": 39,
   "metadata": {},
   "outputs": [
    {
     "name": "stdout",
     "output_type": "stream",
     "text": [
      "Clases predichas: [1]\n",
      "LDA - ROC AUC Score: 0.42246394771132517\n"
     ]
    },
    {
     "name": "stderr",
     "output_type": "stream",
     "text": [
      "c:\\Users\\jggl_\\anaconda3\\Lib\\site-packages\\sklearn\\base.py:493: UserWarning: X does not have valid feature names, but LinearDiscriminantAnalysis was fitted with feature names\n",
      "  warnings.warn(\n",
      "c:\\Users\\jggl_\\anaconda3\\Lib\\site-packages\\sklearn\\base.py:493: UserWarning: X does not have valid feature names, but LinearDiscriminantAnalysis was fitted with feature names\n",
      "  warnings.warn(\n"
     ]
    }
   ],
   "source": [
    "# LDA 4\n",
    "lda4 = LinearDiscriminantAnalysis(solver=\"eigen\", priors=[0.4, 0.6], tol=1.0e-9, store_covariance=True)\n",
    "\n",
    "lda4.fit(X_train, y_train)\n",
    "  \n",
    "# Verificar las clases predichas\n",
    "y_pred4= lda4.predict(X_test_scaled)\n",
    "print(\"Clases predichas:\", np.unique(y_pred4))\n",
    "\n",
    "# Asegurarse de que haya más de una clase en y_test\n",
    "if len(np.unique(y_test)) < 2:\n",
    "    raise ValueError(\"y_test debe contener al menos dos clases para calcular ROC AUC.\")\n",
    "\n",
    "# Calcular el ROC AUC\n",
    "y_score4 = lda4.predict_proba(X_test_scaled)[:, 1]\n",
    "acc = roc_auc_score(y_test, y_score4)\n",
    "print(\"LDA - ROC AUC Score:\", acc)"
   ]
  },
  {
   "cell_type": "code",
   "execution_count": 40,
   "metadata": {},
   "outputs": [
    {
     "name": "stdout",
     "output_type": "stream",
     "text": [
      "Clases predichas: [1]\n",
      "LDA - ROC AUC Score: 0.4543791588195731\n"
     ]
    },
    {
     "name": "stderr",
     "output_type": "stream",
     "text": [
      "c:\\Users\\jggl_\\anaconda3\\Lib\\site-packages\\sklearn\\base.py:493: UserWarning: X does not have valid feature names, but LinearDiscriminantAnalysis was fitted with feature names\n",
      "  warnings.warn(\n",
      "c:\\Users\\jggl_\\anaconda3\\Lib\\site-packages\\sklearn\\base.py:493: UserWarning: X does not have valid feature names, but LinearDiscriminantAnalysis was fitted with feature names\n",
      "  warnings.warn(\n"
     ]
    }
   ],
   "source": [
    "# LDA 5\n",
    "lda5 = LinearDiscriminantAnalysis(solver=\"svd\", priors=[0.3, 0.7], tol=1.0e-9, store_covariance=False, n_components=1)\n",
    "\n",
    "lda5.fit(X_train, y_train)\n",
    "  \n",
    "# Verificar las clases predichas\n",
    "y_pred5= lda5.predict(X_test_scaled)\n",
    "print(\"Clases predichas:\", np.unique(y_pred5))\n",
    "\n",
    "# Asegurarse de que haya más de una clase en y_test\n",
    "if len(np.unique(y_test)) < 2:\n",
    "    raise ValueError(\"y_test debe contener al menos dos clases para calcular ROC AUC.\")\n",
    "\n",
    "# Calcular el ROC AUC\n",
    "y_score5 = lda5.predict_proba(X_test_scaled)[:, 1]\n",
    "acc = roc_auc_score(y_test, y_score5)\n",
    "print(\"LDA - ROC AUC Score:\", acc)"
   ]
  },
  {
   "cell_type": "code",
   "execution_count": 41,
   "metadata": {},
   "outputs": [
    {
     "name": "stdout",
     "output_type": "stream",
     "text": [
      "Best parameters found:  {'classifier__n_components': 1, 'classifier__shrinkage': 'auto', 'classifier__solver': 'lsqr'}\n",
      "Best score achieved:  0.9916\n",
      "LDA - ROC AUC Score: 0.4493090683491303\n"
     ]
    },
    {
     "name": "stderr",
     "output_type": "stream",
     "text": [
      "c:\\Users\\jggl_\\anaconda3\\Lib\\site-packages\\sklearn\\model_selection\\_validation.py:547: FitFailedWarning: \n",
      "95 fits failed out of a total of 150.\n",
      "The score on these train-test partitions for these parameters will be set to nan.\n",
      "If these failures are not expected, you can try to debug them by setting error_score='raise'.\n",
      "\n",
      "Below are more details about the failures:\n",
      "--------------------------------------------------------------------------------\n",
      "20 fits failed with the following error:\n",
      "Traceback (most recent call last):\n",
      "  File \"c:\\Users\\jggl_\\anaconda3\\Lib\\site-packages\\sklearn\\model_selection\\_validation.py\", line 895, in _fit_and_score\n",
      "    estimator.fit(X_train, y_train, **fit_params)\n",
      "  File \"c:\\Users\\jggl_\\anaconda3\\Lib\\site-packages\\sklearn\\base.py\", line 1474, in wrapper\n",
      "    return fit_method(estimator, *args, **kwargs)\n",
      "           ^^^^^^^^^^^^^^^^^^^^^^^^^^^^^^^^^^^^^^\n",
      "  File \"c:\\Users\\jggl_\\anaconda3\\Lib\\site-packages\\sklearn\\pipeline.py\", line 475, in fit\n",
      "    self._final_estimator.fit(Xt, y, **last_step_params[\"fit\"])\n",
      "  File \"c:\\Users\\jggl_\\anaconda3\\Lib\\site-packages\\sklearn\\base.py\", line 1474, in wrapper\n",
      "    return fit_method(estimator, *args, **kwargs)\n",
      "           ^^^^^^^^^^^^^^^^^^^^^^^^^^^^^^^^^^^^^^\n",
      "  File \"c:\\Users\\jggl_\\anaconda3\\Lib\\site-packages\\sklearn\\discriminant_analysis.py\", line 621, in fit\n",
      "    raise NotImplementedError(\"shrinkage not supported with 'svd' solver.\")\n",
      "NotImplementedError: shrinkage not supported with 'svd' solver.\n",
      "\n",
      "--------------------------------------------------------------------------------\n",
      "75 fits failed with the following error:\n",
      "Traceback (most recent call last):\n",
      "  File \"c:\\Users\\jggl_\\anaconda3\\Lib\\site-packages\\sklearn\\model_selection\\_validation.py\", line 895, in _fit_and_score\n",
      "    estimator.fit(X_train, y_train, **fit_params)\n",
      "  File \"c:\\Users\\jggl_\\anaconda3\\Lib\\site-packages\\sklearn\\base.py\", line 1474, in wrapper\n",
      "    return fit_method(estimator, *args, **kwargs)\n",
      "           ^^^^^^^^^^^^^^^^^^^^^^^^^^^^^^^^^^^^^^\n",
      "  File \"c:\\Users\\jggl_\\anaconda3\\Lib\\site-packages\\sklearn\\pipeline.py\", line 475, in fit\n",
      "    self._final_estimator.fit(Xt, y, **last_step_params[\"fit\"])\n",
      "  File \"c:\\Users\\jggl_\\anaconda3\\Lib\\site-packages\\sklearn\\base.py\", line 1474, in wrapper\n",
      "    return fit_method(estimator, *args, **kwargs)\n",
      "           ^^^^^^^^^^^^^^^^^^^^^^^^^^^^^^^^^^^^^^\n",
      "  File \"c:\\Users\\jggl_\\anaconda3\\Lib\\site-packages\\sklearn\\discriminant_analysis.py\", line 614, in fit\n",
      "    raise ValueError(\n",
      "ValueError: n_components cannot be larger than min(n_features, n_classes - 1).\n",
      "\n",
      "  warnings.warn(some_fits_failed_message, FitFailedWarning)\n",
      "c:\\Users\\jggl_\\anaconda3\\Lib\\site-packages\\sklearn\\model_selection\\_search.py:1051: UserWarning: One or more of the test scores are non-finite: [0.991      0.991      0.991             nan 0.9916     0.9916\n",
      "        nan 0.98876667 0.98876667        nan 0.96593333 0.96593333\n",
      "        nan 0.94643333 0.94643333        nan        nan        nan\n",
      "        nan        nan        nan        nan        nan        nan\n",
      "        nan        nan        nan        nan        nan        nan]\n",
      "  warnings.warn(\n",
      "c:\\Users\\jggl_\\anaconda3\\Lib\\site-packages\\sklearn\\base.py:493: UserWarning: X does not have valid feature names, but StandardScaler was fitted with feature names\n",
      "  warnings.warn(\n"
     ]
    }
   ],
   "source": [
    "# LDA Best.fit\n",
    "from sklearn.pipeline import Pipeline\n",
    "from sklearn.preprocessing import StandardScaler\n",
    "\n",
    "pipeline = Pipeline([\n",
    "    ('scaler', StandardScaler()),  # Escalado de datos\n",
    "    ('classifier', LinearDiscriminantAnalysis())\n",
    "])\n",
    "\n",
    "# Configuración de la búsqueda de hiperparámetros\n",
    "hyper_parameters = {\n",
    "    'classifier__solver': ['svd', 'lsqr', 'eigen'],\n",
    "    'classifier__shrinkage': [None, 'auto', 0.1, 0.5, 0.9] if 'lsqr' in ['lsqr', 'eigen'] or 'eigen' in ['lsqr', 'eigen'] else [None],\n",
    "    'classifier__n_components': [1, 2]\n",
    "}\n",
    "\n",
    "lda_hyp_opt = GridSearchCV(estimator=pipeline, param_grid=hyper_parameters, cv=5, scoring='accuracy')\n",
    "\n",
    "# Entrenar el modelo y buscar los mejores hiperparámetros\n",
    "lda_hyp_opt.fit(X, y)\n",
    "\n",
    "# Revisar los mejores hiperparámetros y el mejor modelo\n",
    "print(\"Best parameters found: \", lda_hyp_opt.best_params_)\n",
    "print(\"Best score achieved: \", lda_hyp_opt.best_score_)\n",
    "\n",
    "# Calcular el ROC AUC\n",
    "y_score6 = lda_hyp_opt.predict_proba(X_test_scaled)[:, 1]\n",
    "acc = roc_auc_score(y_test, y_score6)\n",
    "print(\"LDA - ROC AUC Score:\", acc)"
   ]
  },
  {
   "cell_type": "markdown",
   "metadata": {},
   "source": [
    "#### 4.3 Regresión logística"
   ]
  },
  {
   "cell_type": "code",
   "execution_count": 42,
   "metadata": {},
   "outputs": [
    {
     "name": "stdout",
     "output_type": "stream",
     "text": [
      "RL - Roc Auc Score:  1.0\n"
     ]
    }
   ],
   "source": [
    "logit = LogisticRegression()\n",
    "logit.fit(X_train_scaled, y_train) #Entrenamiento del modelo\n",
    "\n",
    "logit_predicts = logit.predict(X_test_scaled)\n",
    " \n",
    "acc = roc_auc_score(logit_predicts,y_test)\n",
    "print(\"RL - Roc Auc Score: \",acc)"
   ]
  },
  {
   "cell_type": "code",
   "execution_count": 43,
   "metadata": {},
   "outputs": [
    {
     "name": "stdout",
     "output_type": "stream",
     "text": [
      "RL - Roc Auc Score:  1.0\n"
     ]
    }
   ],
   "source": [
    "#logit 1\n",
    "logit1 = LogisticRegression(C=0.1, penalty='l2')\n",
    "logit1.fit(X_train_scaled, y_train) #Entrenamiento del modelo\n",
    "\n",
    "logit_predicts1 = logit1.predict(X_test_scaled)\n",
    " \n",
    "acc = roc_auc_score(logit_predicts1,y_test)\n",
    "print(\"RL - Roc Auc Score: \",acc)"
   ]
  },
  {
   "cell_type": "code",
   "execution_count": 44,
   "metadata": {},
   "outputs": [
    {
     "name": "stdout",
     "output_type": "stream",
     "text": [
      "RL - Roc Auc Score:  0.9914976810546394\n"
     ]
    }
   ],
   "source": [
    "#logit 2\n",
    "logit2 = LogisticRegression(C=0.1,tol=1e-2, fit_intercept=True, intercept_scaling=1e-3)\n",
    "logit2.fit(X_train_scaled, y_train) #Entrenamiento del modelo\n",
    "\n",
    "logit_predicts2 = logit2.predict(X_test_scaled)\n",
    " \n",
    "acc = roc_auc_score(logit_predicts2,y_test)\n",
    "print(\"RL - Roc Auc Score: \",acc)"
   ]
  },
  {
   "cell_type": "code",
   "execution_count": 45,
   "metadata": {},
   "outputs": [
    {
     "name": "stdout",
     "output_type": "stream",
     "text": [
      "RL - Roc Auc Score:  0.9915939821417599\n"
     ]
    }
   ],
   "source": [
    "#logit 3\n",
    "logit3 = LogisticRegression(C=0.1,tol=1e-2, fit_intercept=True, intercept_scaling=1e-3, solver=\"liblinear\")\n",
    "logit3.fit(X_train_scaled, y_train) #Entrenamiento del modelo\n",
    "\n",
    "logit_predicts3 = logit3.predict(X_test_scaled)\n",
    " \n",
    "acc = roc_auc_score(logit_predicts3,y_test)\n",
    "print(\"RL - Roc Auc Score: \",acc)"
   ]
  },
  {
   "cell_type": "code",
   "execution_count": 46,
   "metadata": {},
   "outputs": [
    {
     "name": "stdout",
     "output_type": "stream",
     "text": [
      "RL - Roc Auc Score:  0.994683014354067\n"
     ]
    }
   ],
   "source": [
    "#logit 4\n",
    "logit4 = LogisticRegression(C=0.5,tol=1e-2, fit_intercept=True, intercept_scaling=1e-3, solver=\"liblinear\", class_weight=\"balanced\")\n",
    "logit4.fit(X_train_scaled, y_train) #Entrenamiento del modelo\n",
    "\n",
    "logit_predicts4 = logit4.predict(X_test_scaled)\n",
    " \n",
    "acc = roc_auc_score(logit_predicts4,y_test)\n",
    "print(\"RL - Roc Auc Score: \",acc)"
   ]
  },
  {
   "cell_type": "code",
   "execution_count": 47,
   "metadata": {},
   "outputs": [
    {
     "name": "stdout",
     "output_type": "stream",
     "text": [
      "RL - Roc Auc Score:  0.994683014354067\n"
     ]
    }
   ],
   "source": [
    "#logit 5\n",
    "logit5 = LogisticRegression(C=0.5,tol=1e-2, fit_intercept=True, intercept_scaling=1e-3, solver=\"liblinear\", class_weight=\"balanced\", max_iter=200)\n",
    "logit5.fit(X_train_scaled, y_train) #Entrenamiento del modelo\n",
    "\n",
    "logit_predicts5 = logit5.predict(X_test_scaled)\n",
    " \n",
    "acc = roc_auc_score(logit_predicts5,y_test)\n",
    "print(\"RL - Roc Auc Score: \",acc)"
   ]
  },
  {
   "cell_type": "code",
   "execution_count": 48,
   "metadata": {},
   "outputs": [
    {
     "name": "stderr",
     "output_type": "stream",
     "text": [
      "c:\\Users\\jggl_\\anaconda3\\Lib\\site-packages\\sklearn\\linear_model\\_sag.py:350: ConvergenceWarning: The max_iter was reached which means the coef_ did not converge\n",
      "  warnings.warn(\n",
      "c:\\Users\\jggl_\\anaconda3\\Lib\\site-packages\\sklearn\\linear_model\\_sag.py:350: ConvergenceWarning: The max_iter was reached which means the coef_ did not converge\n",
      "  warnings.warn(\n",
      "c:\\Users\\jggl_\\anaconda3\\Lib\\site-packages\\sklearn\\linear_model\\_sag.py:350: ConvergenceWarning: The max_iter was reached which means the coef_ did not converge\n",
      "  warnings.warn(\n",
      "c:\\Users\\jggl_\\anaconda3\\Lib\\site-packages\\sklearn\\linear_model\\_sag.py:350: ConvergenceWarning: The max_iter was reached which means the coef_ did not converge\n",
      "  warnings.warn(\n",
      "c:\\Users\\jggl_\\anaconda3\\Lib\\site-packages\\sklearn\\linear_model\\_sag.py:350: ConvergenceWarning: The max_iter was reached which means the coef_ did not converge\n",
      "  warnings.warn(\n",
      "c:\\Users\\jggl_\\anaconda3\\Lib\\site-packages\\sklearn\\linear_model\\_sag.py:350: ConvergenceWarning: The max_iter was reached which means the coef_ did not converge\n",
      "  warnings.warn(\n",
      "c:\\Users\\jggl_\\anaconda3\\Lib\\site-packages\\sklearn\\linear_model\\_sag.py:350: ConvergenceWarning: The max_iter was reached which means the coef_ did not converge\n",
      "  warnings.warn(\n",
      "c:\\Users\\jggl_\\anaconda3\\Lib\\site-packages\\sklearn\\linear_model\\_sag.py:350: ConvergenceWarning: The max_iter was reached which means the coef_ did not converge\n",
      "  warnings.warn(\n",
      "c:\\Users\\jggl_\\anaconda3\\Lib\\site-packages\\sklearn\\linear_model\\_sag.py:350: ConvergenceWarning: The max_iter was reached which means the coef_ did not converge\n",
      "  warnings.warn(\n",
      "c:\\Users\\jggl_\\anaconda3\\Lib\\site-packages\\sklearn\\linear_model\\_sag.py:350: ConvergenceWarning: The max_iter was reached which means the coef_ did not converge\n",
      "  warnings.warn(\n",
      "c:\\Users\\jggl_\\anaconda3\\Lib\\site-packages\\sklearn\\linear_model\\_sag.py:350: ConvergenceWarning: The max_iter was reached which means the coef_ did not converge\n",
      "  warnings.warn(\n",
      "c:\\Users\\jggl_\\anaconda3\\Lib\\site-packages\\sklearn\\linear_model\\_sag.py:350: ConvergenceWarning: The max_iter was reached which means the coef_ did not converge\n",
      "  warnings.warn(\n",
      "c:\\Users\\jggl_\\anaconda3\\Lib\\site-packages\\sklearn\\linear_model\\_sag.py:350: ConvergenceWarning: The max_iter was reached which means the coef_ did not converge\n",
      "  warnings.warn(\n",
      "c:\\Users\\jggl_\\anaconda3\\Lib\\site-packages\\sklearn\\linear_model\\_sag.py:350: ConvergenceWarning: The max_iter was reached which means the coef_ did not converge\n",
      "  warnings.warn(\n",
      "c:\\Users\\jggl_\\anaconda3\\Lib\\site-packages\\sklearn\\linear_model\\_sag.py:350: ConvergenceWarning: The max_iter was reached which means the coef_ did not converge\n",
      "  warnings.warn(\n",
      "c:\\Users\\jggl_\\anaconda3\\Lib\\site-packages\\sklearn\\linear_model\\_sag.py:350: ConvergenceWarning: The max_iter was reached which means the coef_ did not converge\n",
      "  warnings.warn(\n",
      "c:\\Users\\jggl_\\anaconda3\\Lib\\site-packages\\sklearn\\linear_model\\_sag.py:350: ConvergenceWarning: The max_iter was reached which means the coef_ did not converge\n",
      "  warnings.warn(\n",
      "c:\\Users\\jggl_\\anaconda3\\Lib\\site-packages\\sklearn\\linear_model\\_sag.py:350: ConvergenceWarning: The max_iter was reached which means the coef_ did not converge\n",
      "  warnings.warn(\n",
      "c:\\Users\\jggl_\\anaconda3\\Lib\\site-packages\\sklearn\\linear_model\\_sag.py:350: ConvergenceWarning: The max_iter was reached which means the coef_ did not converge\n",
      "  warnings.warn(\n",
      "c:\\Users\\jggl_\\anaconda3\\Lib\\site-packages\\sklearn\\linear_model\\_sag.py:350: ConvergenceWarning: The max_iter was reached which means the coef_ did not converge\n",
      "  warnings.warn(\n",
      "c:\\Users\\jggl_\\anaconda3\\Lib\\site-packages\\sklearn\\linear_model\\_sag.py:350: ConvergenceWarning: The max_iter was reached which means the coef_ did not converge\n",
      "  warnings.warn(\n",
      "c:\\Users\\jggl_\\anaconda3\\Lib\\site-packages\\sklearn\\linear_model\\_sag.py:350: ConvergenceWarning: The max_iter was reached which means the coef_ did not converge\n",
      "  warnings.warn(\n",
      "c:\\Users\\jggl_\\anaconda3\\Lib\\site-packages\\sklearn\\linear_model\\_sag.py:350: ConvergenceWarning: The max_iter was reached which means the coef_ did not converge\n",
      "  warnings.warn(\n",
      "c:\\Users\\jggl_\\anaconda3\\Lib\\site-packages\\sklearn\\linear_model\\_sag.py:350: ConvergenceWarning: The max_iter was reached which means the coef_ did not converge\n",
      "  warnings.warn(\n",
      "c:\\Users\\jggl_\\anaconda3\\Lib\\site-packages\\sklearn\\linear_model\\_sag.py:350: ConvergenceWarning: The max_iter was reached which means the coef_ did not converge\n",
      "  warnings.warn(\n",
      "c:\\Users\\jggl_\\anaconda3\\Lib\\site-packages\\sklearn\\linear_model\\_sag.py:350: ConvergenceWarning: The max_iter was reached which means the coef_ did not converge\n",
      "  warnings.warn(\n",
      "c:\\Users\\jggl_\\anaconda3\\Lib\\site-packages\\sklearn\\linear_model\\_sag.py:350: ConvergenceWarning: The max_iter was reached which means the coef_ did not converge\n",
      "  warnings.warn(\n",
      "c:\\Users\\jggl_\\anaconda3\\Lib\\site-packages\\sklearn\\linear_model\\_sag.py:350: ConvergenceWarning: The max_iter was reached which means the coef_ did not converge\n",
      "  warnings.warn(\n",
      "c:\\Users\\jggl_\\anaconda3\\Lib\\site-packages\\sklearn\\linear_model\\_sag.py:350: ConvergenceWarning: The max_iter was reached which means the coef_ did not converge\n",
      "  warnings.warn(\n",
      "c:\\Users\\jggl_\\anaconda3\\Lib\\site-packages\\sklearn\\linear_model\\_sag.py:350: ConvergenceWarning: The max_iter was reached which means the coef_ did not converge\n",
      "  warnings.warn(\n",
      "c:\\Users\\jggl_\\anaconda3\\Lib\\site-packages\\sklearn\\linear_model\\_sag.py:350: ConvergenceWarning: The max_iter was reached which means the coef_ did not converge\n",
      "  warnings.warn(\n",
      "c:\\Users\\jggl_\\anaconda3\\Lib\\site-packages\\sklearn\\linear_model\\_sag.py:350: ConvergenceWarning: The max_iter was reached which means the coef_ did not converge\n",
      "  warnings.warn(\n",
      "c:\\Users\\jggl_\\anaconda3\\Lib\\site-packages\\sklearn\\linear_model\\_sag.py:350: ConvergenceWarning: The max_iter was reached which means the coef_ did not converge\n",
      "  warnings.warn(\n",
      "c:\\Users\\jggl_\\anaconda3\\Lib\\site-packages\\sklearn\\linear_model\\_sag.py:350: ConvergenceWarning: The max_iter was reached which means the coef_ did not converge\n",
      "  warnings.warn(\n",
      "c:\\Users\\jggl_\\anaconda3\\Lib\\site-packages\\sklearn\\linear_model\\_sag.py:350: ConvergenceWarning: The max_iter was reached which means the coef_ did not converge\n",
      "  warnings.warn(\n",
      "c:\\Users\\jggl_\\anaconda3\\Lib\\site-packages\\sklearn\\linear_model\\_sag.py:350: ConvergenceWarning: The max_iter was reached which means the coef_ did not converge\n",
      "  warnings.warn(\n",
      "c:\\Users\\jggl_\\anaconda3\\Lib\\site-packages\\sklearn\\linear_model\\_sag.py:350: ConvergenceWarning: The max_iter was reached which means the coef_ did not converge\n",
      "  warnings.warn(\n",
      "c:\\Users\\jggl_\\anaconda3\\Lib\\site-packages\\sklearn\\linear_model\\_sag.py:350: ConvergenceWarning: The max_iter was reached which means the coef_ did not converge\n",
      "  warnings.warn(\n",
      "c:\\Users\\jggl_\\anaconda3\\Lib\\site-packages\\sklearn\\linear_model\\_sag.py:350: ConvergenceWarning: The max_iter was reached which means the coef_ did not converge\n",
      "  warnings.warn(\n",
      "c:\\Users\\jggl_\\anaconda3\\Lib\\site-packages\\sklearn\\linear_model\\_sag.py:350: ConvergenceWarning: The max_iter was reached which means the coef_ did not converge\n",
      "  warnings.warn(\n",
      "c:\\Users\\jggl_\\anaconda3\\Lib\\site-packages\\sklearn\\linear_model\\_sag.py:350: ConvergenceWarning: The max_iter was reached which means the coef_ did not converge\n",
      "  warnings.warn(\n",
      "c:\\Users\\jggl_\\anaconda3\\Lib\\site-packages\\sklearn\\linear_model\\_sag.py:350: ConvergenceWarning: The max_iter was reached which means the coef_ did not converge\n",
      "  warnings.warn(\n",
      "c:\\Users\\jggl_\\anaconda3\\Lib\\site-packages\\sklearn\\linear_model\\_sag.py:350: ConvergenceWarning: The max_iter was reached which means the coef_ did not converge\n",
      "  warnings.warn(\n",
      "c:\\Users\\jggl_\\anaconda3\\Lib\\site-packages\\sklearn\\linear_model\\_sag.py:350: ConvergenceWarning: The max_iter was reached which means the coef_ did not converge\n",
      "  warnings.warn(\n",
      "c:\\Users\\jggl_\\anaconda3\\Lib\\site-packages\\sklearn\\linear_model\\_sag.py:350: ConvergenceWarning: The max_iter was reached which means the coef_ did not converge\n",
      "  warnings.warn(\n",
      "c:\\Users\\jggl_\\anaconda3\\Lib\\site-packages\\sklearn\\linear_model\\_sag.py:350: ConvergenceWarning: The max_iter was reached which means the coef_ did not converge\n",
      "  warnings.warn(\n",
      "c:\\Users\\jggl_\\anaconda3\\Lib\\site-packages\\sklearn\\linear_model\\_sag.py:350: ConvergenceWarning: The max_iter was reached which means the coef_ did not converge\n",
      "  warnings.warn(\n",
      "c:\\Users\\jggl_\\anaconda3\\Lib\\site-packages\\sklearn\\linear_model\\_sag.py:350: ConvergenceWarning: The max_iter was reached which means the coef_ did not converge\n",
      "  warnings.warn(\n",
      "c:\\Users\\jggl_\\anaconda3\\Lib\\site-packages\\sklearn\\linear_model\\_sag.py:350: ConvergenceWarning: The max_iter was reached which means the coef_ did not converge\n",
      "  warnings.warn(\n",
      "c:\\Users\\jggl_\\anaconda3\\Lib\\site-packages\\sklearn\\linear_model\\_sag.py:350: ConvergenceWarning: The max_iter was reached which means the coef_ did not converge\n",
      "  warnings.warn(\n",
      "c:\\Users\\jggl_\\anaconda3\\Lib\\site-packages\\sklearn\\linear_model\\_sag.py:350: ConvergenceWarning: The max_iter was reached which means the coef_ did not converge\n",
      "  warnings.warn(\n",
      "c:\\Users\\jggl_\\anaconda3\\Lib\\site-packages\\sklearn\\linear_model\\_sag.py:350: ConvergenceWarning: The max_iter was reached which means the coef_ did not converge\n",
      "  warnings.warn(\n",
      "c:\\Users\\jggl_\\anaconda3\\Lib\\site-packages\\sklearn\\linear_model\\_sag.py:350: ConvergenceWarning: The max_iter was reached which means the coef_ did not converge\n",
      "  warnings.warn(\n",
      "c:\\Users\\jggl_\\anaconda3\\Lib\\site-packages\\sklearn\\linear_model\\_sag.py:350: ConvergenceWarning: The max_iter was reached which means the coef_ did not converge\n",
      "  warnings.warn(\n",
      "c:\\Users\\jggl_\\anaconda3\\Lib\\site-packages\\sklearn\\linear_model\\_sag.py:350: ConvergenceWarning: The max_iter was reached which means the coef_ did not converge\n",
      "  warnings.warn(\n",
      "c:\\Users\\jggl_\\anaconda3\\Lib\\site-packages\\sklearn\\linear_model\\_sag.py:350: ConvergenceWarning: The max_iter was reached which means the coef_ did not converge\n",
      "  warnings.warn(\n",
      "c:\\Users\\jggl_\\anaconda3\\Lib\\site-packages\\sklearn\\linear_model\\_sag.py:350: ConvergenceWarning: The max_iter was reached which means the coef_ did not converge\n",
      "  warnings.warn(\n",
      "c:\\Users\\jggl_\\anaconda3\\Lib\\site-packages\\sklearn\\linear_model\\_sag.py:350: ConvergenceWarning: The max_iter was reached which means the coef_ did not converge\n",
      "  warnings.warn(\n",
      "c:\\Users\\jggl_\\anaconda3\\Lib\\site-packages\\sklearn\\linear_model\\_sag.py:350: ConvergenceWarning: The max_iter was reached which means the coef_ did not converge\n",
      "  warnings.warn(\n",
      "c:\\Users\\jggl_\\anaconda3\\Lib\\site-packages\\sklearn\\linear_model\\_sag.py:350: ConvergenceWarning: The max_iter was reached which means the coef_ did not converge\n",
      "  warnings.warn(\n",
      "c:\\Users\\jggl_\\anaconda3\\Lib\\site-packages\\sklearn\\linear_model\\_sag.py:350: ConvergenceWarning: The max_iter was reached which means the coef_ did not converge\n",
      "  warnings.warn(\n",
      "c:\\Users\\jggl_\\anaconda3\\Lib\\site-packages\\sklearn\\linear_model\\_sag.py:350: ConvergenceWarning: The max_iter was reached which means the coef_ did not converge\n",
      "  warnings.warn(\n",
      "c:\\Users\\jggl_\\anaconda3\\Lib\\site-packages\\sklearn\\linear_model\\_sag.py:350: ConvergenceWarning: The max_iter was reached which means the coef_ did not converge\n",
      "  warnings.warn(\n",
      "c:\\Users\\jggl_\\anaconda3\\Lib\\site-packages\\sklearn\\linear_model\\_sag.py:350: ConvergenceWarning: The max_iter was reached which means the coef_ did not converge\n",
      "  warnings.warn(\n",
      "c:\\Users\\jggl_\\anaconda3\\Lib\\site-packages\\sklearn\\linear_model\\_sag.py:350: ConvergenceWarning: The max_iter was reached which means the coef_ did not converge\n",
      "  warnings.warn(\n",
      "c:\\Users\\jggl_\\anaconda3\\Lib\\site-packages\\sklearn\\linear_model\\_sag.py:350: ConvergenceWarning: The max_iter was reached which means the coef_ did not converge\n",
      "  warnings.warn(\n",
      "c:\\Users\\jggl_\\anaconda3\\Lib\\site-packages\\sklearn\\linear_model\\_sag.py:350: ConvergenceWarning: The max_iter was reached which means the coef_ did not converge\n",
      "  warnings.warn(\n",
      "c:\\Users\\jggl_\\anaconda3\\Lib\\site-packages\\sklearn\\linear_model\\_sag.py:350: ConvergenceWarning: The max_iter was reached which means the coef_ did not converge\n",
      "  warnings.warn(\n",
      "c:\\Users\\jggl_\\anaconda3\\Lib\\site-packages\\sklearn\\linear_model\\_sag.py:350: ConvergenceWarning: The max_iter was reached which means the coef_ did not converge\n",
      "  warnings.warn(\n",
      "c:\\Users\\jggl_\\anaconda3\\Lib\\site-packages\\sklearn\\linear_model\\_sag.py:350: ConvergenceWarning: The max_iter was reached which means the coef_ did not converge\n",
      "  warnings.warn(\n",
      "c:\\Users\\jggl_\\anaconda3\\Lib\\site-packages\\sklearn\\linear_model\\_sag.py:350: ConvergenceWarning: The max_iter was reached which means the coef_ did not converge\n",
      "  warnings.warn(\n",
      "c:\\Users\\jggl_\\anaconda3\\Lib\\site-packages\\sklearn\\linear_model\\_sag.py:350: ConvergenceWarning: The max_iter was reached which means the coef_ did not converge\n",
      "  warnings.warn(\n",
      "c:\\Users\\jggl_\\anaconda3\\Lib\\site-packages\\sklearn\\linear_model\\_sag.py:350: ConvergenceWarning: The max_iter was reached which means the coef_ did not converge\n",
      "  warnings.warn(\n",
      "c:\\Users\\jggl_\\anaconda3\\Lib\\site-packages\\sklearn\\linear_model\\_sag.py:350: ConvergenceWarning: The max_iter was reached which means the coef_ did not converge\n",
      "  warnings.warn(\n",
      "c:\\Users\\jggl_\\anaconda3\\Lib\\site-packages\\sklearn\\linear_model\\_sag.py:350: ConvergenceWarning: The max_iter was reached which means the coef_ did not converge\n",
      "  warnings.warn(\n",
      "c:\\Users\\jggl_\\anaconda3\\Lib\\site-packages\\sklearn\\linear_model\\_sag.py:350: ConvergenceWarning: The max_iter was reached which means the coef_ did not converge\n",
      "  warnings.warn(\n",
      "c:\\Users\\jggl_\\anaconda3\\Lib\\site-packages\\sklearn\\linear_model\\_sag.py:350: ConvergenceWarning: The max_iter was reached which means the coef_ did not converge\n",
      "  warnings.warn(\n",
      "c:\\Users\\jggl_\\anaconda3\\Lib\\site-packages\\sklearn\\linear_model\\_sag.py:350: ConvergenceWarning: The max_iter was reached which means the coef_ did not converge\n",
      "  warnings.warn(\n",
      "c:\\Users\\jggl_\\anaconda3\\Lib\\site-packages\\sklearn\\linear_model\\_sag.py:350: ConvergenceWarning: The max_iter was reached which means the coef_ did not converge\n",
      "  warnings.warn(\n",
      "c:\\Users\\jggl_\\anaconda3\\Lib\\site-packages\\sklearn\\linear_model\\_sag.py:350: ConvergenceWarning: The max_iter was reached which means the coef_ did not converge\n",
      "  warnings.warn(\n",
      "c:\\Users\\jggl_\\anaconda3\\Lib\\site-packages\\sklearn\\linear_model\\_sag.py:350: ConvergenceWarning: The max_iter was reached which means the coef_ did not converge\n",
      "  warnings.warn(\n",
      "c:\\Users\\jggl_\\anaconda3\\Lib\\site-packages\\sklearn\\linear_model\\_sag.py:350: ConvergenceWarning: The max_iter was reached which means the coef_ did not converge\n",
      "  warnings.warn(\n",
      "c:\\Users\\jggl_\\anaconda3\\Lib\\site-packages\\sklearn\\linear_model\\_sag.py:350: ConvergenceWarning: The max_iter was reached which means the coef_ did not converge\n",
      "  warnings.warn(\n",
      "c:\\Users\\jggl_\\anaconda3\\Lib\\site-packages\\sklearn\\linear_model\\_sag.py:350: ConvergenceWarning: The max_iter was reached which means the coef_ did not converge\n",
      "  warnings.warn(\n",
      "c:\\Users\\jggl_\\anaconda3\\Lib\\site-packages\\sklearn\\linear_model\\_sag.py:350: ConvergenceWarning: The max_iter was reached which means the coef_ did not converge\n",
      "  warnings.warn(\n",
      "c:\\Users\\jggl_\\anaconda3\\Lib\\site-packages\\sklearn\\linear_model\\_sag.py:350: ConvergenceWarning: The max_iter was reached which means the coef_ did not converge\n",
      "  warnings.warn(\n",
      "c:\\Users\\jggl_\\anaconda3\\Lib\\site-packages\\sklearn\\linear_model\\_sag.py:350: ConvergenceWarning: The max_iter was reached which means the coef_ did not converge\n",
      "  warnings.warn(\n",
      "c:\\Users\\jggl_\\anaconda3\\Lib\\site-packages\\sklearn\\linear_model\\_sag.py:350: ConvergenceWarning: The max_iter was reached which means the coef_ did not converge\n",
      "  warnings.warn(\n",
      "c:\\Users\\jggl_\\anaconda3\\Lib\\site-packages\\sklearn\\linear_model\\_sag.py:350: ConvergenceWarning: The max_iter was reached which means the coef_ did not converge\n",
      "  warnings.warn(\n",
      "c:\\Users\\jggl_\\anaconda3\\Lib\\site-packages\\sklearn\\linear_model\\_sag.py:350: ConvergenceWarning: The max_iter was reached which means the coef_ did not converge\n",
      "  warnings.warn(\n",
      "c:\\Users\\jggl_\\anaconda3\\Lib\\site-packages\\sklearn\\linear_model\\_sag.py:350: ConvergenceWarning: The max_iter was reached which means the coef_ did not converge\n",
      "  warnings.warn(\n",
      "c:\\Users\\jggl_\\anaconda3\\Lib\\site-packages\\sklearn\\linear_model\\_sag.py:350: ConvergenceWarning: The max_iter was reached which means the coef_ did not converge\n",
      "  warnings.warn(\n",
      "c:\\Users\\jggl_\\anaconda3\\Lib\\site-packages\\sklearn\\linear_model\\_sag.py:350: ConvergenceWarning: The max_iter was reached which means the coef_ did not converge\n",
      "  warnings.warn(\n",
      "c:\\Users\\jggl_\\anaconda3\\Lib\\site-packages\\sklearn\\linear_model\\_sag.py:350: ConvergenceWarning: The max_iter was reached which means the coef_ did not converge\n",
      "  warnings.warn(\n",
      "c:\\Users\\jggl_\\anaconda3\\Lib\\site-packages\\sklearn\\linear_model\\_sag.py:350: ConvergenceWarning: The max_iter was reached which means the coef_ did not converge\n",
      "  warnings.warn(\n",
      "c:\\Users\\jggl_\\anaconda3\\Lib\\site-packages\\sklearn\\linear_model\\_sag.py:350: ConvergenceWarning: The max_iter was reached which means the coef_ did not converge\n",
      "  warnings.warn(\n",
      "c:\\Users\\jggl_\\anaconda3\\Lib\\site-packages\\sklearn\\linear_model\\_sag.py:350: ConvergenceWarning: The max_iter was reached which means the coef_ did not converge\n",
      "  warnings.warn(\n",
      "c:\\Users\\jggl_\\anaconda3\\Lib\\site-packages\\sklearn\\linear_model\\_sag.py:350: ConvergenceWarning: The max_iter was reached which means the coef_ did not converge\n",
      "  warnings.warn(\n",
      "c:\\Users\\jggl_\\anaconda3\\Lib\\site-packages\\sklearn\\linear_model\\_sag.py:350: ConvergenceWarning: The max_iter was reached which means the coef_ did not converge\n",
      "  warnings.warn(\n",
      "c:\\Users\\jggl_\\anaconda3\\Lib\\site-packages\\sklearn\\linear_model\\_sag.py:350: ConvergenceWarning: The max_iter was reached which means the coef_ did not converge\n",
      "  warnings.warn(\n",
      "c:\\Users\\jggl_\\anaconda3\\Lib\\site-packages\\sklearn\\linear_model\\_sag.py:350: ConvergenceWarning: The max_iter was reached which means the coef_ did not converge\n",
      "  warnings.warn(\n",
      "c:\\Users\\jggl_\\anaconda3\\Lib\\site-packages\\sklearn\\linear_model\\_sag.py:350: ConvergenceWarning: The max_iter was reached which means the coef_ did not converge\n",
      "  warnings.warn(\n",
      "c:\\Users\\jggl_\\anaconda3\\Lib\\site-packages\\sklearn\\linear_model\\_sag.py:350: ConvergenceWarning: The max_iter was reached which means the coef_ did not converge\n",
      "  warnings.warn(\n",
      "c:\\Users\\jggl_\\anaconda3\\Lib\\site-packages\\sklearn\\linear_model\\_sag.py:350: ConvergenceWarning: The max_iter was reached which means the coef_ did not converge\n",
      "  warnings.warn(\n",
      "c:\\Users\\jggl_\\anaconda3\\Lib\\site-packages\\sklearn\\linear_model\\_sag.py:350: ConvergenceWarning: The max_iter was reached which means the coef_ did not converge\n",
      "  warnings.warn(\n",
      "c:\\Users\\jggl_\\anaconda3\\Lib\\site-packages\\sklearn\\linear_model\\_sag.py:350: ConvergenceWarning: The max_iter was reached which means the coef_ did not converge\n",
      "  warnings.warn(\n",
      "c:\\Users\\jggl_\\anaconda3\\Lib\\site-packages\\sklearn\\linear_model\\_sag.py:350: ConvergenceWarning: The max_iter was reached which means the coef_ did not converge\n",
      "  warnings.warn(\n",
      "c:\\Users\\jggl_\\anaconda3\\Lib\\site-packages\\sklearn\\linear_model\\_sag.py:350: ConvergenceWarning: The max_iter was reached which means the coef_ did not converge\n",
      "  warnings.warn(\n",
      "c:\\Users\\jggl_\\anaconda3\\Lib\\site-packages\\sklearn\\linear_model\\_sag.py:350: ConvergenceWarning: The max_iter was reached which means the coef_ did not converge\n",
      "  warnings.warn(\n",
      "c:\\Users\\jggl_\\anaconda3\\Lib\\site-packages\\sklearn\\linear_model\\_sag.py:350: ConvergenceWarning: The max_iter was reached which means the coef_ did not converge\n",
      "  warnings.warn(\n",
      "c:\\Users\\jggl_\\anaconda3\\Lib\\site-packages\\sklearn\\linear_model\\_sag.py:350: ConvergenceWarning: The max_iter was reached which means the coef_ did not converge\n",
      "  warnings.warn(\n",
      "c:\\Users\\jggl_\\anaconda3\\Lib\\site-packages\\sklearn\\linear_model\\_sag.py:350: ConvergenceWarning: The max_iter was reached which means the coef_ did not converge\n",
      "  warnings.warn(\n",
      "c:\\Users\\jggl_\\anaconda3\\Lib\\site-packages\\sklearn\\linear_model\\_sag.py:350: ConvergenceWarning: The max_iter was reached which means the coef_ did not converge\n",
      "  warnings.warn(\n",
      "c:\\Users\\jggl_\\anaconda3\\Lib\\site-packages\\sklearn\\linear_model\\_sag.py:350: ConvergenceWarning: The max_iter was reached which means the coef_ did not converge\n",
      "  warnings.warn(\n",
      "c:\\Users\\jggl_\\anaconda3\\Lib\\site-packages\\sklearn\\linear_model\\_sag.py:350: ConvergenceWarning: The max_iter was reached which means the coef_ did not converge\n",
      "  warnings.warn(\n",
      "c:\\Users\\jggl_\\anaconda3\\Lib\\site-packages\\sklearn\\linear_model\\_sag.py:350: ConvergenceWarning: The max_iter was reached which means the coef_ did not converge\n",
      "  warnings.warn(\n",
      "c:\\Users\\jggl_\\anaconda3\\Lib\\site-packages\\sklearn\\linear_model\\_sag.py:350: ConvergenceWarning: The max_iter was reached which means the coef_ did not converge\n",
      "  warnings.warn(\n",
      "c:\\Users\\jggl_\\anaconda3\\Lib\\site-packages\\sklearn\\linear_model\\_sag.py:350: ConvergenceWarning: The max_iter was reached which means the coef_ did not converge\n",
      "  warnings.warn(\n",
      "c:\\Users\\jggl_\\anaconda3\\Lib\\site-packages\\sklearn\\linear_model\\_sag.py:350: ConvergenceWarning: The max_iter was reached which means the coef_ did not converge\n",
      "  warnings.warn(\n",
      "c:\\Users\\jggl_\\anaconda3\\Lib\\site-packages\\sklearn\\linear_model\\_sag.py:350: ConvergenceWarning: The max_iter was reached which means the coef_ did not converge\n",
      "  warnings.warn(\n",
      "c:\\Users\\jggl_\\anaconda3\\Lib\\site-packages\\sklearn\\linear_model\\_sag.py:350: ConvergenceWarning: The max_iter was reached which means the coef_ did not converge\n",
      "  warnings.warn(\n",
      "c:\\Users\\jggl_\\anaconda3\\Lib\\site-packages\\sklearn\\linear_model\\_sag.py:350: ConvergenceWarning: The max_iter was reached which means the coef_ did not converge\n",
      "  warnings.warn(\n",
      "c:\\Users\\jggl_\\anaconda3\\Lib\\site-packages\\sklearn\\linear_model\\_sag.py:350: ConvergenceWarning: The max_iter was reached which means the coef_ did not converge\n",
      "  warnings.warn(\n",
      "c:\\Users\\jggl_\\anaconda3\\Lib\\site-packages\\sklearn\\linear_model\\_sag.py:350: ConvergenceWarning: The max_iter was reached which means the coef_ did not converge\n",
      "  warnings.warn(\n",
      "c:\\Users\\jggl_\\anaconda3\\Lib\\site-packages\\sklearn\\linear_model\\_sag.py:350: ConvergenceWarning: The max_iter was reached which means the coef_ did not converge\n",
      "  warnings.warn(\n",
      "c:\\Users\\jggl_\\anaconda3\\Lib\\site-packages\\sklearn\\linear_model\\_sag.py:350: ConvergenceWarning: The max_iter was reached which means the coef_ did not converge\n",
      "  warnings.warn(\n",
      "c:\\Users\\jggl_\\anaconda3\\Lib\\site-packages\\sklearn\\linear_model\\_sag.py:350: ConvergenceWarning: The max_iter was reached which means the coef_ did not converge\n",
      "  warnings.warn(\n",
      "c:\\Users\\jggl_\\anaconda3\\Lib\\site-packages\\sklearn\\linear_model\\_sag.py:350: ConvergenceWarning: The max_iter was reached which means the coef_ did not converge\n",
      "  warnings.warn(\n",
      "c:\\Users\\jggl_\\anaconda3\\Lib\\site-packages\\sklearn\\linear_model\\_sag.py:350: ConvergenceWarning: The max_iter was reached which means the coef_ did not converge\n",
      "  warnings.warn(\n",
      "c:\\Users\\jggl_\\anaconda3\\Lib\\site-packages\\sklearn\\linear_model\\_sag.py:350: ConvergenceWarning: The max_iter was reached which means the coef_ did not converge\n",
      "  warnings.warn(\n",
      "c:\\Users\\jggl_\\anaconda3\\Lib\\site-packages\\sklearn\\linear_model\\_sag.py:350: ConvergenceWarning: The max_iter was reached which means the coef_ did not converge\n",
      "  warnings.warn(\n",
      "c:\\Users\\jggl_\\anaconda3\\Lib\\site-packages\\sklearn\\linear_model\\_sag.py:350: ConvergenceWarning: The max_iter was reached which means the coef_ did not converge\n",
      "  warnings.warn(\n",
      "c:\\Users\\jggl_\\anaconda3\\Lib\\site-packages\\sklearn\\linear_model\\_sag.py:350: ConvergenceWarning: The max_iter was reached which means the coef_ did not converge\n",
      "  warnings.warn(\n",
      "c:\\Users\\jggl_\\anaconda3\\Lib\\site-packages\\sklearn\\linear_model\\_sag.py:350: ConvergenceWarning: The max_iter was reached which means the coef_ did not converge\n",
      "  warnings.warn(\n",
      "c:\\Users\\jggl_\\anaconda3\\Lib\\site-packages\\sklearn\\linear_model\\_sag.py:350: ConvergenceWarning: The max_iter was reached which means the coef_ did not converge\n",
      "  warnings.warn(\n",
      "c:\\Users\\jggl_\\anaconda3\\Lib\\site-packages\\sklearn\\linear_model\\_sag.py:350: ConvergenceWarning: The max_iter was reached which means the coef_ did not converge\n",
      "  warnings.warn(\n",
      "c:\\Users\\jggl_\\anaconda3\\Lib\\site-packages\\sklearn\\linear_model\\_sag.py:350: ConvergenceWarning: The max_iter was reached which means the coef_ did not converge\n",
      "  warnings.warn(\n",
      "c:\\Users\\jggl_\\anaconda3\\Lib\\site-packages\\sklearn\\linear_model\\_sag.py:350: ConvergenceWarning: The max_iter was reached which means the coef_ did not converge\n",
      "  warnings.warn(\n",
      "c:\\Users\\jggl_\\anaconda3\\Lib\\site-packages\\sklearn\\linear_model\\_sag.py:350: ConvergenceWarning: The max_iter was reached which means the coef_ did not converge\n",
      "  warnings.warn(\n",
      "c:\\Users\\jggl_\\anaconda3\\Lib\\site-packages\\sklearn\\linear_model\\_sag.py:350: ConvergenceWarning: The max_iter was reached which means the coef_ did not converge\n",
      "  warnings.warn(\n",
      "c:\\Users\\jggl_\\anaconda3\\Lib\\site-packages\\sklearn\\linear_model\\_sag.py:350: ConvergenceWarning: The max_iter was reached which means the coef_ did not converge\n",
      "  warnings.warn(\n",
      "c:\\Users\\jggl_\\anaconda3\\Lib\\site-packages\\sklearn\\linear_model\\_sag.py:350: ConvergenceWarning: The max_iter was reached which means the coef_ did not converge\n",
      "  warnings.warn(\n",
      "c:\\Users\\jggl_\\anaconda3\\Lib\\site-packages\\sklearn\\linear_model\\_sag.py:350: ConvergenceWarning: The max_iter was reached which means the coef_ did not converge\n",
      "  warnings.warn(\n",
      "c:\\Users\\jggl_\\anaconda3\\Lib\\site-packages\\sklearn\\linear_model\\_sag.py:350: ConvergenceWarning: The max_iter was reached which means the coef_ did not converge\n",
      "  warnings.warn(\n",
      "c:\\Users\\jggl_\\anaconda3\\Lib\\site-packages\\sklearn\\linear_model\\_sag.py:350: ConvergenceWarning: The max_iter was reached which means the coef_ did not converge\n",
      "  warnings.warn(\n",
      "c:\\Users\\jggl_\\anaconda3\\Lib\\site-packages\\sklearn\\linear_model\\_sag.py:350: ConvergenceWarning: The max_iter was reached which means the coef_ did not converge\n",
      "  warnings.warn(\n",
      "c:\\Users\\jggl_\\anaconda3\\Lib\\site-packages\\sklearn\\linear_model\\_sag.py:350: ConvergenceWarning: The max_iter was reached which means the coef_ did not converge\n",
      "  warnings.warn(\n",
      "c:\\Users\\jggl_\\anaconda3\\Lib\\site-packages\\sklearn\\linear_model\\_sag.py:350: ConvergenceWarning: The max_iter was reached which means the coef_ did not converge\n",
      "  warnings.warn(\n",
      "c:\\Users\\jggl_\\anaconda3\\Lib\\site-packages\\sklearn\\linear_model\\_sag.py:350: ConvergenceWarning: The max_iter was reached which means the coef_ did not converge\n",
      "  warnings.warn(\n",
      "c:\\Users\\jggl_\\anaconda3\\Lib\\site-packages\\sklearn\\linear_model\\_sag.py:350: ConvergenceWarning: The max_iter was reached which means the coef_ did not converge\n",
      "  warnings.warn(\n",
      "c:\\Users\\jggl_\\anaconda3\\Lib\\site-packages\\sklearn\\linear_model\\_sag.py:350: ConvergenceWarning: The max_iter was reached which means the coef_ did not converge\n",
      "  warnings.warn(\n",
      "c:\\Users\\jggl_\\anaconda3\\Lib\\site-packages\\sklearn\\linear_model\\_sag.py:350: ConvergenceWarning: The max_iter was reached which means the coef_ did not converge\n",
      "  warnings.warn(\n",
      "c:\\Users\\jggl_\\anaconda3\\Lib\\site-packages\\sklearn\\linear_model\\_sag.py:350: ConvergenceWarning: The max_iter was reached which means the coef_ did not converge\n",
      "  warnings.warn(\n",
      "c:\\Users\\jggl_\\anaconda3\\Lib\\site-packages\\sklearn\\linear_model\\_sag.py:350: ConvergenceWarning: The max_iter was reached which means the coef_ did not converge\n",
      "  warnings.warn(\n",
      "c:\\Users\\jggl_\\anaconda3\\Lib\\site-packages\\sklearn\\linear_model\\_sag.py:350: ConvergenceWarning: The max_iter was reached which means the coef_ did not converge\n",
      "  warnings.warn(\n",
      "c:\\Users\\jggl_\\anaconda3\\Lib\\site-packages\\sklearn\\linear_model\\_sag.py:350: ConvergenceWarning: The max_iter was reached which means the coef_ did not converge\n",
      "  warnings.warn(\n",
      "c:\\Users\\jggl_\\anaconda3\\Lib\\site-packages\\sklearn\\linear_model\\_sag.py:350: ConvergenceWarning: The max_iter was reached which means the coef_ did not converge\n",
      "  warnings.warn(\n",
      "c:\\Users\\jggl_\\anaconda3\\Lib\\site-packages\\sklearn\\linear_model\\_sag.py:350: ConvergenceWarning: The max_iter was reached which means the coef_ did not converge\n",
      "  warnings.warn(\n",
      "c:\\Users\\jggl_\\anaconda3\\Lib\\site-packages\\sklearn\\linear_model\\_sag.py:350: ConvergenceWarning: The max_iter was reached which means the coef_ did not converge\n",
      "  warnings.warn(\n",
      "c:\\Users\\jggl_\\anaconda3\\Lib\\site-packages\\sklearn\\linear_model\\_sag.py:350: ConvergenceWarning: The max_iter was reached which means the coef_ did not converge\n",
      "  warnings.warn(\n",
      "c:\\Users\\jggl_\\anaconda3\\Lib\\site-packages\\sklearn\\linear_model\\_sag.py:350: ConvergenceWarning: The max_iter was reached which means the coef_ did not converge\n",
      "  warnings.warn(\n",
      "c:\\Users\\jggl_\\anaconda3\\Lib\\site-packages\\sklearn\\linear_model\\_sag.py:350: ConvergenceWarning: The max_iter was reached which means the coef_ did not converge\n",
      "  warnings.warn(\n",
      "c:\\Users\\jggl_\\anaconda3\\Lib\\site-packages\\sklearn\\linear_model\\_sag.py:350: ConvergenceWarning: The max_iter was reached which means the coef_ did not converge\n",
      "  warnings.warn(\n",
      "c:\\Users\\jggl_\\anaconda3\\Lib\\site-packages\\sklearn\\linear_model\\_sag.py:350: ConvergenceWarning: The max_iter was reached which means the coef_ did not converge\n",
      "  warnings.warn(\n",
      "c:\\Users\\jggl_\\anaconda3\\Lib\\site-packages\\sklearn\\linear_model\\_sag.py:350: ConvergenceWarning: The max_iter was reached which means the coef_ did not converge\n",
      "  warnings.warn(\n",
      "c:\\Users\\jggl_\\anaconda3\\Lib\\site-packages\\sklearn\\linear_model\\_sag.py:350: ConvergenceWarning: The max_iter was reached which means the coef_ did not converge\n",
      "  warnings.warn(\n",
      "c:\\Users\\jggl_\\anaconda3\\Lib\\site-packages\\sklearn\\linear_model\\_sag.py:350: ConvergenceWarning: The max_iter was reached which means the coef_ did not converge\n",
      "  warnings.warn(\n",
      "c:\\Users\\jggl_\\anaconda3\\Lib\\site-packages\\sklearn\\linear_model\\_sag.py:350: ConvergenceWarning: The max_iter was reached which means the coef_ did not converge\n",
      "  warnings.warn(\n",
      "c:\\Users\\jggl_\\anaconda3\\Lib\\site-packages\\sklearn\\linear_model\\_sag.py:350: ConvergenceWarning: The max_iter was reached which means the coef_ did not converge\n",
      "  warnings.warn(\n",
      "c:\\Users\\jggl_\\anaconda3\\Lib\\site-packages\\sklearn\\linear_model\\_sag.py:350: ConvergenceWarning: The max_iter was reached which means the coef_ did not converge\n",
      "  warnings.warn(\n",
      "c:\\Users\\jggl_\\anaconda3\\Lib\\site-packages\\sklearn\\linear_model\\_sag.py:350: ConvergenceWarning: The max_iter was reached which means the coef_ did not converge\n",
      "  warnings.warn(\n",
      "c:\\Users\\jggl_\\anaconda3\\Lib\\site-packages\\sklearn\\linear_model\\_sag.py:350: ConvergenceWarning: The max_iter was reached which means the coef_ did not converge\n",
      "  warnings.warn(\n",
      "c:\\Users\\jggl_\\anaconda3\\Lib\\site-packages\\sklearn\\linear_model\\_sag.py:350: ConvergenceWarning: The max_iter was reached which means the coef_ did not converge\n",
      "  warnings.warn(\n",
      "c:\\Users\\jggl_\\anaconda3\\Lib\\site-packages\\sklearn\\linear_model\\_sag.py:350: ConvergenceWarning: The max_iter was reached which means the coef_ did not converge\n",
      "  warnings.warn(\n",
      "c:\\Users\\jggl_\\anaconda3\\Lib\\site-packages\\sklearn\\linear_model\\_sag.py:350: ConvergenceWarning: The max_iter was reached which means the coef_ did not converge\n",
      "  warnings.warn(\n",
      "c:\\Users\\jggl_\\anaconda3\\Lib\\site-packages\\sklearn\\linear_model\\_sag.py:350: ConvergenceWarning: The max_iter was reached which means the coef_ did not converge\n",
      "  warnings.warn(\n",
      "c:\\Users\\jggl_\\anaconda3\\Lib\\site-packages\\sklearn\\linear_model\\_sag.py:350: ConvergenceWarning: The max_iter was reached which means the coef_ did not converge\n",
      "  warnings.warn(\n",
      "c:\\Users\\jggl_\\anaconda3\\Lib\\site-packages\\sklearn\\linear_model\\_sag.py:350: ConvergenceWarning: The max_iter was reached which means the coef_ did not converge\n",
      "  warnings.warn(\n",
      "c:\\Users\\jggl_\\anaconda3\\Lib\\site-packages\\sklearn\\linear_model\\_sag.py:350: ConvergenceWarning: The max_iter was reached which means the coef_ did not converge\n",
      "  warnings.warn(\n",
      "c:\\Users\\jggl_\\anaconda3\\Lib\\site-packages\\sklearn\\linear_model\\_sag.py:350: ConvergenceWarning: The max_iter was reached which means the coef_ did not converge\n",
      "  warnings.warn(\n",
      "c:\\Users\\jggl_\\anaconda3\\Lib\\site-packages\\sklearn\\linear_model\\_sag.py:350: ConvergenceWarning: The max_iter was reached which means the coef_ did not converge\n",
      "  warnings.warn(\n",
      "c:\\Users\\jggl_\\anaconda3\\Lib\\site-packages\\sklearn\\linear_model\\_sag.py:350: ConvergenceWarning: The max_iter was reached which means the coef_ did not converge\n",
      "  warnings.warn(\n",
      "c:\\Users\\jggl_\\anaconda3\\Lib\\site-packages\\sklearn\\linear_model\\_sag.py:350: ConvergenceWarning: The max_iter was reached which means the coef_ did not converge\n",
      "  warnings.warn(\n",
      "c:\\Users\\jggl_\\anaconda3\\Lib\\site-packages\\sklearn\\linear_model\\_sag.py:350: ConvergenceWarning: The max_iter was reached which means the coef_ did not converge\n",
      "  warnings.warn(\n",
      "c:\\Users\\jggl_\\anaconda3\\Lib\\site-packages\\sklearn\\linear_model\\_sag.py:350: ConvergenceWarning: The max_iter was reached which means the coef_ did not converge\n",
      "  warnings.warn(\n",
      "c:\\Users\\jggl_\\anaconda3\\Lib\\site-packages\\sklearn\\linear_model\\_sag.py:350: ConvergenceWarning: The max_iter was reached which means the coef_ did not converge\n",
      "  warnings.warn(\n",
      "c:\\Users\\jggl_\\anaconda3\\Lib\\site-packages\\sklearn\\linear_model\\_sag.py:350: ConvergenceWarning: The max_iter was reached which means the coef_ did not converge\n",
      "  warnings.warn(\n",
      "c:\\Users\\jggl_\\anaconda3\\Lib\\site-packages\\sklearn\\linear_model\\_sag.py:350: ConvergenceWarning: The max_iter was reached which means the coef_ did not converge\n",
      "  warnings.warn(\n",
      "c:\\Users\\jggl_\\anaconda3\\Lib\\site-packages\\sklearn\\linear_model\\_sag.py:350: ConvergenceWarning: The max_iter was reached which means the coef_ did not converge\n",
      "  warnings.warn(\n"
     ]
    },
    {
     "name": "stdout",
     "output_type": "stream",
     "text": [
      "Mejores hiperparámetros: {'C': 0.1, 'class_weight': None, 'fit_intercept': True, 'max_iter': 100, 'solver': 'newton-cg'}\n",
      "Roc_Auc Score: 1.0\n"
     ]
    },
    {
     "name": "stderr",
     "output_type": "stream",
     "text": [
      "c:\\Users\\jggl_\\anaconda3\\Lib\\site-packages\\sklearn\\linear_model\\_sag.py:350: ConvergenceWarning: The max_iter was reached which means the coef_ did not converge\n",
      "  warnings.warn(\n"
     ]
    }
   ],
   "source": [
    "# Definir el espacio de búsqueda de hiperparámetros\n",
    "hyper_parameters = {\n",
    "    'C': [0.001, 0.01, 0.1, 1.0, 10.0],  # Valores de regularización\n",
    "    'solver': ['newton-cg', 'lbfgs', 'liblinear', 'sag', 'saga'],  # Métodos de optimización\n",
    "    'max_iter': [100, 200, 300],  # Número máximo de iteraciones\n",
    "    'class_weight': [None, 'balanced'],  # Opciones de peso de clase\n",
    "    'fit_intercept': [True, False]  # Si se debe ajustar la intercepción\n",
    "}\n",
    "\n",
    "# Crear el clasificador de Regresión Logística\n",
    "logit = LogisticRegression()\n",
    "\n",
    "# Configurar la búsqueda de hiperparámetros con validación cruzada\n",
    "logit_grid_search = GridSearchCV(estimator=logit, param_grid=hyper_parameters, cv=5, scoring='roc_auc', error_score='raise')\n",
    "\n",
    "# Escalar los datos si es necesario (solo si se necesita estandarización)\n",
    "scaler = StandardScaler()\n",
    "X_train_scaled = scaler.fit_transform(X_train)\n",
    "X_test_scaled = scaler.transform(X_test)\n",
    "\n",
    "# Entrenamiento del modelo\n",
    "logit_grid_search.fit(X_train_scaled, y_train)\n",
    "\n",
    "# Imprimir los mejores hiperparámetros encontrados\n",
    "print(\"Mejores hiperparámetros:\", logit_grid_search.best_params_)\n",
    "\n",
    "# Predecir con el mejor modelo encontrado\n",
    "best_logit_classifier = logit_grid_search.best_estimator_\n",
    "logit_predicts = best_logit_classifier.predict(X_test_scaled)\n",
    "\n",
    "# Calcular el área bajo la curva ROC (ROC AUC) con los mejores hiperparámetros\n",
    "acc = roc_auc_score(y_test, logit_predicts)\n",
    "print(\"Roc_Auc Score:\", acc)"
   ]
  },
  {
   "cell_type": "markdown",
   "metadata": {},
   "source": [
    "#### 4.4 SVM."
   ]
  },
  {
   "cell_type": "code",
   "execution_count": 49,
   "metadata": {},
   "outputs": [
    {
     "name": "stdout",
     "output_type": "stream",
     "text": [
      "NB - Roc Auc Score:  0.9993457416976824\n"
     ]
    }
   ],
   "source": [
    "#svm  \n",
    "svm_classifier = SVC()\n",
    "svm_classifier.fit(X_train_scaled,y_train)\n",
    "\n",
    "svm_predicts = svm_classifier.predict(X_test_scaled)\n",
    "\n",
    "acc = roc_auc_score(svm_predicts,y_test)\n",
    "print(\"NB - Roc Auc Score: \",acc)"
   ]
  },
  {
   "cell_type": "code",
   "execution_count": 50,
   "metadata": {},
   "outputs": [
    {
     "name": "stdout",
     "output_type": "stream",
     "text": [
      "NB - Roc Auc Score:  0.9998855835240275\n"
     ]
    }
   ],
   "source": [
    "#svm 1\n",
    "svm_classifier1 = SVC(kernel='poly', C=0.5, random_state=42, gamma=\"scale\", degree=5, coef0=0.3, shrinking=True)\n",
    "svm_classifier1.fit(X_train_scaled,y_train)\n",
    "\n",
    "svm_predicts1 = svm_classifier1.predict(X_test_scaled)\n",
    "\n",
    "acc = roc_auc_score(svm_predicts1,y_test)\n",
    "print(\"NB - Roc Auc Score: \",acc)"
   ]
  },
  {
   "cell_type": "code",
   "execution_count": 51,
   "metadata": {},
   "outputs": [
    {
     "name": "stdout",
     "output_type": "stream",
     "text": [
      "NB - Roc Auc Score:  0.9993457416976824\n"
     ]
    }
   ],
   "source": [
    "#svm 2\n",
    "svm_classifier2 = SVC(kernel='rbf', C=0.8, gamma=\"scale\", degree=8, coef0=0.5, shrinking=True)\n",
    "svm_classifier2.fit(X_train_scaled,y_train)\n",
    "\n",
    "svm_predicts2 = svm_classifier2.predict(X_test_scaled)\n",
    "\n",
    "acc = roc_auc_score(svm_predicts2,y_test)\n",
    "print(\"NB - Roc Auc Score: \",acc)"
   ]
  },
  {
   "cell_type": "code",
   "execution_count": 52,
   "metadata": {},
   "outputs": [
    {
     "name": "stdout",
     "output_type": "stream",
     "text": [
      "NB - Roc Auc Score:  0.9993457416976824\n"
     ]
    }
   ],
   "source": [
    "#svm 3\n",
    "svm_classifier3 = SVC(kernel='rbf', C=0.8, gamma=\"scale\", degree=8, coef0=0.5, shrinking=True, probability=True)\n",
    "svm_classifier3.fit(X_train_scaled,y_train)\n",
    "\n",
    "svm_predicts3 = svm_classifier3.predict(X_test_scaled)\n",
    "\n",
    "acc = roc_auc_score(svm_predicts3,y_test)\n",
    "print(\"NB - Roc Auc Score: \",acc)"
   ]
  },
  {
   "cell_type": "code",
   "execution_count": 53,
   "metadata": {},
   "outputs": [
    {
     "name": "stdout",
     "output_type": "stream",
     "text": [
      "NB - Roc Auc Score:  0.9993457416976824\n"
     ]
    }
   ],
   "source": [
    "#svm 4\n",
    "svm_classifier4 = SVC(kernel='rbf', C=0.8, gamma=\"scale\", cache_size=500, degree=8, coef0=0.5, shrinking=True, probability=True)\n",
    "svm_classifier4.fit(X_train_scaled,y_train)\n",
    "\n",
    "svm_predicts4 = svm_classifier4.predict(X_test_scaled)\n",
    "\n",
    "acc = roc_auc_score(svm_predicts4,y_test)\n",
    "print(\"NB - Roc Auc Score: \",acc)"
   ]
  },
  {
   "cell_type": "code",
   "execution_count": 54,
   "metadata": {},
   "outputs": [
    {
     "name": "stdout",
     "output_type": "stream",
     "text": [
      "[LibSVM]NB - Roc Auc Score:  0.9993457416976824\n"
     ]
    }
   ],
   "source": [
    "#svm 5\n",
    "svm_classifier5 = SVC(kernel='rbf', C=0.8, gamma=\"scale\", cache_size=500, degree=8, coef0=0.5, shrinking=True, probability=True, verbose=5)\n",
    "svm_classifier5.fit(X_train_scaled,y_train)\n",
    "\n",
    "svm_predicts5 = svm_classifier5.predict(X_test_scaled)\n",
    "\n",
    "acc = roc_auc_score(svm_predicts5,y_test)\n",
    "print(\"NB - Roc Auc Score: \",acc)"
   ]
  },
  {
   "cell_type": "code",
   "execution_count": 55,
   "metadata": {},
   "outputs": [
    {
     "name": "stdout",
     "output_type": "stream",
     "text": [
      "NB - Roc Auc Score:  0.9993457416976824\n"
     ]
    }
   ],
   "source": [
    "#svm 6\n",
    "svm_classifier6 = SVC(C=1.0,\n",
    "    kernel='rbf',\n",
    "    gamma='scale',\n",
    "    degree=3,\n",
    "    coef0=0.0,\n",
    "    shrinking=True,\n",
    "    probability=False,\n",
    "    tol=1e-3,\n",
    "    cache_size=200,\n",
    "    class_weight=None,\n",
    "    verbose=False,\n",
    "    max_iter=-1)\n",
    "svm_classifier6.fit(X_train_scaled,y_train)\n",
    "\n",
    "svm_predicts6 = svm_classifier6.predict(X_test_scaled)\n",
    "\n",
    "acc = roc_auc_score(svm_predicts6,y_test)\n",
    "print(\"NB - Roc Auc Score: \",acc)"
   ]
  },
  {
   "cell_type": "markdown",
   "metadata": {},
   "source": [
    "#### 4.5 Arboles de Decision"
   ]
  },
  {
   "cell_type": "code",
   "execution_count": 56,
   "metadata": {},
   "outputs": [
    {
     "name": "stdout",
     "output_type": "stream",
     "text": [
      "NB - Roc Auc Score:  1.0\n"
     ]
    }
   ],
   "source": [
    "#DTC\n",
    "dt_classifier = DecisionTreeClassifier()\n",
    "dt_classifier.fit(X_train_scaled,y_train)\n",
    "\n",
    "dt_predicts = dt_classifier.predict(X_test_scaled)\n",
    "\n",
    "acc = roc_auc_score(dt_predicts,y_test)\n",
    "print(\"NB - Roc Auc Score: \",acc)"
   ]
  },
  {
   "cell_type": "code",
   "execution_count": 57,
   "metadata": {},
   "outputs": [
    {
     "name": "stdout",
     "output_type": "stream",
     "text": [
      "NB - Roc Auc Score:  1.0\n"
     ]
    }
   ],
   "source": [
    "#DTC 1\n",
    "dt_classifier1 = DecisionTreeClassifier(criterion='gini',\n",
    "    splitter='best',\n",
    "    max_depth=None,\n",
    "    min_samples_split=2,\n",
    "    min_samples_leaf=1,\n",
    "    min_weight_fraction_leaf=0.0,\n",
    "    max_features=None,\n",
    "    random_state=42,\n",
    "    max_leaf_nodes=None,\n",
    "    min_impurity_decrease=0.0,\n",
    "    class_weight=None,\n",
    "    ccp_alpha=0.0)\n",
    "dt_classifier1.fit(X_train_scaled,y_train)\n",
    "\n",
    "dt_predicts1 = dt_classifier1.predict(X_test_scaled)\n",
    "\n",
    "acc = roc_auc_score(dt_predicts1,y_test)\n",
    "print(\"NB - Roc Auc Score: \",acc)"
   ]
  },
  {
   "cell_type": "code",
   "execution_count": 58,
   "metadata": {},
   "outputs": [
    {
     "name": "stdout",
     "output_type": "stream",
     "text": [
      "NB - Roc Auc Score:  1.0\n"
     ]
    }
   ],
   "source": [
    "#DTC 2\n",
    "dt_classifier2 = DecisionTreeClassifier(criterion='gini',\n",
    "    splitter='best',\n",
    "    max_depth=None,\n",
    "    min_samples_split=2, \n",
    "    min_weight_fraction_leaf=0.0,\n",
    "    max_features=None, \n",
    "    max_leaf_nodes=None,\n",
    "    min_impurity_decrease=0.0, \n",
    "    ccp_alpha=0.0)\n",
    "dt_classifier2.fit(X_train_scaled,y_train)\n",
    "\n",
    "dt_predicts2 = dt_classifier2.predict(X_test_scaled)\n",
    "\n",
    "acc = roc_auc_score(dt_predicts2,y_test)\n",
    "print(\"NB - Roc Auc Score: \",acc)"
   ]
  },
  {
   "cell_type": "code",
   "execution_count": 59,
   "metadata": {},
   "outputs": [
    {
     "name": "stdout",
     "output_type": "stream",
     "text": [
      "NB - Roc Auc Score:  1.0\n"
     ]
    }
   ],
   "source": [
    "#DTC 3\n",
    "dt_classifier3 = DecisionTreeClassifier(criterion='log_loss',\n",
    "    splitter='best', \n",
    "    min_samples_leaf=1, \n",
    "    max_features=None,\n",
    "    random_state=42,\n",
    "    max_leaf_nodes=None, \n",
    "    class_weight=None,\n",
    "    ccp_alpha=0.0)\n",
    "dt_classifier3.fit(X_train_scaled,y_train)\n",
    "\n",
    "dt_predicts3 = dt_classifier3.predict(X_test_scaled)\n",
    "\n",
    "acc = roc_auc_score(dt_predicts3,y_test)\n",
    "print(\"NB - Roc Auc Score: \",acc)"
   ]
  },
  {
   "cell_type": "code",
   "execution_count": 60,
   "metadata": {},
   "outputs": [
    {
     "name": "stdout",
     "output_type": "stream",
     "text": [
      "NB - Roc Auc Score:  1.0\n"
     ]
    }
   ],
   "source": [
    "#DTC 4\n",
    "dt_classifier4 = DecisionTreeClassifier(criterion='entropy',\n",
    "    splitter='random',\n",
    "    max_depth=None,\n",
    "    min_samples_split=2,\n",
    "    min_samples_leaf=1,\n",
    "    min_weight_fraction_leaf=0.0,\n",
    "    max_features=None,\n",
    "    random_state=42,\n",
    "    max_leaf_nodes=None,\n",
    "    min_impurity_decrease=0.0,\n",
    "    class_weight=None,\n",
    "    ccp_alpha=0.0)\n",
    "dt_classifier4.fit(X_train_scaled,y_train)\n",
    "\n",
    "dt_predicts4 = dt_classifier4.predict(X_test_scaled)\n",
    "\n",
    "acc = roc_auc_score(dt_predicts4,y_test)\n",
    "print(\"NB - Roc Auc Score: \",acc)"
   ]
  },
  {
   "cell_type": "code",
   "execution_count": 61,
   "metadata": {},
   "outputs": [
    {
     "name": "stdout",
     "output_type": "stream",
     "text": [
      "NB - Roc Auc Score:  0.9530863712195213\n"
     ]
    }
   ],
   "source": [
    "#DTC 5\n",
    "dt_classifier5 = DecisionTreeClassifier(criterion='entropy',\n",
    "    splitter='random',\n",
    "    max_depth=None,\n",
    "    min_samples_split=0.5,\n",
    "    min_samples_leaf=5,\n",
    "    min_weight_fraction_leaf=0.0,\n",
    "    max_features=None,     \n",
    "    random_state=42,\n",
    "    max_leaf_nodes=None,\n",
    "    min_impurity_decrease=0.0,\n",
    "    class_weight=None,\n",
    "    ccp_alpha=0.0)\n",
    "dt_classifier5.fit(X_train_scaled,y_train)\n",
    "\n",
    "dt_predicts5 = dt_classifier5.predict(X_test_scaled)\n",
    "\n",
    "acc = roc_auc_score(dt_predicts5,y_test)\n",
    "print(\"NB - Roc Auc Score: \",acc)"
   ]
  },
  {
   "cell_type": "markdown",
   "metadata": {},
   "source": [
    "### 4.6 Random Forest"
   ]
  },
  {
   "cell_type": "code",
   "execution_count": 62,
   "metadata": {},
   "outputs": [
    {
     "name": "stdout",
     "output_type": "stream",
     "text": [
      "RandomForest - Roc Auc Score:  1.0\n"
     ]
    }
   ],
   "source": [
    "rf_classifier = RandomForestClassifier()\n",
    "rf_classifier.fit(X_train_scaled,y_train)\n",
    "\n",
    "rf_predicts = rf_classifier.predict(X_test_scaled)\n",
    "\n",
    "acc = roc_auc_score(rf_predicts,y_test)\n",
    "print(\"RandomForest - Roc Auc Score: \",acc)"
   ]
  },
  {
   "cell_type": "code",
   "execution_count": 63,
   "metadata": {},
   "outputs": [
    {
     "name": "stdout",
     "output_type": "stream",
     "text": [
      "RandomForest - Roc Auc Score:  1.0\n"
     ]
    }
   ],
   "source": [
    "#RF 1\n",
    "rf_classifier1 = RandomForestClassifier(\n",
    "    n_estimators=100,\n",
    "    criterion='gini',\n",
    "    max_depth=None,\n",
    "    min_samples_split=2,\n",
    "    min_samples_leaf=1,\n",
    "    min_weight_fraction_leaf=0.0,\n",
    "    max_features='sqrt',\n",
    "    max_leaf_nodes=None,\n",
    "    min_impurity_decrease=0.0,\n",
    "    bootstrap=True,\n",
    "    oob_score=False,\n",
    "    n_jobs=-1,\n",
    "    random_state=42,\n",
    "    verbose=0,\n",
    "    warm_start=False,\n",
    "    class_weight=None,\n",
    "    ccp_alpha=0.0\n",
    "    )\n",
    "rf_classifier1.fit(X_train_scaled,y_train)\n",
    "\n",
    "rf_predicts1 = rf_classifier1.predict(X_test_scaled)\n",
    "\n",
    "acc = roc_auc_score(rf_predicts1,y_test)\n",
    "print(\"RandomForest - Roc Auc Score: \",acc)"
   ]
  },
  {
   "cell_type": "code",
   "execution_count": 64,
   "metadata": {},
   "outputs": [
    {
     "name": "stdout",
     "output_type": "stream",
     "text": [
      "RandomForest - Roc Auc Score:  1.0\n"
     ]
    }
   ],
   "source": [
    "#RF 2\n",
    "rf_classifier2 = RandomForestClassifier(\n",
    "    n_estimators=100,\n",
    "    criterion='entropy', #'gini', 'entropy', 'log_loss'\n",
    "    max_depth=50,\n",
    "    min_samples_split=2,\n",
    "    min_samples_leaf=1,\n",
    "    min_weight_fraction_leaf=0.0,\n",
    "    max_features=20, #int, float, 'auto', 'sqrt', 'log2', None\n",
    "    max_leaf_nodes=None,\n",
    "    min_impurity_decrease=0.0,\n",
    "    bootstrap=True,\n",
    "    oob_score=False,\n",
    "    n_jobs=-1,\n",
    "    random_state=42,\n",
    "    verbose=0,\n",
    "    warm_start=False,\n",
    "    class_weight=None, # dict, 'balanced', None\n",
    "    ccp_alpha=0.0\n",
    "    )\n",
    "\n",
    "rf_classifier2.fit(X_train_scaled,y_train)\n",
    "\n",
    "rf_predicts2 = rf_classifier2.predict(X_test_scaled)\n",
    "\n",
    "acc = roc_auc_score(rf_predicts2,y_test)\n",
    "print(\"RandomForest - Roc Auc Score: \",acc)"
   ]
  },
  {
   "cell_type": "code",
   "execution_count": 65,
   "metadata": {},
   "outputs": [
    {
     "name": "stdout",
     "output_type": "stream",
     "text": [
      "RandomForest - Roc Auc Score:  1.0\n"
     ]
    }
   ],
   "source": [
    "#RF 3\n",
    "rf_classifier3 = RandomForestClassifier(\n",
    "    n_estimators=50,\n",
    "    criterion='log_loss', #'gini', 'entropy', 'log_loss'\n",
    "    max_depth=50,\n",
    "    min_samples_split=2,\n",
    "    min_samples_leaf=1,\n",
    "    min_weight_fraction_leaf=0.0,\n",
    "    max_features='log2', #int, float, 'auto', 'sqrt', 'log2', None\n",
    "    max_leaf_nodes=None,\n",
    "    min_impurity_decrease=0.0,\n",
    "    bootstrap=True,\n",
    "    oob_score=False,\n",
    "    n_jobs=-1,\n",
    "    random_state=42,\n",
    "    verbose=0,\n",
    "    warm_start=False,\n",
    "    class_weight='balanced', # dict, 'balanced', None\n",
    "    ccp_alpha=0.0\n",
    "    )\n",
    "\n",
    "rf_classifier3.fit(X_train_scaled,y_train)\n",
    "\n",
    "rf_predicts3 = rf_classifier3.predict(X_test_scaled)\n",
    "\n",
    "acc = roc_auc_score(rf_predicts3,y_test)\n",
    "print(\"RandomForest - Roc Auc Score: \",acc)"
   ]
  },
  {
   "cell_type": "code",
   "execution_count": 66,
   "metadata": {},
   "outputs": [
    {
     "name": "stdout",
     "output_type": "stream",
     "text": [
      "RandomForest - Roc Auc Score:  1.0\n"
     ]
    }
   ],
   "source": [
    "#RF 4\n",
    "rf_classifier4= RandomForestClassifier(\n",
    "    n_estimators=50,\n",
    "    criterion='gini', #'gini', 'entropy', 'log_loss'\n",
    "    max_depth=50, \n",
    "    min_weight_fraction_leaf=0.0,\n",
    "    max_features='sqrt', #int, float, 'auto', 'sqrt', 'log2', None\n",
    "    max_leaf_nodes=None, \n",
    "    bootstrap=False,\n",
    "    oob_score=False,\n",
    "    n_jobs=-1,\n",
    "    random_state=42, \n",
    "    warm_start=False,\n",
    "    class_weight='balanced', # dict, 'balanced', None\n",
    "    ccp_alpha=0.0\n",
    "    )\n",
    "\n",
    "rf_classifier4.fit(X_train_scaled,y_train)\n",
    "\n",
    "rf_predicts4 = rf_classifier4.predict(X_test_scaled)\n",
    "\n",
    "acc = roc_auc_score(rf_predicts4,y_test)\n",
    "print(\"RandomForest - Roc Auc Score: \",acc)"
   ]
  },
  {
   "cell_type": "code",
   "execution_count": 67,
   "metadata": {},
   "outputs": [
    {
     "name": "stdout",
     "output_type": "stream",
     "text": [
      "RandomForest - Roc Auc Score:  1.0\n"
     ]
    }
   ],
   "source": [
    "#RF 5\n",
    "rf_classifier5 = RandomForestClassifier(\n",
    "    n_estimators=200,\n",
    "    criterion='gini', #'gini', 'entropy', 'log_loss'\n",
    "    max_depth=100, \n",
    "    min_weight_fraction_leaf=0.0,\n",
    "    max_features='sqrt', #int, float, 'auto', 'sqrt', 'log2', None \n",
    "    bootstrap=True,\n",
    "    oob_score=False,\n",
    "    n_jobs=-1,\n",
    "    random_state=42,\n",
    "    verbose=0,\n",
    "    warm_start=False,\n",
    "    class_weight='balanced', # dict, 'balanced', None\n",
    "    ccp_alpha=0.0\n",
    "    )\n",
    "\n",
    "rf_classifier5.fit(X_train_scaled,y_train)\n",
    "\n",
    "rf_predicts5 = rf_classifier5.predict(X_test_scaled)\n",
    "\n",
    "acc = roc_auc_score(rf_predicts5,y_test)\n",
    "print(\"RandomForest - Roc Auc Score: \",acc)"
   ]
  },
  {
   "cell_type": "markdown",
   "metadata": {},
   "source": [
    "### 4.7 QDA – Análisis de Discriminante Cuadrático"
   ]
  },
  {
   "cell_type": "code",
   "execution_count": 68,
   "metadata": {},
   "outputs": [
    {
     "name": "stdout",
     "output_type": "stream",
     "text": [
      "RandomForest - Roc Auc Score:  0.9997056362485792\n"
     ]
    },
    {
     "name": "stderr",
     "output_type": "stream",
     "text": [
      "c:\\Users\\jggl_\\anaconda3\\Lib\\site-packages\\sklearn\\discriminant_analysis.py:935: UserWarning: Variables are collinear\n",
      "  warnings.warn(\"Variables are collinear\")\n"
     ]
    }
   ],
   "source": [
    "#QDA\n",
    "qda_classifier  = QuadraticDiscriminantAnalysis()\n",
    "qda_classifier .fit(X_train_scaled,y_train)\n",
    "\n",
    "qda_predicts = qda_classifier.predict(X_test_scaled)\n",
    "\n",
    "acc = roc_auc_score(qda_predicts,y_test)\n",
    "print(\"RandomForest - Roc Auc Score: \",acc)"
   ]
  },
  {
   "cell_type": "code",
   "execution_count": 69,
   "metadata": {},
   "outputs": [
    {
     "name": "stdout",
     "output_type": "stream",
     "text": [
      "RandomForest - Roc Auc Score:  0.9997056362485792\n"
     ]
    },
    {
     "name": "stderr",
     "output_type": "stream",
     "text": [
      "c:\\Users\\jggl_\\anaconda3\\Lib\\site-packages\\sklearn\\discriminant_analysis.py:935: UserWarning: Variables are collinear\n",
      "  warnings.warn(\"Variables are collinear\")\n"
     ]
    }
   ],
   "source": [
    "#QDA 1\n",
    "qda_classifier1  = QuadraticDiscriminantAnalysis(\n",
    "    priors=None,            # No especificar probabilidades a priori\n",
    "    reg_param=0.0,          # Sin regularización\n",
    "    store_covariance=False, # No almacenar matrices de covarianza\n",
    "    tol=1e-4                # Tolerancia para descartar componentes\n",
    ")\n",
    "qda_classifier1 .fit(X_train_scaled,y_train)\n",
    "\n",
    "qda_predicts1 = qda_classifier1.predict(X_test_scaled)\n",
    "\n",
    "acc = roc_auc_score(qda_predicts1,y_test)\n",
    "print(\"RandomForest - Roc Auc Score: \",acc)"
   ]
  },
  {
   "cell_type": "code",
   "execution_count": 70,
   "metadata": {},
   "outputs": [
    {
     "name": "stdout",
     "output_type": "stream",
     "text": [
      "RandomForest - Roc Auc Score:  0.9652971195759629\n"
     ]
    },
    {
     "name": "stderr",
     "output_type": "stream",
     "text": [
      "c:\\Users\\jggl_\\anaconda3\\Lib\\site-packages\\sklearn\\discriminant_analysis.py:935: UserWarning: Variables are collinear\n",
      "  warnings.warn(\"Variables are collinear\")\n"
     ]
    }
   ],
   "source": [
    "#QDA 2\n",
    "qda_classifier2  = QuadraticDiscriminantAnalysis(\n",
    "    priors=[0.4,0.6],            # No especificar probabilidades a priori\n",
    "    reg_param=0.5,          # Sin regularización\n",
    "    store_covariance=False, # No almacenar matrices de covarianza\n",
    "    tol=1e-4                # Tolerancia para descartar componentes\n",
    ")\n",
    "qda_classifier2 .fit(X_train_scaled,y_train)\n",
    "\n",
    "qda_predicts2 = qda_classifier2.predict(X_test_scaled)\n",
    "\n",
    "acc = roc_auc_score(qda_predicts2,y_test)\n",
    "print(\"RandomForest - Roc Auc Score: \",acc)"
   ]
  },
  {
   "cell_type": "code",
   "execution_count": 71,
   "metadata": {},
   "outputs": [
    {
     "name": "stdout",
     "output_type": "stream",
     "text": [
      "RandomForest - Roc Auc Score:  0.9204115239145367\n"
     ]
    },
    {
     "name": "stderr",
     "output_type": "stream",
     "text": [
      "c:\\Users\\jggl_\\anaconda3\\Lib\\site-packages\\sklearn\\discriminant_analysis.py:935: UserWarning: Variables are collinear\n",
      "  warnings.warn(\"Variables are collinear\")\n"
     ]
    }
   ],
   "source": [
    "#QDA 3\n",
    "qda_classifier3  = QuadraticDiscriminantAnalysis(\n",
    "    priors=[0.3,0.7],            # No especificar probabilidades a priori\n",
    "    reg_param=0.9,          # Sin regularización\n",
    "    store_covariance=True, # No almacenar matrices de covarianza\n",
    "    tol=1e-9               # Tolerancia para descartar componentes\n",
    ")\n",
    "qda_classifier3 .fit(X_train_scaled,y_train)\n",
    "\n",
    "qda_predicts3 = qda_classifier3.predict(X_test_scaled)\n",
    "\n",
    "acc = roc_auc_score(qda_predicts3,y_test)\n",
    "print(\"RandomForest - Roc Auc Score: \",acc)"
   ]
  },
  {
   "cell_type": "code",
   "execution_count": 72,
   "metadata": {},
   "outputs": [
    {
     "name": "stdout",
     "output_type": "stream",
     "text": [
      "RandomForest - Roc Auc Score:  0.9059595568595755\n"
     ]
    },
    {
     "name": "stderr",
     "output_type": "stream",
     "text": [
      "c:\\Users\\jggl_\\anaconda3\\Lib\\site-packages\\sklearn\\discriminant_analysis.py:935: UserWarning: Variables are collinear\n",
      "  warnings.warn(\"Variables are collinear\")\n"
     ]
    }
   ],
   "source": [
    "#QDA 4\n",
    "qda_classifier4  = QuadraticDiscriminantAnalysis(\n",
    "    priors=[0.3,0.7],            # No especificar probabilidades a priori\n",
    "    reg_param=1.0,          # Sin regularización\n",
    "    store_covariance=True, # No almacenar matrices de covarianza\n",
    "    tol=1e-10             # Tolerancia para descartar componentes\n",
    ")\n",
    "qda_classifier4 .fit(X_train_scaled,y_train)\n",
    "\n",
    "qda_predicts4 = qda_classifier4.predict(X_test_scaled)\n",
    "\n",
    "acc = roc_auc_score(qda_predicts4,y_test)\n",
    "print(\"RandomForest - Roc Auc Score: \",acc)"
   ]
  },
  {
   "cell_type": "markdown",
   "metadata": {},
   "source": [
    "### 4.8 AdaBoost"
   ]
  },
  {
   "cell_type": "code",
   "execution_count": 73,
   "metadata": {},
   "outputs": [
    {
     "name": "stdout",
     "output_type": "stream",
     "text": [
      "RandomForest - Roc Auc Score:  1.0\n"
     ]
    },
    {
     "name": "stderr",
     "output_type": "stream",
     "text": [
      "c:\\Users\\jggl_\\anaconda3\\Lib\\site-packages\\sklearn\\ensemble\\_weight_boosting.py:519: FutureWarning: The SAMME.R algorithm (the default) is deprecated and will be removed in 1.6. Use the SAMME algorithm to circumvent this warning.\n",
      "  warnings.warn(\n"
     ]
    }
   ],
   "source": [
    "# Crear un clasificador AdaBoost\n",
    "adaboost_classifier = AdaBoostClassifier()\n",
    "adaboost_classifier .fit(X_train_scaled,y_train)\n",
    "\n",
    "adaboost_predicts = adaboost_classifier.predict(X_test_scaled)\n",
    "\n",
    "acc = roc_auc_score(adaboost_predicts,y_test)\n",
    "print(\"RandomForest - Roc Auc Score: \",acc)"
   ]
  },
  {
   "cell_type": "code",
   "execution_count": 74,
   "metadata": {},
   "outputs": [
    {
     "name": "stdout",
     "output_type": "stream",
     "text": [
      "RandomForest - Roc Auc Score:  1.0\n"
     ]
    }
   ],
   "source": [
    "# AB 1\n",
    "adaboost_classifier1 = AdaBoostClassifier(\n",
    "    estimator=DecisionTreeClassifier(max_depth=1),\n",
    "    n_estimators=100,\n",
    "    learning_rate=1.0,\n",
    "    algorithm='SAMME',\n",
    "    random_state=2024\n",
    ")\n",
    "adaboost_classifier1 .fit(X_train_scaled,y_train)\n",
    "\n",
    "adaboost_predicts1 = adaboost_classifier1.predict(X_test_scaled)\n",
    "\n",
    "acc = roc_auc_score(adaboost_predicts1,y_test)\n",
    "print(\"RandomForest - Roc Auc Score: \",acc)"
   ]
  },
  {
   "cell_type": "code",
   "execution_count": 75,
   "metadata": {},
   "outputs": [
    {
     "name": "stdout",
     "output_type": "stream",
     "text": [
      "RandomForest - Roc Auc Score:  1.0\n"
     ]
    }
   ],
   "source": [
    "# AB 2\n",
    "adaboost_classifier2 = AdaBoostClassifier(\n",
    "    estimator=DecisionTreeClassifier(max_depth=2),\n",
    "    n_estimators=200,\n",
    "    learning_rate=1.0,\n",
    "    algorithm='SAMME',\n",
    "    random_state=2024\n",
    ")\n",
    "adaboost_classifier2 .fit(X_train_scaled,y_train)\n",
    "\n",
    "adaboost_predicts2 = adaboost_classifier2.predict(X_test_scaled)\n",
    "\n",
    "acc = roc_auc_score(adaboost_predicts2,y_test)\n",
    "print(\"RandomForest - Roc Auc Score: \",acc)"
   ]
  },
  {
   "cell_type": "code",
   "execution_count": 76,
   "metadata": {},
   "outputs": [
    {
     "name": "stderr",
     "output_type": "stream",
     "text": [
      "c:\\Users\\jggl_\\anaconda3\\Lib\\site-packages\\sklearn\\ensemble\\_weight_boosting.py:519: FutureWarning: The SAMME.R algorithm (the default) is deprecated and will be removed in 1.6. Use the SAMME algorithm to circumvent this warning.\n",
      "  warnings.warn(\n"
     ]
    },
    {
     "name": "stdout",
     "output_type": "stream",
     "text": [
      "RandomForest - Roc Auc Score:  1.0\n"
     ]
    }
   ],
   "source": [
    "# AB 3\n",
    "adaboost_classifier3 = AdaBoostClassifier(\n",
    "    estimator=DecisionTreeClassifier(max_depth=3),\n",
    "    n_estimators=200,\n",
    "    learning_rate=0.8,\n",
    "    algorithm='SAMME.R',\n",
    "    random_state=2024\n",
    ")\n",
    "adaboost_classifier3 .fit(X_train_scaled,y_train)\n",
    "\n",
    "adaboost_predicts3 = adaboost_classifier3.predict(X_test_scaled)\n",
    "\n",
    "acc = roc_auc_score(adaboost_predicts3,y_test)\n",
    "print(\"RandomForest - Roc Auc Score: \",acc)"
   ]
  },
  {
   "cell_type": "markdown",
   "metadata": {},
   "source": [
    "### 4.9 Gradient Boosting"
   ]
  },
  {
   "cell_type": "code",
   "execution_count": 77,
   "metadata": {},
   "outputs": [
    {
     "name": "stdout",
     "output_type": "stream",
     "text": [
      "RandomForest - Roc Auc Score:  1.0\n"
     ]
    }
   ],
   "source": [
    "# GB\n",
    "gb_classifier = GradientBoostingClassifier()\n",
    "gb_classifier .fit(X_train_scaled,y_train)\n",
    "\n",
    "gb_predicts = gb_classifier.predict(X_test_scaled)\n",
    "\n",
    "acc = roc_auc_score(gb_predicts,y_test)\n",
    "print(\"RandomForest - Roc Auc Score: \",acc)"
   ]
  },
  {
   "cell_type": "code",
   "execution_count": 78,
   "metadata": {},
   "outputs": [
    {
     "name": "stdout",
     "output_type": "stream",
     "text": [
      "      Iter       Train Loss   Remaining Time \n",
      "         1           1.1149            1.30s\n",
      "         2           0.9644            1.53s\n",
      "         3           0.8412            1.22s\n",
      "         4           0.7383            1.29s\n",
      "         5           0.6510            1.65s\n",
      "         6           0.5761            1.80s\n",
      "         7           0.5114            1.90s\n",
      "         8           0.4551            1.82s\n",
      "         9           0.4059            1.75s\n",
      "        10           0.3626            1.79s\n",
      "        20           0.1243            1.55s\n",
      "        30           0.0447            1.26s\n",
      "        40           0.0163            0.97s\n",
      "        50           0.0060            0.76s\n",
      "        60           0.0022            0.58s\n",
      "        70           0.0008            0.42s\n",
      "        80           0.0003            0.27s\n",
      "        90           0.0001            0.13s\n",
      "       100           0.0000            0.00s\n",
      "RandomForest - Roc Auc Score:  1.0\n"
     ]
    }
   ],
   "source": [
    "# GB 1\n",
    "gb_classifier1 = GradientBoostingClassifier(\n",
    "    loss='log_loss',        # Función de pérdida\n",
    "    learning_rate=0.1,      # Tasa de aprendizaje\n",
    "    n_estimators=100,       # Número de estimadores\n",
    "    subsample=1.0,          # Submuestreo\n",
    "    criterion='friedman_mse',# Criterio de calidad\n",
    "    min_samples_split=2,    # Mínimas muestras para dividir un nodo\n",
    "    min_samples_leaf=1,     # Mínimas muestras en un nodo hoja\n",
    "    max_depth=3,            # Profundidad máxima\n",
    "    max_features=None,      # Todas las características\n",
    "    random_state=42,        # Estado aleatorio para reproducibilidad\n",
    "    verbose=1               # Nivel de verbosidad\n",
    ")\n",
    "gb_classifier1 .fit(X_train_scaled,y_train)\n",
    "\n",
    "gb_predicts1 = gb_classifier1.predict(X_test_scaled)\n",
    "\n",
    "acc = roc_auc_score(gb_predicts1,y_test)\n",
    "print(\"RandomForest - Roc Auc Score: \",acc)"
   ]
  },
  {
   "cell_type": "code",
   "execution_count": 79,
   "metadata": {},
   "outputs": [
    {
     "name": "stdout",
     "output_type": "stream",
     "text": [
      "      Iter       Train Loss      OOB Improve   Remaining Time \n",
      "         1           0.8691           0.0907           37.18s\n",
      "         2           0.7837           0.0713           27.39s\n",
      "         3           0.7102           0.0796           30.84s\n",
      "         4           0.6431           0.0694           28.28s\n",
      "         5           0.5813           0.0586           25.38s\n",
      "         6           0.5275           0.0618           21.13s\n",
      "         7           0.4758           0.0435           20.31s\n",
      "         8           0.4307           0.0463           23.63s\n",
      "         9           0.3900           0.0421           23.27s\n",
      "        10           0.3528           0.0369           22.48s\n",
      "        20           0.1297           0.0137           18.83s\n",
      "        30           0.0477           0.0053           19.71s\n",
      "        40           0.0176           0.0018           18.41s\n",
      "        50           0.0065           0.0006           16.54s\n",
      "        60           0.0024           0.0003           15.12s\n",
      "        70           0.0009           0.0001           14.07s\n",
      "        80           0.0003           0.0000           13.31s\n",
      "        90           0.0001           0.0000           12.72s\n",
      "       100           0.0000           0.0000           12.16s\n",
      "       200           0.0000          -0.0000            8.67s\n",
      "       300           0.0000          -0.0000            5.58s\n",
      "       400           0.0000           0.0000            3.91s\n",
      "       500           0.0000           0.0000            2.79s\n",
      "       600           0.0000          -0.0000            1.99s\n",
      "       700           0.0000          -0.0000            1.36s\n",
      "       800           0.0000          -0.0000            0.84s\n",
      "       900           0.0000          -0.0000            0.39s\n",
      "      1000           0.0000           0.0000            0.00s\n",
      "RandomForest - Roc Auc Score:  1.0\n"
     ]
    }
   ],
   "source": [
    "# GB 2\n",
    "gb_classifier2 = GradientBoostingClassifier(\n",
    "    loss='exponential',        # Función de pérdida\n",
    "    learning_rate=0.1,      # Tasa de aprendizaje\n",
    "    n_estimators=1000,       # Número de estimadores\n",
    "    subsample=0.8,          # Submuestreo\n",
    "    criterion='squared_error',# Criterio de calidad\n",
    "    min_samples_split=2,    # Mínimas muestras para dividir un nodo\n",
    "    min_samples_leaf=1,     # Mínimas muestras en un nodo hoja\n",
    "    max_depth=5,            # Profundidad máxima\n",
    "    max_features=None,      # Todas las características\n",
    "    random_state=42,        # Estado aleatorio para reproducibilidad\n",
    "    verbose=1               # Nivel de verbosidad\n",
    ")\n",
    "gb_classifier2 .fit(X_train_scaled,y_train)\n",
    "\n",
    "gb_predicts2 = gb_classifier2.predict(X_test_scaled)\n",
    "\n",
    "acc = roc_auc_score(gb_predicts2,y_test)\n",
    "print(\"RandomForest - Roc Auc Score: \",acc)"
   ]
  },
  {
   "cell_type": "code",
   "execution_count": 80,
   "metadata": {},
   "outputs": [
    {
     "name": "stdout",
     "output_type": "stream",
     "text": [
      "      Iter       Train Loss      OOB Improve   Remaining Time \n",
      "         1           0.7970           0.5072            0.00s\n",
      "         2           0.5376           0.2566            6.16s\n",
      "         3           0.3765           0.1618            5.55s\n",
      "         4           0.2681           0.1072            5.92s\n",
      "         5           0.1935           0.0749            7.21s\n",
      "         6           0.1415           0.0541            6.76s\n",
      "         7           0.1031           0.0373            8.25s\n",
      "         8           0.0757           0.0275            7.64s\n",
      "         9           0.0556           0.0199            7.25s\n",
      "        10           0.0410           0.0146            7.53s\n",
      "        20           0.0020           0.0007            5.38s\n",
      "        30           0.0001           0.0000            4.99s\n",
      "        40           0.0000           0.0000            4.56s\n",
      "        50           0.0000           0.0000            4.29s\n",
      "        60           0.0000           0.0000            3.92s\n",
      "        70           0.0000           0.0000            3.52s\n",
      "        80           0.0000           0.0000            3.10s\n",
      "        90           0.0000          -0.0000            2.76s\n",
      "       100           0.0000           0.0000            2.55s\n",
      "       200           0.0000           0.0000            1.29s\n",
      "       300           0.0000          -0.0000            0.72s\n",
      "       400           0.0000           0.0000            0.33s\n",
      "       500           0.0000          -0.0000            0.00s\n",
      "RandomForest - Roc Auc Score:  1.0\n"
     ]
    }
   ],
   "source": [
    "# GB 3\n",
    "gb_classifier3 = GradientBoostingClassifier(\n",
    "    loss='log_loss',        # Función de pérdida\n",
    "    learning_rate=0.3,      # Tasa de aprendizaje\n",
    "    n_estimators=500,       # Número de estimadores\n",
    "    subsample=0.6,          # Submuestreo\n",
    "    criterion='squared_error',# Criterio de calidad \n",
    "    max_depth=5,            # Profundidad máxima\n",
    "    max_features=None,      # Todas las características\n",
    "    random_state=42,        # Estado aleatorio para reproducibilidad\n",
    "    verbose=1               # Nivel de verbosidad\n",
    ")\n",
    "gb_classifier3 .fit(X_train_scaled,y_train)\n",
    "\n",
    "gb_predicts3 = gb_classifier3.predict(X_test_scaled)\n",
    "\n",
    "acc = roc_auc_score(gb_predicts3,y_test)\n",
    "print(\"RandomForest - Roc Auc Score: \",acc)"
   ]
  },
  {
   "cell_type": "code",
   "execution_count": 81,
   "metadata": {},
   "outputs": [
    {
     "name": "stdout",
     "output_type": "stream",
     "text": [
      "      Iter       Train Loss   Remaining Time \n",
      "         1           0.4762            1.03s\n",
      "         2           0.2365            8.73s\n",
      "         3           0.1174            7.70s\n",
      "         4           0.0583            7.45s\n",
      "         5           0.0290            5.95s\n",
      "         6           0.0144            6.24s\n",
      "         7           0.0071            6.44s\n",
      "         8           0.0035            6.28s\n",
      "         9           0.0018            6.32s\n",
      "        10           0.0009            6.02s\n",
      "        20           0.0000            5.50s\n",
      "        30           0.0000            4.57s\n",
      "        40           0.0000            3.53s\n",
      "        50           0.0000            2.90s\n",
      "        60           0.0000            2.48s\n",
      "        70           0.0000            2.08s\n",
      "        80           0.0000            1.86s\n",
      "        90           0.0000            1.69s\n",
      "       100           0.0000            1.54s\n",
      "       200           0.0000            0.77s\n",
      "       300           0.0000            0.42s\n",
      "       400           0.0000            0.19s\n",
      "       500           0.0000            0.00s\n",
      "RandomForest - Roc Auc Score:  1.0\n"
     ]
    }
   ],
   "source": [
    "# GB 4\n",
    "gb_classifier4 = GradientBoostingClassifier(\n",
    "    loss='exponential',        # Función de pérdida\n",
    "    learning_rate=0.7,      # Tasa de aprendizaje\n",
    "    n_estimators=500,       # Número de estimadores\n",
    "    subsample=1,          # Submuestreo\n",
    "    criterion='friedman_mse',# Criterio de calidad \n",
    "    max_depth=1,            # Profundidad máxima\n",
    "    max_features=None,      # Todas las características\n",
    "    random_state=42,        # Estado aleatorio para reproducibilidad\n",
    "    verbose=1               # Nivel de verbosidad\n",
    ")\n",
    "gb_classifier4.fit(X_train_scaled,y_train)\n",
    "\n",
    "gb_predicts4 = gb_classifier4.predict(X_test_scaled)\n",
    "\n",
    "acc = roc_auc_score(gb_predicts4,y_test)\n",
    "print(\"RandomForest - Roc Auc Score: \",acc)"
   ]
  },
  {
   "cell_type": "code",
   "execution_count": 82,
   "metadata": {},
   "outputs": [
    {
     "name": "stdout",
     "output_type": "stream",
     "text": [
      "      Iter       Train Loss   Remaining Time \n",
      "         1           0.8677           15.42s\n",
      "         2           0.7851           12.89s\n",
      "         3           0.7104           12.06s\n",
      "         4           0.6428           10.76s\n",
      "         5           0.5816           11.73s\n",
      "         6           0.5263            9.76s\n",
      "         7           0.4762            9.45s\n",
      "         8           0.4309           10.17s\n",
      "         9           0.3899           10.73s\n",
      "        10           0.3528           10.40s\n",
      "        20           0.1298            8.11s\n",
      "        30           0.0477            8.46s\n",
      "        40           0.0176            7.71s\n",
      "        50           0.0065            7.02s\n",
      "        60           0.0024            6.41s\n",
      "        70           0.0009            6.05s\n",
      "        80           0.0003            5.75s\n",
      "        90           0.0001            5.49s\n",
      "       100           0.0000            5.23s\n",
      "       200           0.0000            3.31s\n",
      "       300           0.0000            1.55s\n",
      "       400           0.0000            0.61s\n",
      "       500           0.0000            0.00s\n",
      "RandomForest - Roc Auc Score:  1.0\n"
     ]
    }
   ],
   "source": [
    "# GB 5\n",
    "gb_classifier5 = GradientBoostingClassifier(\n",
    "    loss='exponential',        # Función de pérdida \n",
    "    n_estimators=500,       # Número de estimadores\n",
    "    subsample=1,          # Submuestreo  \n",
    "    random_state=42,        # Estado aleatorio para reproducibilidad\n",
    "    verbose=1               # Nivel de verbosidad\n",
    ")\n",
    "gb_classifier5.fit(X_train_scaled,y_train)\n",
    "\n",
    "gb_predicts5 = gb_classifier5.predict(X_test_scaled)\n",
    "\n",
    "acc = roc_auc_score(gb_predicts5,y_test)\n",
    "print(\"RandomForest - Roc Auc Score: \",acc)"
   ]
  },
  {
   "cell_type": "markdown",
   "metadata": {},
   "source": [
    "### 4.10 XGBoost"
   ]
  },
  {
   "cell_type": "code",
   "execution_count": 83,
   "metadata": {},
   "outputs": [],
   "source": [
    "import xgboost as xgb"
   ]
  },
  {
   "cell_type": "code",
   "execution_count": 84,
   "metadata": {},
   "outputs": [
    {
     "name": "stdout",
     "output_type": "stream",
     "text": [
      "RandomForest - Roc Auc Score:  1.0\n"
     ]
    }
   ],
   "source": [
    "# XGB \n",
    "xgb_classifier = xgb.XGBClassifier()\n",
    "xgb_classifier .fit(X_train_scaled,y_train)\n",
    "\n",
    "xgb_predicts = xgb_classifier.predict(X_test_scaled)\n",
    "\n",
    "acc = roc_auc_score(xgb_predicts,y_test)\n",
    "print(\"RandomForest - Roc Auc Score: \",acc)"
   ]
  },
  {
   "cell_type": "code",
   "execution_count": 85,
   "metadata": {},
   "outputs": [
    {
     "name": "stdout",
     "output_type": "stream",
     "text": [
      "RandomForest - Roc Auc Score:  1.0\n"
     ]
    }
   ],
   "source": [
    "# XGB 1\n",
    "xgb_classifier1 = xgb.XGBClassifier(\n",
    "    n_estimators=100,           # Número de árboles\n",
    "    learning_rate=0.1,          # Tasa de aprendizaje\n",
    "    max_depth=6,                # Profundidad máxima de los árboles\n",
    "    min_child_weight=1,         # Peso mínimo en un nodo hijo\n",
    "    subsample=0.8,              # Fracción de muestras para entrenar cada árbol\n",
    "    colsample_bytree=0.8,       # Fracción de características para entrenar cada árbol\n",
    "    gamma=0,                    # Mínima reducción de la función de pérdida para dividir un nodo\n",
    "    reg_alpha=0,                # Regularización L1\n",
    "    reg_lambda=1,               # Regularización L2\n",
    "    scale_pos_weight=1,         # Balance de clases\n",
    "    objective='binary:logistic', # Función de objetivo para clasificación multiclase\n",
    "    booster='gbtree',           # Tipo de modelo base\n",
    "    n_jobs=-1,                  # Usar todos los núcleos disponibles\n",
    "    random_state=42,            # Estado aleatorio para reproducibilidad\n",
    "    verbosity=1                 # Nivel de verbosidad\n",
    ")\n",
    "\n",
    "\n",
    "xgb_classifier1 .fit(X_train_scaled,y_train)\n",
    "\n",
    "xgb_predicts1 = xgb_classifier1.predict(X_test_scaled)\n",
    "\n",
    "acc = roc_auc_score(xgb_predicts1,y_test)\n",
    "print(\"RandomForest - Roc Auc Score: \",acc)"
   ]
  },
  {
   "cell_type": "code",
   "execution_count": 86,
   "metadata": {},
   "outputs": [
    {
     "name": "stdout",
     "output_type": "stream",
     "text": [
      "RandomForest - Roc Auc Score:  1.0\n"
     ]
    }
   ],
   "source": [
    "# XGB 2\n",
    "xgb_classifier2 = xgb.XGBClassifier(\n",
    "    n_estimators=200,           # Número de árboles\n",
    "    learning_rate=0.1,          # Tasa de aprendizaje\n",
    "    max_depth=6,                # Profundidad máxima de los árboles\n",
    "    min_child_weight=1,         # Peso mínimo en un nodo hijo\n",
    "    subsample=0.8,              # Fracción de muestras para entrenar cada árbol\n",
    "    colsample_bytree=0.8,       # Fracción de características para entrenar cada árbol\n",
    "    gamma=0,                    # Mínima reducción de la función de pérdida para dividir un nodo\n",
    "    reg_alpha=0,                # Regularización L1\n",
    "    reg_lambda=1,               # Regularización L2\n",
    "    scale_pos_weight=1,         # Balance de clases\n",
    "    objective='binary:logistic', # Función de objetivo para clasificación multiclase {'binary:logistic', 'multi:softmax', 'multi:softprob', etc.}\n",
    "    booster='gbtree',           # Tipo de modelo base {'gbtree', 'gblinear', 'dart'}\n",
    "    n_jobs=-1,                  # Usar todos los núcleos disponibles\n",
    "    random_state=2024,            # Estado aleatorio para reproducibilidad\n",
    "    verbosity=2                 # Nivel de verbosidad\n",
    ")\n",
    "\n",
    "\n",
    "xgb_classifier2 .fit(X_train_scaled,y_train)\n",
    "\n",
    "xgb_predicts2 = xgb_classifier2.predict(X_test_scaled)\n",
    "\n",
    "acc = roc_auc_score(xgb_predicts2,y_test)\n",
    "print(\"RandomForest - Roc Auc Score: \",acc)"
   ]
  },
  {
   "cell_type": "code",
   "execution_count": 87,
   "metadata": {},
   "outputs": [
    {
     "name": "stdout",
     "output_type": "stream",
     "text": [
      "RandomForest - Roc Auc Score:  1.0\n"
     ]
    }
   ],
   "source": [
    "# XGB 3\n",
    "xgb_classifier3 = xgb.XGBClassifier(\n",
    "    n_estimators=200,           # Número de árboles\n",
    "    learning_rate=0.1,          # Tasa de aprendizaje\n",
    "    max_depth=6,                # Profundidad máxima de los árboles\n",
    "    min_child_weight=1,         # Peso mínimo en un nodo hijo\n",
    "    subsample=0.8,              # Fracción de muestras para entrenar cada árbol\n",
    "    colsample_bytree=0.8,       # Fracción de características para entrenar cada árbol\n",
    "    gamma=0,                    # Mínima reducción de la función de pérdida para dividir un nodo\n",
    "    reg_alpha=0,                # Regularización L1\n",
    "    reg_lambda=1,               # Regularización L2\n",
    "    scale_pos_weight=1,         # Balance de clases\n",
    "    objective='binary:logistic', # Función de objetivo para clasificación multiclase {'binary:logistic', 'multi:softmax', 'multi:softprob', etc.}\n",
    "    booster='gbtree',           # Tipo de modelo base {'gbtree', 'gblinear', 'dart'}\n",
    "    n_jobs=-1,                  # Usar todos los núcleos disponibles\n",
    "    random_state=2024,            # Estado aleatorio para reproducibilidad\n",
    "    verbosity=2                 # Nivel de verbosidad\n",
    ")\n",
    "\n",
    "\n",
    "xgb_classifier3 .fit(X_train_scaled,y_train)\n",
    "\n",
    "xgb_predicts3 = xgb_classifier3.predict(X_test_scaled)\n",
    "\n",
    "acc = roc_auc_score(xgb_predicts3,y_test)\n",
    "print(\"RandomForest - Roc Auc Score: \",acc)"
   ]
  },
  {
   "cell_type": "code",
   "execution_count": 88,
   "metadata": {},
   "outputs": [
    {
     "name": "stdout",
     "output_type": "stream",
     "text": [
      "RandomForest - Roc Auc Score:  1.0\n"
     ]
    }
   ],
   "source": [
    "# XGB 4\n",
    "xgb_classifier4 = xgb.XGBClassifier(\n",
    "    n_estimators=200,           # Número de árboles\n",
    "    learning_rate=0.1,          # Tasa de aprendizaje    \n",
    "    reg_alpha=0,                # Regularización L1\n",
    "    reg_lambda=1,               # Regularización L2\n",
    "    scale_pos_weight=1,         # Balance de clases\n",
    "    objective='binary:logistic', # Función de objetivo para clasificación multiclase {'binary:logistic', 'multi:softmax', 'multi:softprob', etc.}\n",
    "    booster='gbtree',           # Tipo de modelo base {'gbtree', 'gblinear', 'dart'}\n",
    "    n_jobs=-1,                  # Usar todos los núcleos disponibles\n",
    "    random_state=2024,            # Estado aleatorio para reproducibilidad\n",
    "    verbosity=1                 # Nivel de verbosidad\n",
    ")\n",
    "\n",
    "\n",
    "xgb_classifier4.fit(X_train_scaled,y_train)\n",
    "\n",
    "xgb_predicts4 = xgb_classifier4.predict(X_test_scaled)\n",
    "\n",
    "acc = roc_auc_score(xgb_predicts4,y_test)\n",
    "print(\"RandomForest - Roc Auc Score: \",acc)"
   ]
  },
  {
   "cell_type": "code",
   "execution_count": 89,
   "metadata": {},
   "outputs": [
    {
     "name": "stdout",
     "output_type": "stream",
     "text": [
      "RandomForest - Roc Auc Score:  1.0\n"
     ]
    }
   ],
   "source": [
    "# XGB 5\n",
    "xgb_classifier5 = xgb.XGBClassifier(\n",
    "    n_estimators=200,           # Número de árboles\n",
    "    learning_rate=0.1,          # Tasa de aprendizaje    \n",
    "    scale_pos_weight=3,         # Balance de clases\n",
    "    objective='binary:logistic', # Función de objetivo para clasificación multiclase {'binary:logistic', 'multi:softmax', 'multi:softprob', etc.}\n",
    "    booster='dart',           # Tipo de modelo base {'gbtree', 'gblinear', 'dart'}\n",
    "    n_jobs=-1,                  # Usar todos los núcleos disponibles\n",
    "    random_state=2024,            # Estado aleatorio para reproducibilidad\n",
    "    verbosity=1                 # Nivel de verbosidad\n",
    ")\n",
    "\n",
    "\n",
    "xgb_classifier5.fit(X_train_scaled,y_train)\n",
    "\n",
    "xgb_predicts5 = xgb_classifier5.predict(X_test_scaled)\n",
    "\n",
    "acc = roc_auc_score(xgb_predicts5,y_test)\n",
    "print(\"RandomForest - Roc Auc Score: \",acc)"
   ]
  },
  {
   "cell_type": "markdown",
   "metadata": {},
   "source": [
    "### 4.11 LGBM"
   ]
  },
  {
   "cell_type": "code",
   "execution_count": 90,
   "metadata": {},
   "outputs": [
    {
     "name": "stdout",
     "output_type": "stream",
     "text": [
      "[LightGBM] [Info] Number of positive: 6448, number of negative: 11552\n",
      "[LightGBM] [Info] Auto-choosing row-wise multi-threading, the overhead of testing was 0.000742 seconds.\n",
      "You can set `force_row_wise=true` to remove the overhead.\n",
      "And if memory is not enough, you can set `force_col_wise=true`.\n",
      "[LightGBM] [Info] Total Bins 1653\n",
      "[LightGBM] [Info] Number of data points in the train set: 18000, number of used features: 14\n",
      "[LightGBM] [Info] [binary:BoostFromScore]: pavg=0.358222 -> initscore=-0.583089\n",
      "[LightGBM] [Info] Start training from score -0.583089\n",
      "[LightGBM] [Warning] No further splits with positive gain, best gain: -inf\n",
      "[LightGBM] [Warning] No further splits with positive gain, best gain: -inf\n",
      "[LightGBM] [Warning] No further splits with positive gain, best gain: -inf\n",
      "[LightGBM] [Warning] No further splits with positive gain, best gain: -inf\n",
      "[LightGBM] [Warning] No further splits with positive gain, best gain: -inf\n",
      "[LightGBM] [Warning] No further splits with positive gain, best gain: -inf\n",
      "[LightGBM] [Warning] No further splits with positive gain, best gain: -inf\n",
      "[LightGBM] [Warning] No further splits with positive gain, best gain: -inf\n",
      "[LightGBM] [Warning] No further splits with positive gain, best gain: -inf\n",
      "[LightGBM] [Warning] No further splits with positive gain, best gain: -inf\n",
      "[LightGBM] [Warning] No further splits with positive gain, best gain: -inf\n",
      "[LightGBM] [Warning] No further splits with positive gain, best gain: -inf\n",
      "[LightGBM] [Warning] No further splits with positive gain, best gain: -inf\n",
      "[LightGBM] [Warning] No further splits with positive gain, best gain: -inf\n",
      "[LightGBM] [Warning] No further splits with positive gain, best gain: -inf\n",
      "[LightGBM] [Warning] No further splits with positive gain, best gain: -inf\n",
      "[LightGBM] [Warning] No further splits with positive gain, best gain: -inf\n",
      "[LightGBM] [Warning] No further splits with positive gain, best gain: -inf\n",
      "[LightGBM] [Warning] No further splits with positive gain, best gain: -inf\n",
      "[LightGBM] [Warning] No further splits with positive gain, best gain: -inf\n",
      "[LightGBM] [Warning] No further splits with positive gain, best gain: -inf\n",
      "[LightGBM] [Warning] No further splits with positive gain, best gain: -inf\n",
      "[LightGBM] [Warning] No further splits with positive gain, best gain: -inf\n",
      "[LightGBM] [Warning] No further splits with positive gain, best gain: -inf\n",
      "[LightGBM] [Warning] No further splits with positive gain, best gain: -inf\n",
      "[LightGBM] [Warning] No further splits with positive gain, best gain: -inf\n",
      "[LightGBM] [Warning] No further splits with positive gain, best gain: -inf\n",
      "[LightGBM] [Warning] No further splits with positive gain, best gain: -inf\n",
      "[LightGBM] [Warning] No further splits with positive gain, best gain: -inf\n",
      "[LightGBM] [Warning] No further splits with positive gain, best gain: -inf\n",
      "[LightGBM] [Warning] No further splits with positive gain, best gain: -inf\n",
      "[LightGBM] [Warning] No further splits with positive gain, best gain: -inf\n",
      "[LightGBM] [Warning] No further splits with positive gain, best gain: -inf\n",
      "[LightGBM] [Warning] No further splits with positive gain, best gain: -inf\n",
      "[LightGBM] [Warning] No further splits with positive gain, best gain: -inf\n",
      "[LightGBM] [Warning] No further splits with positive gain, best gain: -inf\n",
      "[LightGBM] [Warning] No further splits with positive gain, best gain: -inf\n",
      "[LightGBM] [Warning] No further splits with positive gain, best gain: -inf\n",
      "[LightGBM] [Warning] No further splits with positive gain, best gain: -inf\n",
      "[LightGBM] [Warning] No further splits with positive gain, best gain: -inf\n",
      "[LightGBM] [Warning] No further splits with positive gain, best gain: -inf\n",
      "[LightGBM] [Warning] No further splits with positive gain, best gain: -inf\n",
      "[LightGBM] [Warning] No further splits with positive gain, best gain: -inf\n",
      "[LightGBM] [Warning] No further splits with positive gain, best gain: -inf\n",
      "[LightGBM] [Warning] No further splits with positive gain, best gain: -inf\n",
      "[LightGBM] [Warning] No further splits with positive gain, best gain: -inf\n",
      "[LightGBM] [Warning] No further splits with positive gain, best gain: -inf\n",
      "[LightGBM] [Warning] No further splits with positive gain, best gain: -inf\n",
      "[LightGBM] [Warning] No further splits with positive gain, best gain: -inf\n",
      "[LightGBM] [Warning] No further splits with positive gain, best gain: -inf\n",
      "[LightGBM] [Warning] No further splits with positive gain, best gain: -inf\n",
      "[LightGBM] [Warning] No further splits with positive gain, best gain: -inf\n",
      "[LightGBM] [Warning] No further splits with positive gain, best gain: -inf\n",
      "[LightGBM] [Warning] No further splits with positive gain, best gain: -inf\n",
      "[LightGBM] [Warning] No further splits with positive gain, best gain: -inf\n",
      "[LightGBM] [Warning] No further splits with positive gain, best gain: -inf\n",
      "[LightGBM] [Warning] No further splits with positive gain, best gain: -inf\n",
      "[LightGBM] [Warning] No further splits with positive gain, best gain: -inf\n",
      "[LightGBM] [Warning] No further splits with positive gain, best gain: -inf\n",
      "[LightGBM] [Warning] No further splits with positive gain, best gain: -inf\n",
      "[LightGBM] [Warning] No further splits with positive gain, best gain: -inf\n",
      "[LightGBM] [Warning] No further splits with positive gain, best gain: -inf\n",
      "[LightGBM] [Warning] No further splits with positive gain, best gain: -inf\n",
      "[LightGBM] [Warning] No further splits with positive gain, best gain: -inf\n",
      "[LightGBM] [Warning] No further splits with positive gain, best gain: -inf\n",
      "[LightGBM] [Warning] No further splits with positive gain, best gain: -inf\n",
      "[LightGBM] [Warning] No further splits with positive gain, best gain: -inf\n",
      "[LightGBM] [Warning] No further splits with positive gain, best gain: -inf\n",
      "[LightGBM] [Warning] No further splits with positive gain, best gain: -inf\n",
      "[LightGBM] [Warning] No further splits with positive gain, best gain: -inf\n",
      "[LightGBM] [Warning] No further splits with positive gain, best gain: -inf\n",
      "[LightGBM] [Warning] No further splits with positive gain, best gain: -inf\n",
      "[LightGBM] [Warning] No further splits with positive gain, best gain: -inf\n",
      "[LightGBM] [Warning] No further splits with positive gain, best gain: -inf\n",
      "[LightGBM] [Warning] No further splits with positive gain, best gain: -inf\n",
      "[LightGBM] [Warning] No further splits with positive gain, best gain: -inf\n",
      "[LightGBM] [Warning] No further splits with positive gain, best gain: -inf\n",
      "[LightGBM] [Warning] No further splits with positive gain, best gain: -inf\n",
      "[LightGBM] [Warning] No further splits with positive gain, best gain: -inf\n",
      "[LightGBM] [Warning] No further splits with positive gain, best gain: -inf\n",
      "[LightGBM] [Warning] No further splits with positive gain, best gain: -inf\n",
      "[LightGBM] [Warning] No further splits with positive gain, best gain: -inf\n",
      "[LightGBM] [Warning] No further splits with positive gain, best gain: -inf\n",
      "[LightGBM] [Warning] No further splits with positive gain, best gain: -inf\n",
      "[LightGBM] [Warning] No further splits with positive gain, best gain: -inf\n",
      "[LightGBM] [Warning] No further splits with positive gain, best gain: -inf\n",
      "[LightGBM] [Warning] No further splits with positive gain, best gain: -inf\n",
      "[LightGBM] [Warning] No further splits with positive gain, best gain: -inf\n",
      "[LightGBM] [Warning] No further splits with positive gain, best gain: -inf\n",
      "[LightGBM] [Warning] No further splits with positive gain, best gain: -inf\n",
      "[LightGBM] [Warning] No further splits with positive gain, best gain: -inf\n",
      "[LightGBM] [Warning] No further splits with positive gain, best gain: -inf\n",
      "[LightGBM] [Warning] No further splits with positive gain, best gain: -inf\n",
      "[LightGBM] [Warning] No further splits with positive gain, best gain: -inf\n",
      "[LightGBM] [Warning] No further splits with positive gain, best gain: -inf\n",
      "[LightGBM] [Warning] No further splits with positive gain, best gain: -inf\n",
      "[LightGBM] [Warning] No further splits with positive gain, best gain: -inf\n",
      "[LightGBM] [Warning] No further splits with positive gain, best gain: -inf\n",
      "[LightGBM] [Warning] No further splits with positive gain, best gain: -inf\n",
      "[LightGBM] [Warning] No further splits with positive gain, best gain: -inf\n",
      "RandomForest - Roc Auc Score:  1.0\n"
     ]
    }
   ],
   "source": [
    "import lightgbm as lgb\n",
    "# Crear un clasificador LightGBM\n",
    "lgb_classifier = lgb.LGBMClassifier( )\n",
    "\n",
    "lgb_classifier .fit(X_train_scaled,y_train)\n",
    "\n",
    "lgb_predicts = lgb_classifier.predict(X_test_scaled)\n",
    "\n",
    "acc = roc_auc_score(lgb_predicts,y_test)\n",
    "print(\"RandomForest - Roc Auc Score: \",acc)\n"
   ]
  },
  {
   "cell_type": "code",
   "execution_count": 92,
   "metadata": {},
   "outputs": [
    {
     "name": "stdout",
     "output_type": "stream",
     "text": [
      "[LightGBM] [Info] Number of positive: 6448, number of negative: 11552\n",
      "[LightGBM] [Info] Auto-choosing col-wise multi-threading, the overhead of testing was 0.004022 seconds.\n",
      "You can set `force_col_wise=true` to remove the overhead.\n",
      "[LightGBM] [Info] Total Bins 1653\n",
      "[LightGBM] [Info] Number of data points in the train set: 18000, number of used features: 14\n",
      "[LightGBM] [Info] [binary:BoostFromScore]: pavg=0.358222 -> initscore=-0.583089\n",
      "[LightGBM] [Info] Start training from score -0.583089\n",
      "[LightGBM] [Warning] No further splits with positive gain, best gain: -inf\n",
      "[LightGBM] [Warning] No further splits with positive gain, best gain: -inf\n",
      "[LightGBM] [Warning] No further splits with positive gain, best gain: -inf\n",
      "[LightGBM] [Warning] No further splits with positive gain, best gain: -inf\n",
      "[LightGBM] [Warning] No further splits with positive gain, best gain: -inf\n",
      "[LightGBM] [Warning] No further splits with positive gain, best gain: -inf\n",
      "[LightGBM] [Warning] No further splits with positive gain, best gain: -inf\n",
      "[LightGBM] [Warning] No further splits with positive gain, best gain: -inf\n",
      "[LightGBM] [Warning] No further splits with positive gain, best gain: -inf\n",
      "[LightGBM] [Warning] No further splits with positive gain, best gain: -inf\n",
      "[LightGBM] [Warning] No further splits with positive gain, best gain: -inf\n",
      "[LightGBM] [Warning] No further splits with positive gain, best gain: -inf\n",
      "[LightGBM] [Warning] No further splits with positive gain, best gain: -inf\n",
      "[LightGBM] [Warning] No further splits with positive gain, best gain: -inf\n",
      "[LightGBM] [Warning] No further splits with positive gain, best gain: -inf\n",
      "[LightGBM] [Warning] No further splits with positive gain, best gain: -inf\n",
      "[LightGBM] [Warning] No further splits with positive gain, best gain: -inf\n",
      "[LightGBM] [Warning] No further splits with positive gain, best gain: -inf\n",
      "[LightGBM] [Warning] No further splits with positive gain, best gain: -inf\n",
      "[LightGBM] [Warning] No further splits with positive gain, best gain: -inf\n",
      "[LightGBM] [Warning] No further splits with positive gain, best gain: -inf\n",
      "[LightGBM] [Warning] No further splits with positive gain, best gain: -inf\n",
      "[LightGBM] [Warning] No further splits with positive gain, best gain: -inf\n",
      "[LightGBM] [Warning] No further splits with positive gain, best gain: -inf\n",
      "[LightGBM] [Warning] No further splits with positive gain, best gain: -inf\n",
      "[LightGBM] [Warning] No further splits with positive gain, best gain: -inf\n",
      "[LightGBM] [Warning] No further splits with positive gain, best gain: -inf\n",
      "[LightGBM] [Warning] No further splits with positive gain, best gain: -inf\n",
      "[LightGBM] [Warning] No further splits with positive gain, best gain: -inf\n",
      "[LightGBM] [Warning] No further splits with positive gain, best gain: -inf\n",
      "[LightGBM] [Warning] No further splits with positive gain, best gain: -inf\n",
      "[LightGBM] [Warning] No further splits with positive gain, best gain: -inf\n",
      "[LightGBM] [Warning] No further splits with positive gain, best gain: -inf\n",
      "[LightGBM] [Warning] No further splits with positive gain, best gain: -inf\n",
      "[LightGBM] [Warning] No further splits with positive gain, best gain: -inf\n",
      "[LightGBM] [Warning] No further splits with positive gain, best gain: -inf\n",
      "[LightGBM] [Warning] No further splits with positive gain, best gain: -inf\n",
      "[LightGBM] [Warning] No further splits with positive gain, best gain: -inf\n",
      "[LightGBM] [Warning] No further splits with positive gain, best gain: -inf\n",
      "[LightGBM] [Warning] No further splits with positive gain, best gain: -inf\n",
      "[LightGBM] [Warning] No further splits with positive gain, best gain: -inf\n",
      "[LightGBM] [Warning] No further splits with positive gain, best gain: -inf\n",
      "[LightGBM] [Warning] No further splits with positive gain, best gain: -inf\n",
      "[LightGBM] [Warning] No further splits with positive gain, best gain: -inf\n",
      "[LightGBM] [Warning] No further splits with positive gain, best gain: -inf\n",
      "[LightGBM] [Warning] No further splits with positive gain, best gain: -inf\n",
      "[LightGBM] [Warning] No further splits with positive gain, best gain: -inf\n",
      "[LightGBM] [Warning] No further splits with positive gain, best gain: -inf\n",
      "[LightGBM] [Warning] No further splits with positive gain, best gain: -inf\n",
      "[LightGBM] [Warning] No further splits with positive gain, best gain: -inf\n",
      "[LightGBM] [Warning] No further splits with positive gain, best gain: -inf\n",
      "[LightGBM] [Warning] No further splits with positive gain, best gain: -inf\n",
      "[LightGBM] [Warning] No further splits with positive gain, best gain: -inf\n",
      "[LightGBM] [Warning] No further splits with positive gain, best gain: -inf\n",
      "[LightGBM] [Warning] No further splits with positive gain, best gain: -inf\n",
      "[LightGBM] [Warning] No further splits with positive gain, best gain: -inf\n",
      "[LightGBM] [Warning] No further splits with positive gain, best gain: -inf\n",
      "[LightGBM] [Warning] No further splits with positive gain, best gain: -inf\n",
      "[LightGBM] [Warning] No further splits with positive gain, best gain: -inf\n",
      "[LightGBM] [Warning] No further splits with positive gain, best gain: -inf\n",
      "[LightGBM] [Warning] No further splits with positive gain, best gain: -inf\n",
      "[LightGBM] [Warning] No further splits with positive gain, best gain: -inf\n",
      "[LightGBM] [Warning] No further splits with positive gain, best gain: -inf\n",
      "[LightGBM] [Warning] No further splits with positive gain, best gain: -inf\n",
      "[LightGBM] [Warning] No further splits with positive gain, best gain: -inf\n",
      "[LightGBM] [Warning] No further splits with positive gain, best gain: -inf\n",
      "[LightGBM] [Warning] No further splits with positive gain, best gain: -inf\n",
      "[LightGBM] [Warning] No further splits with positive gain, best gain: -inf\n",
      "[LightGBM] [Warning] No further splits with positive gain, best gain: -inf\n",
      "[LightGBM] [Warning] No further splits with positive gain, best gain: -inf\n",
      "[LightGBM] [Warning] No further splits with positive gain, best gain: -inf\n",
      "[LightGBM] [Warning] No further splits with positive gain, best gain: -inf\n",
      "[LightGBM] [Warning] No further splits with positive gain, best gain: -inf\n",
      "[LightGBM] [Warning] No further splits with positive gain, best gain: -inf\n",
      "[LightGBM] [Warning] No further splits with positive gain, best gain: -inf\n",
      "[LightGBM] [Warning] No further splits with positive gain, best gain: -inf\n",
      "[LightGBM] [Warning] No further splits with positive gain, best gain: -inf\n",
      "[LightGBM] [Warning] No further splits with positive gain, best gain: -inf\n",
      "[LightGBM] [Warning] No further splits with positive gain, best gain: -inf\n",
      "[LightGBM] [Warning] No further splits with positive gain, best gain: -inf\n",
      "[LightGBM] [Warning] No further splits with positive gain, best gain: -inf\n",
      "[LightGBM] [Warning] No further splits with positive gain, best gain: -inf\n",
      "[LightGBM] [Warning] No further splits with positive gain, best gain: -inf\n",
      "[LightGBM] [Warning] No further splits with positive gain, best gain: -inf\n",
      "[LightGBM] [Warning] No further splits with positive gain, best gain: -inf\n",
      "[LightGBM] [Warning] No further splits with positive gain, best gain: -inf\n",
      "[LightGBM] [Warning] No further splits with positive gain, best gain: -inf\n",
      "[LightGBM] [Warning] No further splits with positive gain, best gain: -inf\n",
      "[LightGBM] [Warning] No further splits with positive gain, best gain: -inf\n",
      "[LightGBM] [Warning] No further splits with positive gain, best gain: -inf\n",
      "[LightGBM] [Warning] No further splits with positive gain, best gain: -inf\n",
      "[LightGBM] [Warning] No further splits with positive gain, best gain: -inf\n",
      "[LightGBM] [Warning] No further splits with positive gain, best gain: -inf\n",
      "[LightGBM] [Warning] No further splits with positive gain, best gain: -inf\n",
      "[LightGBM] [Warning] No further splits with positive gain, best gain: -inf\n",
      "[LightGBM] [Warning] No further splits with positive gain, best gain: -inf\n",
      "[LightGBM] [Warning] No further splits with positive gain, best gain: -inf\n",
      "[LightGBM] [Warning] No further splits with positive gain, best gain: -inf\n",
      "[LightGBM] [Warning] No further splits with positive gain, best gain: -inf\n",
      "[LightGBM] [Warning] No further splits with positive gain, best gain: -inf\n",
      "RandomForest - Roc Auc Score:  1.0\n"
     ]
    }
   ],
   "source": [
    "#  LightGBM1\n",
    "lgb_classifier1 = lgb.LGBMClassifier( \n",
    "    n_estimators=100, \n",
    "    learning_rate=0.1, \n",
    "    num_leaves=20,\n",
    "    max_depth=10,\n",
    "    min_child_samples=10,\n",
    "    subsample=0.8,\n",
    "    colsample_bytree=0.9,\n",
    "    reg_alpha=1,\n",
    "    reg_lambda=0    \n",
    "    )\n",
    "\n",
    "lgb_classifier1 .fit(X_train_scaled,y_train)\n",
    "\n",
    "lgb_predicts1 = lgb_classifier1.predict(X_test_scaled)\n",
    "\n",
    "acc = roc_auc_score(lgb_predicts1,y_test)\n",
    "print(\"RandomForest - Roc Auc Score: \",acc)"
   ]
  },
  {
   "cell_type": "code",
   "execution_count": 94,
   "metadata": {},
   "outputs": [
    {
     "name": "stdout",
     "output_type": "stream",
     "text": [
      "[LightGBM] [Info] Number of positive: 6448, number of negative: 11552\n",
      "[LightGBM] [Info] Auto-choosing col-wise multi-threading, the overhead of testing was 0.000776 seconds.\n",
      "You can set `force_col_wise=true` to remove the overhead.\n",
      "[LightGBM] [Info] Total Bins 1653\n",
      "[LightGBM] [Info] Number of data points in the train set: 18000, number of used features: 14\n",
      "[LightGBM] [Info] [binary:BoostFromScore]: pavg=0.358222 -> initscore=-0.583089\n",
      "[LightGBM] [Info] Start training from score -0.583089\n",
      "[LightGBM] [Warning] No further splits with positive gain, best gain: -inf\n",
      "[LightGBM] [Warning] No further splits with positive gain, best gain: -inf\n",
      "[LightGBM] [Warning] No further splits with positive gain, best gain: -inf\n",
      "[LightGBM] [Warning] No further splits with positive gain, best gain: -inf\n",
      "[LightGBM] [Warning] No further splits with positive gain, best gain: -inf\n",
      "[LightGBM] [Warning] No further splits with positive gain, best gain: -inf\n",
      "[LightGBM] [Warning] No further splits with positive gain, best gain: -inf\n",
      "[LightGBM] [Warning] No further splits with positive gain, best gain: -inf\n",
      "[LightGBM] [Warning] No further splits with positive gain, best gain: -inf\n",
      "[LightGBM] [Warning] No further splits with positive gain, best gain: -inf\n",
      "[LightGBM] [Warning] No further splits with positive gain, best gain: -inf\n",
      "[LightGBM] [Warning] No further splits with positive gain, best gain: -inf\n",
      "[LightGBM] [Warning] No further splits with positive gain, best gain: -inf\n",
      "[LightGBM] [Warning] No further splits with positive gain, best gain: -inf\n",
      "[LightGBM] [Warning] No further splits with positive gain, best gain: -inf\n",
      "[LightGBM] [Warning] No further splits with positive gain, best gain: -inf\n",
      "[LightGBM] [Warning] No further splits with positive gain, best gain: -inf\n",
      "[LightGBM] [Warning] No further splits with positive gain, best gain: -inf\n",
      "[LightGBM] [Warning] No further splits with positive gain, best gain: -inf\n",
      "[LightGBM] [Warning] No further splits with positive gain, best gain: -inf\n",
      "[LightGBM] [Warning] No further splits with positive gain, best gain: -inf\n",
      "[LightGBM] [Warning] No further splits with positive gain, best gain: -inf\n",
      "[LightGBM] [Warning] No further splits with positive gain, best gain: -inf\n",
      "[LightGBM] [Warning] No further splits with positive gain, best gain: -inf\n",
      "[LightGBM] [Warning] No further splits with positive gain, best gain: -inf\n",
      "[LightGBM] [Warning] No further splits with positive gain, best gain: -inf\n",
      "[LightGBM] [Warning] No further splits with positive gain, best gain: -inf\n",
      "[LightGBM] [Warning] No further splits with positive gain, best gain: -inf\n",
      "[LightGBM] [Warning] No further splits with positive gain, best gain: -inf\n",
      "[LightGBM] [Warning] No further splits with positive gain, best gain: -inf\n",
      "[LightGBM] [Warning] No further splits with positive gain, best gain: -inf\n",
      "[LightGBM] [Warning] No further splits with positive gain, best gain: -inf\n",
      "[LightGBM] [Warning] No further splits with positive gain, best gain: -inf\n",
      "[LightGBM] [Warning] No further splits with positive gain, best gain: -inf\n",
      "[LightGBM] [Warning] No further splits with positive gain, best gain: -inf\n",
      "[LightGBM] [Warning] No further splits with positive gain, best gain: -inf\n",
      "[LightGBM] [Warning] No further splits with positive gain, best gain: -inf\n",
      "[LightGBM] [Warning] No further splits with positive gain, best gain: -inf\n",
      "[LightGBM] [Warning] No further splits with positive gain, best gain: -inf\n",
      "[LightGBM] [Warning] No further splits with positive gain, best gain: -inf\n",
      "[LightGBM] [Warning] No further splits with positive gain, best gain: -inf\n",
      "[LightGBM] [Warning] No further splits with positive gain, best gain: -inf\n",
      "[LightGBM] [Warning] No further splits with positive gain, best gain: -inf\n",
      "[LightGBM] [Warning] No further splits with positive gain, best gain: -inf\n",
      "[LightGBM] [Warning] No further splits with positive gain, best gain: -inf\n",
      "[LightGBM] [Warning] No further splits with positive gain, best gain: -inf\n",
      "[LightGBM] [Warning] No further splits with positive gain, best gain: -inf\n",
      "[LightGBM] [Warning] No further splits with positive gain, best gain: -inf\n",
      "[LightGBM] [Warning] No further splits with positive gain, best gain: -inf\n",
      "[LightGBM] [Warning] No further splits with positive gain, best gain: -inf\n",
      "RandomForest - Roc Auc Score:  1.0\n"
     ]
    }
   ],
   "source": [
    "#  LightGBM2\n",
    "lgb_classifier2 = lgb.LGBMClassifier( \n",
    "    n_estimators=50, \n",
    "    learning_rate=0.01, \n",
    "    num_leaves=31,\n",
    "    max_depth=-1,\n",
    "    min_child_samples=20,\n",
    "    subsample=0.9,\n",
    "    colsample_bytree=0.9,\n",
    "    reg_alpha=0.1,\n",
    "    reg_lambda=0.1    \n",
    "    )\n",
    "\n",
    "lgb_classifier2 .fit(X_train_scaled,y_train)\n",
    "\n",
    "lgb_predicts2 = lgb_classifier2.predict(X_test_scaled)\n",
    "\n",
    "acc = roc_auc_score(lgb_predicts2,y_test)\n",
    "print(\"RandomForest - Roc Auc Score: \",acc)"
   ]
  },
  {
   "cell_type": "code",
   "execution_count": 95,
   "metadata": {},
   "outputs": [
    {
     "name": "stdout",
     "output_type": "stream",
     "text": [
      "[LightGBM] [Info] Number of positive: 6448, number of negative: 11552\n",
      "[LightGBM] [Info] Auto-choosing col-wise multi-threading, the overhead of testing was 0.001045 seconds.\n",
      "You can set `force_col_wise=true` to remove the overhead.\n",
      "[LightGBM] [Info] Total Bins 1653\n",
      "[LightGBM] [Info] Number of data points in the train set: 18000, number of used features: 14\n",
      "[LightGBM] [Info] [binary:BoostFromScore]: pavg=0.358222 -> initscore=-0.583089\n",
      "[LightGBM] [Info] Start training from score -0.583089\n",
      "[LightGBM] [Warning] No further splits with positive gain, best gain: -inf\n",
      "[LightGBM] [Warning] No further splits with positive gain, best gain: -inf\n",
      "[LightGBM] [Warning] No further splits with positive gain, best gain: -inf\n",
      "[LightGBM] [Warning] No further splits with positive gain, best gain: -inf\n",
      "[LightGBM] [Warning] No further splits with positive gain, best gain: -inf\n",
      "[LightGBM] [Warning] No further splits with positive gain, best gain: -inf\n",
      "[LightGBM] [Warning] No further splits with positive gain, best gain: -inf\n",
      "[LightGBM] [Warning] No further splits with positive gain, best gain: -inf\n",
      "[LightGBM] [Warning] No further splits with positive gain, best gain: -inf\n",
      "[LightGBM] [Warning] No further splits with positive gain, best gain: -inf\n",
      "[LightGBM] [Warning] No further splits with positive gain, best gain: -inf\n",
      "[LightGBM] [Warning] No further splits with positive gain, best gain: -inf\n",
      "[LightGBM] [Warning] No further splits with positive gain, best gain: -inf\n",
      "[LightGBM] [Warning] No further splits with positive gain, best gain: -inf\n",
      "[LightGBM] [Warning] No further splits with positive gain, best gain: -inf\n",
      "[LightGBM] [Warning] No further splits with positive gain, best gain: -inf\n",
      "[LightGBM] [Warning] No further splits with positive gain, best gain: -inf\n",
      "[LightGBM] [Warning] No further splits with positive gain, best gain: -inf\n",
      "[LightGBM] [Warning] No further splits with positive gain, best gain: -inf\n",
      "[LightGBM] [Warning] No further splits with positive gain, best gain: -inf\n",
      "[LightGBM] [Warning] No further splits with positive gain, best gain: -inf\n",
      "[LightGBM] [Warning] No further splits with positive gain, best gain: -inf\n",
      "[LightGBM] [Warning] No further splits with positive gain, best gain: -inf\n",
      "[LightGBM] [Warning] No further splits with positive gain, best gain: -inf\n",
      "[LightGBM] [Warning] No further splits with positive gain, best gain: -inf\n",
      "[LightGBM] [Warning] No further splits with positive gain, best gain: -inf\n",
      "[LightGBM] [Warning] No further splits with positive gain, best gain: -inf\n",
      "[LightGBM] [Warning] No further splits with positive gain, best gain: -inf\n",
      "[LightGBM] [Warning] No further splits with positive gain, best gain: -inf\n",
      "[LightGBM] [Warning] No further splits with positive gain, best gain: -inf\n",
      "[LightGBM] [Warning] No further splits with positive gain, best gain: -inf\n",
      "[LightGBM] [Warning] No further splits with positive gain, best gain: -inf\n",
      "[LightGBM] [Warning] No further splits with positive gain, best gain: -inf\n",
      "[LightGBM] [Warning] No further splits with positive gain, best gain: -inf\n",
      "[LightGBM] [Warning] No further splits with positive gain, best gain: -inf\n",
      "[LightGBM] [Warning] No further splits with positive gain, best gain: -inf\n",
      "[LightGBM] [Warning] No further splits with positive gain, best gain: -inf\n",
      "[LightGBM] [Warning] No further splits with positive gain, best gain: -inf\n",
      "[LightGBM] [Warning] No further splits with positive gain, best gain: -inf\n",
      "[LightGBM] [Warning] No further splits with positive gain, best gain: -inf\n",
      "[LightGBM] [Warning] No further splits with positive gain, best gain: -inf\n",
      "[LightGBM] [Warning] No further splits with positive gain, best gain: -inf\n",
      "[LightGBM] [Warning] No further splits with positive gain, best gain: -inf\n",
      "[LightGBM] [Warning] No further splits with positive gain, best gain: -inf\n",
      "[LightGBM] [Warning] No further splits with positive gain, best gain: -inf\n",
      "[LightGBM] [Warning] No further splits with positive gain, best gain: -inf\n",
      "[LightGBM] [Warning] No further splits with positive gain, best gain: -inf\n",
      "[LightGBM] [Warning] No further splits with positive gain, best gain: -inf\n",
      "[LightGBM] [Warning] No further splits with positive gain, best gain: -inf\n",
      "[LightGBM] [Warning] No further splits with positive gain, best gain: -inf\n",
      "[LightGBM] [Warning] No further splits with positive gain, best gain: -inf\n",
      "[LightGBM] [Warning] No further splits with positive gain, best gain: -inf\n",
      "[LightGBM] [Warning] No further splits with positive gain, best gain: -inf\n",
      "[LightGBM] [Warning] No further splits with positive gain, best gain: -inf\n",
      "[LightGBM] [Warning] No further splits with positive gain, best gain: -inf\n",
      "[LightGBM] [Warning] No further splits with positive gain, best gain: -inf\n",
      "[LightGBM] [Warning] No further splits with positive gain, best gain: -inf\n",
      "[LightGBM] [Warning] No further splits with positive gain, best gain: -inf\n",
      "[LightGBM] [Warning] No further splits with positive gain, best gain: -inf\n",
      "[LightGBM] [Warning] No further splits with positive gain, best gain: -inf\n",
      "[LightGBM] [Warning] No further splits with positive gain, best gain: -inf\n",
      "[LightGBM] [Warning] No further splits with positive gain, best gain: -inf\n",
      "[LightGBM] [Warning] No further splits with positive gain, best gain: -inf\n",
      "[LightGBM] [Warning] No further splits with positive gain, best gain: -inf\n",
      "[LightGBM] [Warning] No further splits with positive gain, best gain: -inf\n",
      "[LightGBM] [Warning] No further splits with positive gain, best gain: -inf\n",
      "[LightGBM] [Warning] No further splits with positive gain, best gain: -inf\n",
      "[LightGBM] [Warning] No further splits with positive gain, best gain: -inf\n",
      "[LightGBM] [Warning] No further splits with positive gain, best gain: -inf\n",
      "[LightGBM] [Warning] No further splits with positive gain, best gain: -inf\n",
      "[LightGBM] [Warning] No further splits with positive gain, best gain: -inf\n",
      "[LightGBM] [Warning] No further splits with positive gain, best gain: -inf\n",
      "[LightGBM] [Warning] No further splits with positive gain, best gain: -inf\n",
      "[LightGBM] [Warning] No further splits with positive gain, best gain: -inf\n",
      "[LightGBM] [Warning] No further splits with positive gain, best gain: -inf\n",
      "[LightGBM] [Warning] No further splits with positive gain, best gain: -inf\n",
      "[LightGBM] [Warning] No further splits with positive gain, best gain: -inf\n",
      "[LightGBM] [Warning] No further splits with positive gain, best gain: -inf\n",
      "[LightGBM] [Warning] No further splits with positive gain, best gain: -inf\n",
      "[LightGBM] [Warning] No further splits with positive gain, best gain: -inf\n",
      "[LightGBM] [Warning] No further splits with positive gain, best gain: -inf\n",
      "[LightGBM] [Warning] No further splits with positive gain, best gain: -inf\n",
      "[LightGBM] [Warning] No further splits with positive gain, best gain: -inf\n",
      "[LightGBM] [Warning] No further splits with positive gain, best gain: -inf\n",
      "[LightGBM] [Warning] No further splits with positive gain, best gain: -inf\n",
      "[LightGBM] [Warning] No further splits with positive gain, best gain: -inf\n",
      "[LightGBM] [Warning] No further splits with positive gain, best gain: -inf\n",
      "[LightGBM] [Warning] No further splits with positive gain, best gain: -inf\n",
      "[LightGBM] [Warning] No further splits with positive gain, best gain: -inf\n",
      "[LightGBM] [Warning] No further splits with positive gain, best gain: -inf\n",
      "[LightGBM] [Warning] No further splits with positive gain, best gain: -inf\n",
      "[LightGBM] [Warning] No further splits with positive gain, best gain: -inf\n",
      "[LightGBM] [Warning] No further splits with positive gain, best gain: -inf\n",
      "[LightGBM] [Warning] No further splits with positive gain, best gain: -inf\n",
      "[LightGBM] [Warning] No further splits with positive gain, best gain: -inf\n",
      "[LightGBM] [Warning] No further splits with positive gain, best gain: -inf\n",
      "[LightGBM] [Warning] No further splits with positive gain, best gain: -inf\n",
      "[LightGBM] [Warning] No further splits with positive gain, best gain: -inf\n",
      "[LightGBM] [Warning] No further splits with positive gain, best gain: -inf\n",
      "[LightGBM] [Warning] No further splits with positive gain, best gain: -inf\n",
      "[LightGBM] [Warning] No further splits with positive gain, best gain: -inf\n",
      "[LightGBM] [Warning] No further splits with positive gain, best gain: -inf\n",
      "[LightGBM] [Warning] No further splits with positive gain, best gain: -inf\n",
      "[LightGBM] [Warning] No further splits with positive gain, best gain: -inf\n",
      "[LightGBM] [Warning] No further splits with positive gain, best gain: -inf\n",
      "[LightGBM] [Warning] No further splits with positive gain, best gain: -inf\n",
      "[LightGBM] [Warning] No further splits with positive gain, best gain: -inf\n",
      "[LightGBM] [Warning] No further splits with positive gain, best gain: -inf\n",
      "[LightGBM] [Warning] No further splits with positive gain, best gain: -inf\n",
      "[LightGBM] [Warning] No further splits with positive gain, best gain: -inf\n",
      "[LightGBM] [Warning] No further splits with positive gain, best gain: -inf\n",
      "[LightGBM] [Warning] No further splits with positive gain, best gain: -inf\n",
      "[LightGBM] [Warning] No further splits with positive gain, best gain: -inf\n",
      "[LightGBM] [Warning] No further splits with positive gain, best gain: -inf\n",
      "[LightGBM] [Warning] No further splits with positive gain, best gain: -inf\n",
      "[LightGBM] [Warning] No further splits with positive gain, best gain: -inf\n",
      "[LightGBM] [Warning] No further splits with positive gain, best gain: -inf\n",
      "[LightGBM] [Warning] No further splits with positive gain, best gain: -inf\n",
      "[LightGBM] [Warning] No further splits with positive gain, best gain: -inf\n",
      "[LightGBM] [Warning] No further splits with positive gain, best gain: -inf\n",
      "[LightGBM] [Warning] No further splits with positive gain, best gain: -inf\n",
      "[LightGBM] [Warning] No further splits with positive gain, best gain: -inf\n",
      "[LightGBM] [Warning] No further splits with positive gain, best gain: -inf\n",
      "[LightGBM] [Warning] No further splits with positive gain, best gain: -inf\n",
      "[LightGBM] [Warning] No further splits with positive gain, best gain: -inf\n",
      "[LightGBM] [Warning] No further splits with positive gain, best gain: -inf\n",
      "[LightGBM] [Warning] No further splits with positive gain, best gain: -inf\n",
      "[LightGBM] [Warning] No further splits with positive gain, best gain: -inf\n",
      "[LightGBM] [Warning] No further splits with positive gain, best gain: -inf\n",
      "[LightGBM] [Warning] No further splits with positive gain, best gain: -inf\n",
      "[LightGBM] [Warning] No further splits with positive gain, best gain: -inf\n",
      "[LightGBM] [Warning] No further splits with positive gain, best gain: -inf\n",
      "[LightGBM] [Warning] No further splits with positive gain, best gain: -inf\n",
      "[LightGBM] [Warning] No further splits with positive gain, best gain: -inf\n",
      "[LightGBM] [Warning] No further splits with positive gain, best gain: -inf\n",
      "[LightGBM] [Warning] No further splits with positive gain, best gain: -inf\n",
      "[LightGBM] [Warning] No further splits with positive gain, best gain: -inf\n",
      "[LightGBM] [Warning] No further splits with positive gain, best gain: -inf\n",
      "[LightGBM] [Warning] No further splits with positive gain, best gain: -inf\n",
      "[LightGBM] [Warning] No further splits with positive gain, best gain: -inf\n",
      "[LightGBM] [Warning] No further splits with positive gain, best gain: -inf\n",
      "[LightGBM] [Warning] No further splits with positive gain, best gain: -inf\n",
      "[LightGBM] [Warning] No further splits with positive gain, best gain: -inf\n",
      "[LightGBM] [Warning] No further splits with positive gain, best gain: -inf\n",
      "[LightGBM] [Warning] No further splits with positive gain, best gain: -inf\n",
      "[LightGBM] [Warning] No further splits with positive gain, best gain: -inf\n",
      "[LightGBM] [Warning] No further splits with positive gain, best gain: -inf\n",
      "[LightGBM] [Warning] No further splits with positive gain, best gain: -inf\n",
      "[LightGBM] [Warning] No further splits with positive gain, best gain: -inf\n",
      "[LightGBM] [Warning] No further splits with positive gain, best gain: -inf\n",
      "[LightGBM] [Warning] No further splits with positive gain, best gain: -inf\n",
      "[LightGBM] [Warning] No further splits with positive gain, best gain: -inf\n",
      "[LightGBM] [Warning] No further splits with positive gain, best gain: -inf\n",
      "[LightGBM] [Warning] No further splits with positive gain, best gain: -inf\n",
      "[LightGBM] [Warning] No further splits with positive gain, best gain: -inf\n",
      "[LightGBM] [Warning] No further splits with positive gain, best gain: -inf\n",
      "[LightGBM] [Warning] No further splits with positive gain, best gain: -inf\n",
      "[LightGBM] [Warning] No further splits with positive gain, best gain: -inf\n",
      "[LightGBM] [Warning] No further splits with positive gain, best gain: -inf\n",
      "[LightGBM] [Warning] No further splits with positive gain, best gain: -inf\n",
      "[LightGBM] [Warning] No further splits with positive gain, best gain: -inf\n",
      "[LightGBM] [Warning] No further splits with positive gain, best gain: -inf\n",
      "[LightGBM] [Warning] No further splits with positive gain, best gain: -inf\n",
      "[LightGBM] [Warning] No further splits with positive gain, best gain: -inf\n",
      "[LightGBM] [Warning] No further splits with positive gain, best gain: -inf\n",
      "[LightGBM] [Warning] No further splits with positive gain, best gain: -inf\n",
      "[LightGBM] [Warning] No further splits with positive gain, best gain: -inf\n",
      "[LightGBM] [Warning] No further splits with positive gain, best gain: -inf\n",
      "[LightGBM] [Warning] No further splits with positive gain, best gain: -inf\n",
      "[LightGBM] [Warning] No further splits with positive gain, best gain: -inf\n",
      "[LightGBM] [Warning] No further splits with positive gain, best gain: -inf\n",
      "[LightGBM] [Warning] No further splits with positive gain, best gain: -inf\n",
      "[LightGBM] [Warning] No further splits with positive gain, best gain: -inf\n",
      "[LightGBM] [Warning] No further splits with positive gain, best gain: -inf\n",
      "[LightGBM] [Warning] No further splits with positive gain, best gain: -inf\n",
      "[LightGBM] [Warning] No further splits with positive gain, best gain: -inf\n",
      "[LightGBM] [Warning] No further splits with positive gain, best gain: -inf\n",
      "[LightGBM] [Warning] No further splits with positive gain, best gain: -inf\n",
      "[LightGBM] [Warning] No further splits with positive gain, best gain: -inf\n",
      "[LightGBM] [Warning] No further splits with positive gain, best gain: -inf\n",
      "[LightGBM] [Warning] No further splits with positive gain, best gain: -inf\n",
      "[LightGBM] [Warning] No further splits with positive gain, best gain: -inf\n",
      "[LightGBM] [Warning] No further splits with positive gain, best gain: -inf\n",
      "[LightGBM] [Warning] No further splits with positive gain, best gain: -inf\n",
      "[LightGBM] [Warning] No further splits with positive gain, best gain: -inf\n",
      "[LightGBM] [Warning] No further splits with positive gain, best gain: -inf\n",
      "[LightGBM] [Warning] No further splits with positive gain, best gain: -inf\n",
      "[LightGBM] [Warning] No further splits with positive gain, best gain: -inf\n",
      "[LightGBM] [Warning] No further splits with positive gain, best gain: -inf\n",
      "[LightGBM] [Warning] No further splits with positive gain, best gain: -inf\n",
      "[LightGBM] [Warning] No further splits with positive gain, best gain: -inf\n",
      "[LightGBM] [Warning] No further splits with positive gain, best gain: -inf\n",
      "[LightGBM] [Warning] No further splits with positive gain, best gain: -inf\n",
      "[LightGBM] [Warning] No further splits with positive gain, best gain: -inf\n",
      "[LightGBM] [Warning] No further splits with positive gain, best gain: -inf\n",
      "[LightGBM] [Warning] No further splits with positive gain, best gain: -inf\n",
      "[LightGBM] [Warning] No further splits with positive gain, best gain: -inf\n",
      "[LightGBM] [Warning] No further splits with positive gain, best gain: -inf\n",
      "[LightGBM] [Warning] No further splits with positive gain, best gain: -inf\n",
      "[LightGBM] [Warning] No further splits with positive gain, best gain: -inf\n",
      "RandomForest - Roc Auc Score:  1.0\n"
     ]
    }
   ],
   "source": [
    "#  LightGBM3\n",
    "lgb_classifier3 = lgb.LGBMClassifier( \n",
    "    n_estimators=200, \n",
    "    learning_rate=0.2, \n",
    "    num_leaves=40,\n",
    "    max_depth=-20,\n",
    "    min_child_samples=30,\n",
    "    subsample=1.0,\n",
    "    colsample_bytree=1.0,\n",
    "    reg_alpha=1,\n",
    "    reg_lambda=1    \n",
    "    )\n",
    "\n",
    "lgb_classifier3 .fit(X_train_scaled,y_train)\n",
    "\n",
    "lgb_predicts3 = lgb_classifier3.predict(X_test_scaled)\n",
    "\n",
    "acc = roc_auc_score(lgb_predicts3,y_test)\n",
    "print(\"RandomForest - Roc Auc Score: \",acc)"
   ]
  },
  {
   "cell_type": "code",
   "execution_count": 96,
   "metadata": {},
   "outputs": [
    {
     "name": "stdout",
     "output_type": "stream",
     "text": [
      "[LightGBM] [Info] Number of positive: 6448, number of negative: 11552\n",
      "[LightGBM] [Info] Auto-choosing col-wise multi-threading, the overhead of testing was 0.000713 seconds.\n",
      "You can set `force_col_wise=true` to remove the overhead.\n",
      "[LightGBM] [Info] Total Bins 1653\n",
      "[LightGBM] [Info] Number of data points in the train set: 18000, number of used features: 14\n",
      "[LightGBM] [Info] [binary:BoostFromScore]: pavg=0.358222 -> initscore=-0.583089\n",
      "[LightGBM] [Info] Start training from score -0.583089\n",
      "[LightGBM] [Warning] No further splits with positive gain, best gain: -inf\n",
      "[LightGBM] [Warning] No further splits with positive gain, best gain: -inf\n",
      "[LightGBM] [Warning] No further splits with positive gain, best gain: -inf\n",
      "[LightGBM] [Warning] No further splits with positive gain, best gain: -inf\n",
      "[LightGBM] [Warning] No further splits with positive gain, best gain: -inf\n",
      "[LightGBM] [Warning] No further splits with positive gain, best gain: -inf\n",
      "[LightGBM] [Warning] No further splits with positive gain, best gain: -inf\n",
      "[LightGBM] [Warning] No further splits with positive gain, best gain: -inf\n",
      "[LightGBM] [Warning] No further splits with positive gain, best gain: -inf\n",
      "[LightGBM] [Warning] No further splits with positive gain, best gain: -inf\n",
      "[LightGBM] [Warning] No further splits with positive gain, best gain: -inf\n",
      "[LightGBM] [Warning] No further splits with positive gain, best gain: -inf\n",
      "[LightGBM] [Warning] No further splits with positive gain, best gain: -inf\n",
      "[LightGBM] [Warning] No further splits with positive gain, best gain: -inf\n",
      "[LightGBM] [Warning] No further splits with positive gain, best gain: -inf\n",
      "[LightGBM] [Warning] No further splits with positive gain, best gain: -inf\n",
      "[LightGBM] [Warning] No further splits with positive gain, best gain: -inf\n",
      "[LightGBM] [Warning] No further splits with positive gain, best gain: -inf\n",
      "[LightGBM] [Warning] No further splits with positive gain, best gain: -inf\n",
      "[LightGBM] [Warning] No further splits with positive gain, best gain: -inf\n",
      "[LightGBM] [Warning] No further splits with positive gain, best gain: -inf\n",
      "[LightGBM] [Warning] No further splits with positive gain, best gain: -inf\n",
      "[LightGBM] [Warning] No further splits with positive gain, best gain: -inf\n",
      "[LightGBM] [Warning] No further splits with positive gain, best gain: -inf\n",
      "[LightGBM] [Warning] No further splits with positive gain, best gain: -inf\n",
      "[LightGBM] [Warning] No further splits with positive gain, best gain: -inf\n",
      "[LightGBM] [Warning] No further splits with positive gain, best gain: -inf\n",
      "[LightGBM] [Warning] No further splits with positive gain, best gain: -inf\n",
      "[LightGBM] [Warning] No further splits with positive gain, best gain: -inf\n",
      "[LightGBM] [Warning] No further splits with positive gain, best gain: -inf\n",
      "[LightGBM] [Warning] No further splits with positive gain, best gain: -inf\n",
      "[LightGBM] [Warning] No further splits with positive gain, best gain: -inf\n",
      "[LightGBM] [Warning] No further splits with positive gain, best gain: -inf\n",
      "[LightGBM] [Warning] No further splits with positive gain, best gain: -inf\n",
      "[LightGBM] [Warning] No further splits with positive gain, best gain: -inf\n",
      "[LightGBM] [Warning] No further splits with positive gain, best gain: -inf\n",
      "[LightGBM] [Warning] No further splits with positive gain, best gain: -inf\n",
      "[LightGBM] [Warning] No further splits with positive gain, best gain: -inf\n",
      "[LightGBM] [Warning] No further splits with positive gain, best gain: -inf\n",
      "[LightGBM] [Warning] No further splits with positive gain, best gain: -inf\n",
      "[LightGBM] [Warning] No further splits with positive gain, best gain: -inf\n",
      "[LightGBM] [Warning] No further splits with positive gain, best gain: -inf\n",
      "[LightGBM] [Warning] No further splits with positive gain, best gain: -inf\n",
      "[LightGBM] [Warning] No further splits with positive gain, best gain: -inf\n",
      "[LightGBM] [Warning] No further splits with positive gain, best gain: -inf\n",
      "[LightGBM] [Warning] No further splits with positive gain, best gain: -inf\n",
      "[LightGBM] [Warning] No further splits with positive gain, best gain: -inf\n",
      "[LightGBM] [Warning] No further splits with positive gain, best gain: -inf\n",
      "[LightGBM] [Warning] No further splits with positive gain, best gain: -inf\n",
      "[LightGBM] [Warning] No further splits with positive gain, best gain: -inf\n",
      "[LightGBM] [Warning] No further splits with positive gain, best gain: -inf\n",
      "[LightGBM] [Warning] No further splits with positive gain, best gain: -inf\n",
      "[LightGBM] [Warning] No further splits with positive gain, best gain: -inf\n",
      "[LightGBM] [Warning] No further splits with positive gain, best gain: -inf\n",
      "[LightGBM] [Warning] No further splits with positive gain, best gain: -inf\n",
      "[LightGBM] [Warning] No further splits with positive gain, best gain: -inf\n",
      "[LightGBM] [Warning] No further splits with positive gain, best gain: -inf\n",
      "[LightGBM] [Warning] No further splits with positive gain, best gain: -inf\n",
      "[LightGBM] [Warning] No further splits with positive gain, best gain: -inf\n",
      "[LightGBM] [Warning] No further splits with positive gain, best gain: -inf\n",
      "[LightGBM] [Warning] No further splits with positive gain, best gain: -inf\n",
      "[LightGBM] [Warning] No further splits with positive gain, best gain: -inf\n",
      "[LightGBM] [Warning] No further splits with positive gain, best gain: -inf\n",
      "[LightGBM] [Warning] No further splits with positive gain, best gain: -inf\n",
      "[LightGBM] [Warning] No further splits with positive gain, best gain: -inf\n",
      "[LightGBM] [Warning] No further splits with positive gain, best gain: -inf\n",
      "[LightGBM] [Warning] No further splits with positive gain, best gain: -inf\n",
      "[LightGBM] [Warning] No further splits with positive gain, best gain: -inf\n",
      "[LightGBM] [Warning] No further splits with positive gain, best gain: -inf\n",
      "[LightGBM] [Warning] No further splits with positive gain, best gain: -inf\n",
      "[LightGBM] [Warning] No further splits with positive gain, best gain: -inf\n",
      "[LightGBM] [Warning] No further splits with positive gain, best gain: -inf\n",
      "[LightGBM] [Warning] No further splits with positive gain, best gain: -inf\n",
      "[LightGBM] [Warning] No further splits with positive gain, best gain: -inf\n",
      "[LightGBM] [Warning] No further splits with positive gain, best gain: -inf\n",
      "[LightGBM] [Warning] No further splits with positive gain, best gain: -inf\n",
      "[LightGBM] [Warning] No further splits with positive gain, best gain: -inf\n",
      "[LightGBM] [Warning] No further splits with positive gain, best gain: -inf\n",
      "[LightGBM] [Warning] No further splits with positive gain, best gain: -inf\n",
      "[LightGBM] [Warning] No further splits with positive gain, best gain: -inf\n",
      "[LightGBM] [Warning] No further splits with positive gain, best gain: -inf\n",
      "[LightGBM] [Warning] No further splits with positive gain, best gain: -inf\n",
      "[LightGBM] [Warning] No further splits with positive gain, best gain: -inf\n",
      "[LightGBM] [Warning] No further splits with positive gain, best gain: -inf\n",
      "[LightGBM] [Warning] No further splits with positive gain, best gain: -inf\n",
      "[LightGBM] [Warning] No further splits with positive gain, best gain: -inf\n",
      "[LightGBM] [Warning] No further splits with positive gain, best gain: -inf\n",
      "[LightGBM] [Warning] No further splits with positive gain, best gain: -inf\n",
      "[LightGBM] [Warning] No further splits with positive gain, best gain: -inf\n",
      "[LightGBM] [Warning] No further splits with positive gain, best gain: -inf\n",
      "[LightGBM] [Warning] No further splits with positive gain, best gain: -inf\n",
      "[LightGBM] [Warning] No further splits with positive gain, best gain: -inf\n",
      "[LightGBM] [Warning] No further splits with positive gain, best gain: -inf\n",
      "[LightGBM] [Warning] No further splits with positive gain, best gain: -inf\n",
      "[LightGBM] [Warning] No further splits with positive gain, best gain: -inf\n",
      "[LightGBM] [Warning] No further splits with positive gain, best gain: -inf\n",
      "[LightGBM] [Warning] No further splits with positive gain, best gain: -inf\n",
      "[LightGBM] [Warning] No further splits with positive gain, best gain: -inf\n",
      "[LightGBM] [Warning] No further splits with positive gain, best gain: -inf\n",
      "[LightGBM] [Warning] No further splits with positive gain, best gain: -inf\n",
      "[LightGBM] [Warning] No further splits with positive gain, best gain: -inf\n",
      "[LightGBM] [Warning] No further splits with positive gain, best gain: -inf\n",
      "[LightGBM] [Warning] No further splits with positive gain, best gain: -inf\n",
      "[LightGBM] [Warning] No further splits with positive gain, best gain: -inf\n",
      "[LightGBM] [Warning] No further splits with positive gain, best gain: -inf\n",
      "[LightGBM] [Warning] No further splits with positive gain, best gain: -inf\n",
      "[LightGBM] [Warning] No further splits with positive gain, best gain: -inf\n",
      "[LightGBM] [Warning] No further splits with positive gain, best gain: -inf\n",
      "[LightGBM] [Warning] No further splits with positive gain, best gain: -inf\n",
      "[LightGBM] [Warning] No further splits with positive gain, best gain: -inf\n",
      "[LightGBM] [Warning] No further splits with positive gain, best gain: -inf\n",
      "[LightGBM] [Warning] No further splits with positive gain, best gain: -inf\n",
      "[LightGBM] [Warning] No further splits with positive gain, best gain: -inf\n",
      "[LightGBM] [Warning] No further splits with positive gain, best gain: -inf\n",
      "[LightGBM] [Warning] No further splits with positive gain, best gain: -inf\n",
      "[LightGBM] [Warning] No further splits with positive gain, best gain: -inf\n",
      "[LightGBM] [Warning] No further splits with positive gain, best gain: -inf\n",
      "[LightGBM] [Warning] No further splits with positive gain, best gain: -inf\n",
      "[LightGBM] [Warning] No further splits with positive gain, best gain: -inf\n",
      "[LightGBM] [Warning] No further splits with positive gain, best gain: -inf\n",
      "[LightGBM] [Warning] No further splits with positive gain, best gain: -inf\n",
      "[LightGBM] [Warning] No further splits with positive gain, best gain: -inf\n",
      "[LightGBM] [Warning] No further splits with positive gain, best gain: -inf\n",
      "[LightGBM] [Warning] No further splits with positive gain, best gain: -inf\n",
      "[LightGBM] [Warning] No further splits with positive gain, best gain: -inf\n",
      "[LightGBM] [Warning] No further splits with positive gain, best gain: -inf\n",
      "[LightGBM] [Warning] No further splits with positive gain, best gain: -inf\n",
      "[LightGBM] [Warning] No further splits with positive gain, best gain: -inf\n",
      "[LightGBM] [Warning] No further splits with positive gain, best gain: -inf\n",
      "[LightGBM] [Warning] No further splits with positive gain, best gain: -inf\n",
      "[LightGBM] [Warning] No further splits with positive gain, best gain: -inf\n",
      "[LightGBM] [Warning] No further splits with positive gain, best gain: -inf\n",
      "[LightGBM] [Warning] No further splits with positive gain, best gain: -inf\n",
      "[LightGBM] [Warning] No further splits with positive gain, best gain: -inf\n",
      "[LightGBM] [Warning] No further splits with positive gain, best gain: -inf\n",
      "[LightGBM] [Warning] No further splits with positive gain, best gain: -inf\n",
      "[LightGBM] [Warning] No further splits with positive gain, best gain: -inf\n",
      "[LightGBM] [Warning] No further splits with positive gain, best gain: -inf\n",
      "[LightGBM] [Warning] No further splits with positive gain, best gain: -inf\n",
      "[LightGBM] [Warning] No further splits with positive gain, best gain: -inf\n",
      "[LightGBM] [Warning] No further splits with positive gain, best gain: -inf\n",
      "[LightGBM] [Warning] No further splits with positive gain, best gain: -inf\n",
      "[LightGBM] [Warning] No further splits with positive gain, best gain: -inf\n",
      "[LightGBM] [Warning] No further splits with positive gain, best gain: -inf\n",
      "[LightGBM] [Warning] No further splits with positive gain, best gain: -inf\n",
      "[LightGBM] [Warning] No further splits with positive gain, best gain: -inf\n",
      "[LightGBM] [Warning] No further splits with positive gain, best gain: -inf\n",
      "[LightGBM] [Warning] No further splits with positive gain, best gain: -inf\n",
      "[LightGBM] [Warning] No further splits with positive gain, best gain: -inf\n",
      "[LightGBM] [Warning] No further splits with positive gain, best gain: -inf\n",
      "[LightGBM] [Warning] No further splits with positive gain, best gain: -inf\n",
      "[LightGBM] [Warning] No further splits with positive gain, best gain: -inf\n",
      "[LightGBM] [Warning] No further splits with positive gain, best gain: -inf\n",
      "[LightGBM] [Warning] No further splits with positive gain, best gain: -inf\n",
      "[LightGBM] [Warning] No further splits with positive gain, best gain: -inf\n",
      "[LightGBM] [Warning] No further splits with positive gain, best gain: -inf\n",
      "[LightGBM] [Warning] No further splits with positive gain, best gain: -inf\n",
      "[LightGBM] [Warning] No further splits with positive gain, best gain: -inf\n",
      "[LightGBM] [Warning] No further splits with positive gain, best gain: -inf\n",
      "[LightGBM] [Warning] No further splits with positive gain, best gain: -inf\n",
      "[LightGBM] [Warning] No further splits with positive gain, best gain: -inf\n",
      "[LightGBM] [Warning] No further splits with positive gain, best gain: -inf\n",
      "[LightGBM] [Warning] No further splits with positive gain, best gain: -inf\n",
      "[LightGBM] [Warning] No further splits with positive gain, best gain: -inf\n",
      "[LightGBM] [Warning] No further splits with positive gain, best gain: -inf\n",
      "[LightGBM] [Warning] No further splits with positive gain, best gain: -inf\n",
      "[LightGBM] [Warning] No further splits with positive gain, best gain: -inf\n",
      "[LightGBM] [Warning] No further splits with positive gain, best gain: -inf\n",
      "[LightGBM] [Warning] No further splits with positive gain, best gain: -inf\n",
      "[LightGBM] [Warning] No further splits with positive gain, best gain: -inf\n",
      "[LightGBM] [Warning] No further splits with positive gain, best gain: -inf\n",
      "[LightGBM] [Warning] No further splits with positive gain, best gain: -inf\n",
      "[LightGBM] [Warning] No further splits with positive gain, best gain: -inf\n",
      "[LightGBM] [Warning] No further splits with positive gain, best gain: -inf\n",
      "[LightGBM] [Warning] No further splits with positive gain, best gain: -inf\n",
      "[LightGBM] [Warning] No further splits with positive gain, best gain: -inf\n",
      "[LightGBM] [Warning] No further splits with positive gain, best gain: -inf\n",
      "[LightGBM] [Warning] No further splits with positive gain, best gain: -inf\n",
      "[LightGBM] [Warning] No further splits with positive gain, best gain: -inf\n",
      "[LightGBM] [Warning] No further splits with positive gain, best gain: -inf\n",
      "[LightGBM] [Warning] No further splits with positive gain, best gain: -inf\n",
      "[LightGBM] [Warning] No further splits with positive gain, best gain: -inf\n",
      "[LightGBM] [Warning] No further splits with positive gain, best gain: -inf\n",
      "[LightGBM] [Warning] No further splits with positive gain, best gain: -inf\n",
      "[LightGBM] [Warning] No further splits with positive gain, best gain: -inf\n",
      "[LightGBM] [Warning] No further splits with positive gain, best gain: -inf\n",
      "[LightGBM] [Warning] No further splits with positive gain, best gain: -inf\n",
      "[LightGBM] [Warning] No further splits with positive gain, best gain: -inf\n",
      "[LightGBM] [Warning] No further splits with positive gain, best gain: -inf\n",
      "[LightGBM] [Warning] No further splits with positive gain, best gain: -inf\n",
      "[LightGBM] [Warning] No further splits with positive gain, best gain: -inf\n",
      "[LightGBM] [Warning] No further splits with positive gain, best gain: -inf\n",
      "[LightGBM] [Warning] No further splits with positive gain, best gain: -inf\n",
      "[LightGBM] [Warning] No further splits with positive gain, best gain: -inf\n",
      "[LightGBM] [Warning] No further splits with positive gain, best gain: -inf\n",
      "[LightGBM] [Warning] No further splits with positive gain, best gain: -inf\n",
      "[LightGBM] [Warning] No further splits with positive gain, best gain: -inf\n",
      "[LightGBM] [Warning] No further splits with positive gain, best gain: -inf\n",
      "[LightGBM] [Warning] No further splits with positive gain, best gain: -inf\n",
      "[LightGBM] [Warning] No further splits with positive gain, best gain: -inf\n",
      "RandomForest - Roc Auc Score:  1.0\n"
     ]
    }
   ],
   "source": [
    "#  LightGBM4\n",
    "lgb_classifier4 = lgb.LGBMClassifier( \n",
    "    n_estimators=200, \n",
    "    learning_rate=0.2,  \n",
    "    min_child_samples=30,\n",
    "    subsample=1.0,\n",
    "    colsample_bytree=1.0, \n",
    "    reg_lambda=1    \n",
    "    )\n",
    "\n",
    "lgb_classifier4 .fit(X_train_scaled,y_train)\n",
    "\n",
    "lgb_predicts4 = lgb_classifier4.predict(X_test_scaled)\n",
    "\n",
    "acc = roc_auc_score(lgb_predicts4,y_test)\n",
    "print(\"RandomForest - Roc Auc Score: \",acc)"
   ]
  },
  {
   "cell_type": "code",
   "execution_count": 97,
   "metadata": {},
   "outputs": [
    {
     "name": "stdout",
     "output_type": "stream",
     "text": [
      "[LightGBM] [Info] Number of positive: 6448, number of negative: 11552\n",
      "[LightGBM] [Info] Auto-choosing col-wise multi-threading, the overhead of testing was 0.000773 seconds.\n",
      "You can set `force_col_wise=true` to remove the overhead.\n",
      "[LightGBM] [Info] Total Bins 1653\n",
      "[LightGBM] [Info] Number of data points in the train set: 18000, number of used features: 14\n",
      "[LightGBM] [Info] [binary:BoostFromScore]: pavg=0.358222 -> initscore=-0.583089\n",
      "[LightGBM] [Info] Start training from score -0.583089\n",
      "[LightGBM] [Warning] No further splits with positive gain, best gain: -inf\n",
      "[LightGBM] [Warning] No further splits with positive gain, best gain: -inf\n",
      "[LightGBM] [Warning] No further splits with positive gain, best gain: -inf\n",
      "[LightGBM] [Warning] No further splits with positive gain, best gain: -inf\n",
      "[LightGBM] [Warning] No further splits with positive gain, best gain: -inf\n",
      "[LightGBM] [Warning] No further splits with positive gain, best gain: -inf\n",
      "[LightGBM] [Warning] No further splits with positive gain, best gain: -inf\n",
      "[LightGBM] [Warning] No further splits with positive gain, best gain: -inf\n",
      "[LightGBM] [Warning] No further splits with positive gain, best gain: -inf\n",
      "[LightGBM] [Warning] No further splits with positive gain, best gain: -inf\n",
      "[LightGBM] [Warning] No further splits with positive gain, best gain: -inf\n",
      "[LightGBM] [Warning] No further splits with positive gain, best gain: -inf\n",
      "[LightGBM] [Warning] No further splits with positive gain, best gain: -inf\n",
      "[LightGBM] [Warning] No further splits with positive gain, best gain: -inf\n",
      "[LightGBM] [Warning] No further splits with positive gain, best gain: -inf\n",
      "[LightGBM] [Warning] No further splits with positive gain, best gain: -inf\n",
      "[LightGBM] [Warning] No further splits with positive gain, best gain: -inf\n",
      "[LightGBM] [Warning] No further splits with positive gain, best gain: -inf\n",
      "[LightGBM] [Warning] No further splits with positive gain, best gain: -inf\n",
      "[LightGBM] [Warning] No further splits with positive gain, best gain: -inf\n",
      "[LightGBM] [Warning] No further splits with positive gain, best gain: -inf\n",
      "[LightGBM] [Warning] No further splits with positive gain, best gain: -inf\n",
      "[LightGBM] [Warning] No further splits with positive gain, best gain: -inf\n",
      "[LightGBM] [Warning] No further splits with positive gain, best gain: -inf\n",
      "[LightGBM] [Warning] No further splits with positive gain, best gain: -inf\n",
      "[LightGBM] [Warning] No further splits with positive gain, best gain: -inf\n",
      "[LightGBM] [Warning] No further splits with positive gain, best gain: -inf\n",
      "[LightGBM] [Warning] No further splits with positive gain, best gain: -inf\n",
      "[LightGBM] [Warning] No further splits with positive gain, best gain: -inf\n",
      "[LightGBM] [Warning] No further splits with positive gain, best gain: -inf\n",
      "[LightGBM] [Warning] No further splits with positive gain, best gain: -inf\n",
      "[LightGBM] [Warning] No further splits with positive gain, best gain: -inf\n",
      "[LightGBM] [Warning] No further splits with positive gain, best gain: -inf\n",
      "[LightGBM] [Warning] No further splits with positive gain, best gain: -inf\n",
      "[LightGBM] [Warning] No further splits with positive gain, best gain: -inf\n",
      "[LightGBM] [Warning] No further splits with positive gain, best gain: -inf\n",
      "[LightGBM] [Warning] No further splits with positive gain, best gain: -inf\n",
      "[LightGBM] [Warning] No further splits with positive gain, best gain: -inf\n",
      "[LightGBM] [Warning] No further splits with positive gain, best gain: -inf\n",
      "[LightGBM] [Warning] No further splits with positive gain, best gain: -inf\n",
      "[LightGBM] [Warning] No further splits with positive gain, best gain: -inf\n",
      "[LightGBM] [Warning] No further splits with positive gain, best gain: -inf\n",
      "[LightGBM] [Warning] No further splits with positive gain, best gain: -inf\n",
      "[LightGBM] [Warning] No further splits with positive gain, best gain: -inf\n",
      "[LightGBM] [Warning] No further splits with positive gain, best gain: -inf\n",
      "[LightGBM] [Warning] No further splits with positive gain, best gain: -inf\n",
      "[LightGBM] [Warning] No further splits with positive gain, best gain: -inf\n",
      "[LightGBM] [Warning] No further splits with positive gain, best gain: -inf\n",
      "[LightGBM] [Warning] No further splits with positive gain, best gain: -inf\n",
      "[LightGBM] [Warning] No further splits with positive gain, best gain: -inf\n",
      "[LightGBM] [Warning] No further splits with positive gain, best gain: -inf\n",
      "[LightGBM] [Warning] No further splits with positive gain, best gain: -inf\n",
      "[LightGBM] [Warning] No further splits with positive gain, best gain: -inf\n",
      "[LightGBM] [Warning] No further splits with positive gain, best gain: -inf\n",
      "[LightGBM] [Warning] No further splits with positive gain, best gain: -inf\n",
      "[LightGBM] [Warning] No further splits with positive gain, best gain: -inf\n",
      "[LightGBM] [Warning] No further splits with positive gain, best gain: -inf\n",
      "[LightGBM] [Warning] No further splits with positive gain, best gain: -inf\n",
      "[LightGBM] [Warning] No further splits with positive gain, best gain: -inf\n",
      "[LightGBM] [Warning] No further splits with positive gain, best gain: -inf\n",
      "[LightGBM] [Warning] No further splits with positive gain, best gain: -inf\n",
      "[LightGBM] [Warning] No further splits with positive gain, best gain: -inf\n",
      "[LightGBM] [Warning] No further splits with positive gain, best gain: -inf\n",
      "[LightGBM] [Warning] No further splits with positive gain, best gain: -inf\n",
      "[LightGBM] [Warning] No further splits with positive gain, best gain: -inf\n",
      "[LightGBM] [Warning] No further splits with positive gain, best gain: -inf\n",
      "[LightGBM] [Warning] No further splits with positive gain, best gain: -inf\n",
      "[LightGBM] [Warning] No further splits with positive gain, best gain: -inf\n",
      "[LightGBM] [Warning] No further splits with positive gain, best gain: -inf\n",
      "[LightGBM] [Warning] No further splits with positive gain, best gain: -inf\n",
      "[LightGBM] [Warning] No further splits with positive gain, best gain: -inf\n",
      "[LightGBM] [Warning] No further splits with positive gain, best gain: -inf\n",
      "[LightGBM] [Warning] No further splits with positive gain, best gain: -inf\n",
      "[LightGBM] [Warning] No further splits with positive gain, best gain: -inf\n",
      "[LightGBM] [Warning] No further splits with positive gain, best gain: -inf\n",
      "[LightGBM] [Warning] No further splits with positive gain, best gain: -inf\n",
      "[LightGBM] [Warning] No further splits with positive gain, best gain: -inf\n",
      "[LightGBM] [Warning] No further splits with positive gain, best gain: -inf\n",
      "[LightGBM] [Warning] No further splits with positive gain, best gain: -inf\n",
      "[LightGBM] [Warning] No further splits with positive gain, best gain: -inf\n",
      "[LightGBM] [Warning] No further splits with positive gain, best gain: -inf\n",
      "[LightGBM] [Warning] No further splits with positive gain, best gain: -inf\n",
      "[LightGBM] [Warning] No further splits with positive gain, best gain: -inf\n",
      "[LightGBM] [Warning] No further splits with positive gain, best gain: -inf\n",
      "[LightGBM] [Warning] No further splits with positive gain, best gain: -inf\n",
      "[LightGBM] [Warning] No further splits with positive gain, best gain: -inf\n",
      "[LightGBM] [Warning] No further splits with positive gain, best gain: -inf\n",
      "[LightGBM] [Warning] No further splits with positive gain, best gain: -inf\n",
      "[LightGBM] [Warning] No further splits with positive gain, best gain: -inf\n",
      "[LightGBM] [Warning] No further splits with positive gain, best gain: -inf\n",
      "[LightGBM] [Warning] No further splits with positive gain, best gain: -inf\n",
      "[LightGBM] [Warning] No further splits with positive gain, best gain: -inf\n",
      "[LightGBM] [Warning] No further splits with positive gain, best gain: -inf\n",
      "[LightGBM] [Warning] No further splits with positive gain, best gain: -inf\n",
      "[LightGBM] [Warning] No further splits with positive gain, best gain: -inf\n",
      "[LightGBM] [Warning] No further splits with positive gain, best gain: -inf\n",
      "[LightGBM] [Warning] No further splits with positive gain, best gain: -inf\n",
      "[LightGBM] [Warning] No further splits with positive gain, best gain: -inf\n",
      "[LightGBM] [Warning] No further splits with positive gain, best gain: -inf\n",
      "[LightGBM] [Warning] No further splits with positive gain, best gain: -inf\n",
      "RandomForest - Roc Auc Score:  1.0\n"
     ]
    }
   ],
   "source": [
    "#  LightGBM5\n",
    "lgb_classifier5 = lgb.LGBMClassifier( \n",
    "    n_estimators=100, \n",
    "    min_child_samples=30,\n",
    "    subsample=1.0,\n",
    "    colsample_bytree=1.0,\n",
    "    reg_alpha=1,\n",
    "    reg_lambda=1    \n",
    "    )\n",
    "\n",
    "lgb_classifier5 .fit(X_train_scaled,y_train)\n",
    "\n",
    "lgb_predicts5 = lgb_classifier5.predict(X_test_scaled)\n",
    "\n",
    "acc = roc_auc_score(lgb_predicts5,y_test)\n",
    "print(\"RandomForest - Roc Auc Score: \",acc)"
   ]
  }
 ],
 "metadata": {
  "kernelspec": {
   "display_name": "base",
   "language": "python",
   "name": "python3"
  },
  "language_info": {
   "codemirror_mode": {
    "name": "ipython",
    "version": 3
   },
   "file_extension": ".py",
   "mimetype": "text/x-python",
   "name": "python",
   "nbconvert_exporter": "python",
   "pygments_lexer": "ipython3",
   "version": "3.11.5"
  }
 },
 "nbformat": 4,
 "nbformat_minor": 2
}
